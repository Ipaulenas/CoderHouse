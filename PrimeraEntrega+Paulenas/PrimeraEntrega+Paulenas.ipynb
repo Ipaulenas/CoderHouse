{
  "nbformat": 4,
  "nbformat_minor": 0,
  "metadata": {
    "colab": {
      "provenance": [],
      "collapsed_sections": [
        "JuGTy-HvGK14",
        "W0pF_vK69h6K",
        "6HTvEY1C_jhH",
        "PA7fPi7pgNs5",
        "x5uCmUNViVO5",
        "74Ng6kyZnCX4",
        "E86RBRlxAwA8"
      ],
      "toc_visible": true
    },
    "kernelspec": {
      "name": "python3",
      "display_name": "Python 3"
    },
    "language_info": {
      "name": "python"
    }
  },
  "cells": [
    {
      "cell_type": "markdown",
      "source": [
        "# ¿A que se debe la perdida de los clientes?\n",
        "\n",
        "# ¿Que deberiamos cambiar para mejorar esta situación?"
      ],
      "metadata": {
        "id": "dO6zeNLIXgOD"
      }
    },
    {
      "cell_type": "code",
      "source": [
        "import pandas as pd\n",
        "import plotly.express as px # Liberia para graficar mapas, no la logre usar\n",
        "import numpy as np\n",
        "import seaborn as sns\n",
        "import matplotlib as mpl\n",
        "import matplotlib.pyplot as plt\n",
        "\n",
        "\n",
        "# Importadores que uso el profesor en la clase que uso Bokeh\n",
        "import bokeh as bk\n",
        "from bokeh.palettes import Spectral6\n",
        "from bokeh.io import show, output_notebook\n",
        "from bokeh.models import CategoricalColorMapper, ColumnDataSource, FactorRange\n",
        "from bokeh.plotting import figure\n",
        "from bokeh.models import HoverTool\n",
        "from bokeh.io import output_notebook # Sumamente importante tenerlo\n",
        "\n",
        "from bokeh.resources import INLINE\n",
        "output_notebook(INLINE)\n",
        "\n",
        "\n",
        "\n"
      ],
      "metadata": {
        "id": "MPN1KONCY94K"
      },
      "execution_count": 3,
      "outputs": []
    },
    {
      "cell_type": "markdown",
      "source": [
        "## Introduccion"
      ],
      "metadata": {
        "id": "q9ItrmiTZDE4"
      }
    },
    {
      "cell_type": "markdown",
      "source": [
        "**Contexto empresarial.** La empresa Telco ha exprimientado una perdida muy significativa de clientes en el ultimo trimestre. Necesitan encontrar la causa y una solucion para dicho problema.\n",
        "A partir de esto se recopilo toda la informacion que se tenia de los clientes del ultimo trimestre(Estado del servicio de los clientes, Informacion detallada de los clientes y Detalles de los contratos de los clientes).\n",
        "\n",
        "La empresa te ha contratado para que construyas visualizaciones que les ayuden a identificar las causas principales de las perdidas, como solucionar el problema para prevenir posibles perdidas a futuro y como recuperar a los clientes perdidos.\n"
      ],
      "metadata": {
        "id": "STtw6zuHZE2H"
      }
    },
    {
      "cell_type": "markdown",
      "source": [
        "**Problema comercial.** Su tarea es formatear los datos proporcionados y proporcionar visualizaciones que respondan las preguntas específicas que tiene el cliente, que se mencionan a continuación."
      ],
      "metadata": {
        "id": "ZDmIalLpeQ3X"
      }
    },
    {
      "cell_type": "markdown",
      "source": [
        "**Contexto analítico.** Se le proporciona tres archivos CSV (almacenado en la carpeta ```datos``` ya creada). A continuacion se detalla el nombre de cada uno de los archivos y los detalles de como se componen:\n",
        "\n",
        "*  Telco_customer_churn_services: Detalles de los contratos de los clientes.\n",
        "*  Telco_customer_churn_status: Estado del servicio de los clientes.\n",
        "*  Telco_customer_churn_demographics: Informacion detallada de los clientes.\n",
        "\n",
        "El delimitador en el archivo CSV dado es `,`. \n",
        "\n",
        "Realizará las siguientes tareas con los datos:\n",
        "\n",
        "1. Extraiga datos adicionales de los DataFrame brindados en un archivo JSON\n",
        "2. Leer, transformar y preparar datos para su visualización\n",
        "3. Realizar análisis y construir visualizaciones de los datos para identificar patrones en el conjunto de datos.\n",
        "        \n",
        "El cliente tiene un conjunto específico de preguntas a las que le gustaría obtener respuestas. Deberá proporcionar visualizaciones para acompañar estos:\n",
        "\n",
        "1. ¿Que porcentaje de clientes perdimos en el ultimo trimestre?\n",
        "2. ¿Cual es la causa principal de la perdida de clientes?\n",
        "3. ¿Que varibles tienen en comun los clientes que descontrataron el servicio (Por ejemplo: Edad, genero, etc)?\n",
        "4. ¿Que tipo de contranto tenian la mayoria de los clientes que abandonaron la empresa?\n",
        "5. ¿Cuantas ofertas de servicios tuvieron los clientes que abandonaron la empresa?\n",
        "6. ¿De que zona son la mayoria de los clientes que abanadon el servicio? \n"
      ],
      "metadata": {
        "id": "-fpAkgUleZXA"
      }
    },
    {
      "cell_type": "markdown",
      "source": [
        "## Overview de la data"
      ],
      "metadata": {
        "id": "J7SOxXFTrn3Y"
      }
    },
    {
      "cell_type": "code",
      "source": [
        "from google.colab import drive\n",
        "import os\n",
        "import pandas as pd\n",
        "drive.mount('/content/gdrive')\n",
        "%cd '/content/gdrive/MyDrive/Data Science/Proyectos Clientes Telecom/datos'\n"
      ],
      "metadata": {
        "colab": {
          "base_uri": "https://localhost:8080/"
        },
        "id": "6-fyMzkeb6po",
        "outputId": "0bc85bb8-792f-4c3b-903b-8d8486598d1f"
      },
      "execution_count": 6,
      "outputs": [
        {
          "output_type": "stream",
          "name": "stdout",
          "text": [
            "Drive already mounted at /content/gdrive; to attempt to forcibly remount, call drive.mount(\"/content/gdrive\", force_remount=True).\n",
            "/content/gdrive/MyDrive/Data Science/Proyectos Clientes Telecom/datos\n"
          ]
        }
      ]
    },
    {
      "cell_type": "code",
      "source": [
        "poblacion_codigopostal = \"Telco_customer_churn_population.csv\"\n",
        "df5 = pd.read_csv (poblacion_codigopostal) # Informacion de los codigos postales \n",
        "df5 = df5.rename(columns={'ID':'Customer ID'})\n",
        "df5"
      ],
      "metadata": {
        "colab": {
          "base_uri": "https://localhost:8080/",
          "height": 424
        },
        "id": "wmWqQwZgwWeL",
        "outputId": "9ca9e78b-a718-475d-980f-a8b1cc0fffb6"
      },
      "execution_count": 9,
      "outputs": [
        {
          "output_type": "execute_result",
          "data": {
            "text/plain": [
              "      Customer ID  Zip Code  Population\n",
              "0               1     90001       54492\n",
              "1               2     90002       44586\n",
              "2               3     90003       58198\n",
              "3               4     90004       67852\n",
              "4               5     90005       43019\n",
              "...           ...       ...         ...\n",
              "1666         1667     96145        4002\n",
              "1667         1668     96146         942\n",
              "1668         1669     96148         678\n",
              "1669         1670     96150       33038\n",
              "1670         1671     96161       15783\n",
              "\n",
              "[1671 rows x 3 columns]"
            ],
            "text/html": [
              "\n",
              "  <div id=\"df-5d68e8f0-076a-4a67-8bbd-4a08ddf444eb\">\n",
              "    <div class=\"colab-df-container\">\n",
              "      <div>\n",
              "<style scoped>\n",
              "    .dataframe tbody tr th:only-of-type {\n",
              "        vertical-align: middle;\n",
              "    }\n",
              "\n",
              "    .dataframe tbody tr th {\n",
              "        vertical-align: top;\n",
              "    }\n",
              "\n",
              "    .dataframe thead th {\n",
              "        text-align: right;\n",
              "    }\n",
              "</style>\n",
              "<table border=\"1\" class=\"dataframe\">\n",
              "  <thead>\n",
              "    <tr style=\"text-align: right;\">\n",
              "      <th></th>\n",
              "      <th>Customer ID</th>\n",
              "      <th>Zip Code</th>\n",
              "      <th>Population</th>\n",
              "    </tr>\n",
              "  </thead>\n",
              "  <tbody>\n",
              "    <tr>\n",
              "      <th>0</th>\n",
              "      <td>1</td>\n",
              "      <td>90001</td>\n",
              "      <td>54492</td>\n",
              "    </tr>\n",
              "    <tr>\n",
              "      <th>1</th>\n",
              "      <td>2</td>\n",
              "      <td>90002</td>\n",
              "      <td>44586</td>\n",
              "    </tr>\n",
              "    <tr>\n",
              "      <th>2</th>\n",
              "      <td>3</td>\n",
              "      <td>90003</td>\n",
              "      <td>58198</td>\n",
              "    </tr>\n",
              "    <tr>\n",
              "      <th>3</th>\n",
              "      <td>4</td>\n",
              "      <td>90004</td>\n",
              "      <td>67852</td>\n",
              "    </tr>\n",
              "    <tr>\n",
              "      <th>4</th>\n",
              "      <td>5</td>\n",
              "      <td>90005</td>\n",
              "      <td>43019</td>\n",
              "    </tr>\n",
              "    <tr>\n",
              "      <th>...</th>\n",
              "      <td>...</td>\n",
              "      <td>...</td>\n",
              "      <td>...</td>\n",
              "    </tr>\n",
              "    <tr>\n",
              "      <th>1666</th>\n",
              "      <td>1667</td>\n",
              "      <td>96145</td>\n",
              "      <td>4002</td>\n",
              "    </tr>\n",
              "    <tr>\n",
              "      <th>1667</th>\n",
              "      <td>1668</td>\n",
              "      <td>96146</td>\n",
              "      <td>942</td>\n",
              "    </tr>\n",
              "    <tr>\n",
              "      <th>1668</th>\n",
              "      <td>1669</td>\n",
              "      <td>96148</td>\n",
              "      <td>678</td>\n",
              "    </tr>\n",
              "    <tr>\n",
              "      <th>1669</th>\n",
              "      <td>1670</td>\n",
              "      <td>96150</td>\n",
              "      <td>33038</td>\n",
              "    </tr>\n",
              "    <tr>\n",
              "      <th>1670</th>\n",
              "      <td>1671</td>\n",
              "      <td>96161</td>\n",
              "      <td>15783</td>\n",
              "    </tr>\n",
              "  </tbody>\n",
              "</table>\n",
              "<p>1671 rows × 3 columns</p>\n",
              "</div>\n",
              "      <button class=\"colab-df-convert\" onclick=\"convertToInteractive('df-5d68e8f0-076a-4a67-8bbd-4a08ddf444eb')\"\n",
              "              title=\"Convert this dataframe to an interactive table.\"\n",
              "              style=\"display:none;\">\n",
              "        \n",
              "  <svg xmlns=\"http://www.w3.org/2000/svg\" height=\"24px\"viewBox=\"0 0 24 24\"\n",
              "       width=\"24px\">\n",
              "    <path d=\"M0 0h24v24H0V0z\" fill=\"none\"/>\n",
              "    <path d=\"M18.56 5.44l.94 2.06.94-2.06 2.06-.94-2.06-.94-.94-2.06-.94 2.06-2.06.94zm-11 1L8.5 8.5l.94-2.06 2.06-.94-2.06-.94L8.5 2.5l-.94 2.06-2.06.94zm10 10l.94 2.06.94-2.06 2.06-.94-2.06-.94-.94-2.06-.94 2.06-2.06.94z\"/><path d=\"M17.41 7.96l-1.37-1.37c-.4-.4-.92-.59-1.43-.59-.52 0-1.04.2-1.43.59L10.3 9.45l-7.72 7.72c-.78.78-.78 2.05 0 2.83L4 21.41c.39.39.9.59 1.41.59.51 0 1.02-.2 1.41-.59l7.78-7.78 2.81-2.81c.8-.78.8-2.07 0-2.86zM5.41 20L4 18.59l7.72-7.72 1.47 1.35L5.41 20z\"/>\n",
              "  </svg>\n",
              "      </button>\n",
              "      \n",
              "  <style>\n",
              "    .colab-df-container {\n",
              "      display:flex;\n",
              "      flex-wrap:wrap;\n",
              "      gap: 12px;\n",
              "    }\n",
              "\n",
              "    .colab-df-convert {\n",
              "      background-color: #E8F0FE;\n",
              "      border: none;\n",
              "      border-radius: 50%;\n",
              "      cursor: pointer;\n",
              "      display: none;\n",
              "      fill: #1967D2;\n",
              "      height: 32px;\n",
              "      padding: 0 0 0 0;\n",
              "      width: 32px;\n",
              "    }\n",
              "\n",
              "    .colab-df-convert:hover {\n",
              "      background-color: #E2EBFA;\n",
              "      box-shadow: 0px 1px 2px rgba(60, 64, 67, 0.3), 0px 1px 3px 1px rgba(60, 64, 67, 0.15);\n",
              "      fill: #174EA6;\n",
              "    }\n",
              "\n",
              "    [theme=dark] .colab-df-convert {\n",
              "      background-color: #3B4455;\n",
              "      fill: #D2E3FC;\n",
              "    }\n",
              "\n",
              "    [theme=dark] .colab-df-convert:hover {\n",
              "      background-color: #434B5C;\n",
              "      box-shadow: 0px 1px 3px 1px rgba(0, 0, 0, 0.15);\n",
              "      filter: drop-shadow(0px 1px 2px rgba(0, 0, 0, 0.3));\n",
              "      fill: #FFFFFF;\n",
              "    }\n",
              "  </style>\n",
              "\n",
              "      <script>\n",
              "        const buttonEl =\n",
              "          document.querySelector('#df-5d68e8f0-076a-4a67-8bbd-4a08ddf444eb button.colab-df-convert');\n",
              "        buttonEl.style.display =\n",
              "          google.colab.kernel.accessAllowed ? 'block' : 'none';\n",
              "\n",
              "        async function convertToInteractive(key) {\n",
              "          const element = document.querySelector('#df-5d68e8f0-076a-4a67-8bbd-4a08ddf444eb');\n",
              "          const dataTable =\n",
              "            await google.colab.kernel.invokeFunction('convertToInteractive',\n",
              "                                                     [key], {});\n",
              "          if (!dataTable) return;\n",
              "\n",
              "          const docLinkHtml = 'Like what you see? Visit the ' +\n",
              "            '<a target=\"_blank\" href=https://colab.research.google.com/notebooks/data_table.ipynb>data table notebook</a>'\n",
              "            + ' to learn more about interactive tables.';\n",
              "          element.innerHTML = '';\n",
              "          dataTable['output_type'] = 'display_data';\n",
              "          await google.colab.output.renderOutput(dataTable, element);\n",
              "          const docLink = document.createElement('div');\n",
              "          docLink.innerHTML = docLinkHtml;\n",
              "          element.appendChild(docLink);\n",
              "        }\n",
              "      </script>\n",
              "    </div>\n",
              "  </div>\n",
              "  "
            ]
          },
          "metadata": {},
          "execution_count": 9
        }
      ]
    },
    {
      "cell_type": "code",
      "source": [],
      "metadata": {
        "id": "s_S86kTGwYfv"
      },
      "execution_count": null,
      "outputs": []
    },
    {
      "cell_type": "code",
      "source": [
        "\n",
        "#importacion de DataFrames\n",
        "\n",
        "tipo_contrtato = \"Telco_customer_churn_services.csv\"\n",
        "df1 = pd.read_csv (tipo_contrtato)      # Detalles de los contratos de los clientes\n",
        "\n",
        "estado_del_servicio = \"Telco_customer_churn_status.csv\"\n",
        "df2 = pd.read_csv (estado_del_servicio ) # Estado del servicio de los clientes\n",
        "\n",
        "datos_clientes = \"Telco_customer_churn_demographics.csv\"\n",
        "df3 = pd.read_csv (datos_clientes )      # Informacion detallada de los clientes\n",
        "\n",
        "ubicacion_clientes = \"Telco_customer_churn_location.csv\" \n",
        "df4 = pd.read_csv (ubicacion_clientes) # Informacion de la ubicacion de los clientes\n",
        "df4 = df4.rename(columns={'Zip Code':'Zip_Code'})\n",
        "\n",
        "poblacion_codigopostal = \"Telco_customer_churn_population.csv\"\n",
        "df5 = pd.read_csv (poblacion_codigopostal) # Informacion de los codigos postales \n",
        "df5 = df5.rename(columns={'Zip Code':'Zip_Code'})\n",
        "\n",
        "# Uno los dos DataFrame df1 y df2 en función de la columna “Customer ID”\n",
        "df_comb_1_2 = pd.merge(df2, df1, on='Customer ID')\n",
        "\n",
        "# Uno los dos DataFrame df4 y df5 en función de la columna “Customer ID”\n",
        "df_comb_4_5 = pd.merge(df4, df5, on='Zip_Code')\n",
        "\n",
        "# Uno los dos DataFrame df_comb_1_2  y df_comb_4_5 en función de la columna “Customer ID”\n",
        "df_comb = pd.merge(df_comb_1_2, df_comb_4_5, on='Customer ID')\n",
        "\n",
        "# Uno los dos DataFrame df_comb y df3 en función de la columna “Customer ID”\n",
        "df_final = pd.merge(df_comb, df3, on='Customer ID')\n",
        "\n",
        "# Renombro la columna que tiene un espacio para poder manipularla\n",
        "df_final = df_final.rename(columns={'Churn Value':'Churn_Value', 'Tenure in Months': 'Tenure_in_Months', 'Total Charges' : 'Total_Charges','Churn Label': 'Churn_Label', 'Number of Referrals': 'Number_of_Referrals' })\n",
        "\n",
        "\n",
        "# Imprimimos el Data Set final\n",
        "df_final.head(5)\n"
      ],
      "metadata": {
        "id": "apEKH8BUH8zV",
        "colab": {
          "base_uri": "https://localhost:8080/",
          "height": 508
        },
        "outputId": "86848c98-6c4e-4390-9f6d-0c1066034b76"
      },
      "execution_count": 7,
      "outputs": [
        {
          "output_type": "stream",
          "name": "stderr",
          "text": [
            "<ipython-input-7-a98e175a530b>:30: FutureWarning: Passing 'suffixes' which cause duplicate columns {'Count_x'} in the result is deprecated and will raise a MergeError in a future version.\n",
            "  df_final = pd.merge(df_comb, df3, on='Customer ID')\n"
          ]
        },
        {
          "output_type": "execute_result",
          "data": {
            "text/plain": [
              "  Customer ID  Count_x Quarter_x Customer Status Churn_Label  Churn_Value  \\\n",
              "0  8779-QRDMV        1        Q3         Churned         Yes            1   \n",
              "1  7495-OOKFY        1        Q3         Churned         Yes            1   \n",
              "2  1658-BYGOY        1        Q3         Churned         Yes            1   \n",
              "3  4598-XLKNJ        1        Q3         Churned         Yes            1   \n",
              "4  4846-WHAFZ        1        Q3         Churned         Yes            1   \n",
              "\n",
              "    Churn Category                  Churn Reason  Count_y Quarter_y  ...   ID  \\\n",
              "0       Competitor  Competitor offered more data        1        Q3  ...   21   \n",
              "1       Competitor  Competitor made better offer        1        Q3  ...   54   \n",
              "2       Competitor  Competitor made better offer        1        Q3  ...   56   \n",
              "3  Dissatisfaction     Limited range of services        1        Q3  ...  100   \n",
              "4            Price            Extra data charges        1        Q3  ...  114   \n",
              "\n",
              "   Population  Count_y Gender Age  Under 30 Senior Citizen Married Dependents  \\\n",
              "0       68701        1      M  78        No            Yes      No         No   \n",
              "1       55668        1      F  74        No            Yes     Yes        Yes   \n",
              "2       47534        1      M  71        No            Yes      No        Yes   \n",
              "3       27778        1      F  78        No            Yes     Yes        Yes   \n",
              "4       26265        1      F  80        No            Yes     Yes        Yes   \n",
              "\n",
              "   Number of Dependents  \n",
              "0                     0  \n",
              "1                     1  \n",
              "2                     3  \n",
              "3                     1  \n",
              "4                     1  \n",
              "\n",
              "[5 rows x 54 columns]"
            ],
            "text/html": [
              "\n",
              "  <div id=\"df-24927415-d7b4-43d4-b916-e708cee30fba\">\n",
              "    <div class=\"colab-df-container\">\n",
              "      <div>\n",
              "<style scoped>\n",
              "    .dataframe tbody tr th:only-of-type {\n",
              "        vertical-align: middle;\n",
              "    }\n",
              "\n",
              "    .dataframe tbody tr th {\n",
              "        vertical-align: top;\n",
              "    }\n",
              "\n",
              "    .dataframe thead th {\n",
              "        text-align: right;\n",
              "    }\n",
              "</style>\n",
              "<table border=\"1\" class=\"dataframe\">\n",
              "  <thead>\n",
              "    <tr style=\"text-align: right;\">\n",
              "      <th></th>\n",
              "      <th>Customer ID</th>\n",
              "      <th>Count_x</th>\n",
              "      <th>Quarter_x</th>\n",
              "      <th>Customer Status</th>\n",
              "      <th>Churn_Label</th>\n",
              "      <th>Churn_Value</th>\n",
              "      <th>Churn Category</th>\n",
              "      <th>Churn Reason</th>\n",
              "      <th>Count_y</th>\n",
              "      <th>Quarter_y</th>\n",
              "      <th>...</th>\n",
              "      <th>ID</th>\n",
              "      <th>Population</th>\n",
              "      <th>Count_y</th>\n",
              "      <th>Gender</th>\n",
              "      <th>Age</th>\n",
              "      <th>Under 30</th>\n",
              "      <th>Senior Citizen</th>\n",
              "      <th>Married</th>\n",
              "      <th>Dependents</th>\n",
              "      <th>Number of Dependents</th>\n",
              "    </tr>\n",
              "  </thead>\n",
              "  <tbody>\n",
              "    <tr>\n",
              "      <th>0</th>\n",
              "      <td>8779-QRDMV</td>\n",
              "      <td>1</td>\n",
              "      <td>Q3</td>\n",
              "      <td>Churned</td>\n",
              "      <td>Yes</td>\n",
              "      <td>1</td>\n",
              "      <td>Competitor</td>\n",
              "      <td>Competitor offered more data</td>\n",
              "      <td>1</td>\n",
              "      <td>Q3</td>\n",
              "      <td>...</td>\n",
              "      <td>21</td>\n",
              "      <td>68701</td>\n",
              "      <td>1</td>\n",
              "      <td>M</td>\n",
              "      <td>78</td>\n",
              "      <td>No</td>\n",
              "      <td>Yes</td>\n",
              "      <td>No</td>\n",
              "      <td>No</td>\n",
              "      <td>0</td>\n",
              "    </tr>\n",
              "    <tr>\n",
              "      <th>1</th>\n",
              "      <td>7495-OOKFY</td>\n",
              "      <td>1</td>\n",
              "      <td>Q3</td>\n",
              "      <td>Churned</td>\n",
              "      <td>Yes</td>\n",
              "      <td>1</td>\n",
              "      <td>Competitor</td>\n",
              "      <td>Competitor made better offer</td>\n",
              "      <td>1</td>\n",
              "      <td>Q3</td>\n",
              "      <td>...</td>\n",
              "      <td>54</td>\n",
              "      <td>55668</td>\n",
              "      <td>1</td>\n",
              "      <td>F</td>\n",
              "      <td>74</td>\n",
              "      <td>No</td>\n",
              "      <td>Yes</td>\n",
              "      <td>Yes</td>\n",
              "      <td>Yes</td>\n",
              "      <td>1</td>\n",
              "    </tr>\n",
              "    <tr>\n",
              "      <th>2</th>\n",
              "      <td>1658-BYGOY</td>\n",
              "      <td>1</td>\n",
              "      <td>Q3</td>\n",
              "      <td>Churned</td>\n",
              "      <td>Yes</td>\n",
              "      <td>1</td>\n",
              "      <td>Competitor</td>\n",
              "      <td>Competitor made better offer</td>\n",
              "      <td>1</td>\n",
              "      <td>Q3</td>\n",
              "      <td>...</td>\n",
              "      <td>56</td>\n",
              "      <td>47534</td>\n",
              "      <td>1</td>\n",
              "      <td>M</td>\n",
              "      <td>71</td>\n",
              "      <td>No</td>\n",
              "      <td>Yes</td>\n",
              "      <td>No</td>\n",
              "      <td>Yes</td>\n",
              "      <td>3</td>\n",
              "    </tr>\n",
              "    <tr>\n",
              "      <th>3</th>\n",
              "      <td>4598-XLKNJ</td>\n",
              "      <td>1</td>\n",
              "      <td>Q3</td>\n",
              "      <td>Churned</td>\n",
              "      <td>Yes</td>\n",
              "      <td>1</td>\n",
              "      <td>Dissatisfaction</td>\n",
              "      <td>Limited range of services</td>\n",
              "      <td>1</td>\n",
              "      <td>Q3</td>\n",
              "      <td>...</td>\n",
              "      <td>100</td>\n",
              "      <td>27778</td>\n",
              "      <td>1</td>\n",
              "      <td>F</td>\n",
              "      <td>78</td>\n",
              "      <td>No</td>\n",
              "      <td>Yes</td>\n",
              "      <td>Yes</td>\n",
              "      <td>Yes</td>\n",
              "      <td>1</td>\n",
              "    </tr>\n",
              "    <tr>\n",
              "      <th>4</th>\n",
              "      <td>4846-WHAFZ</td>\n",
              "      <td>1</td>\n",
              "      <td>Q3</td>\n",
              "      <td>Churned</td>\n",
              "      <td>Yes</td>\n",
              "      <td>1</td>\n",
              "      <td>Price</td>\n",
              "      <td>Extra data charges</td>\n",
              "      <td>1</td>\n",
              "      <td>Q3</td>\n",
              "      <td>...</td>\n",
              "      <td>114</td>\n",
              "      <td>26265</td>\n",
              "      <td>1</td>\n",
              "      <td>F</td>\n",
              "      <td>80</td>\n",
              "      <td>No</td>\n",
              "      <td>Yes</td>\n",
              "      <td>Yes</td>\n",
              "      <td>Yes</td>\n",
              "      <td>1</td>\n",
              "    </tr>\n",
              "  </tbody>\n",
              "</table>\n",
              "<p>5 rows × 54 columns</p>\n",
              "</div>\n",
              "      <button class=\"colab-df-convert\" onclick=\"convertToInteractive('df-24927415-d7b4-43d4-b916-e708cee30fba')\"\n",
              "              title=\"Convert this dataframe to an interactive table.\"\n",
              "              style=\"display:none;\">\n",
              "        \n",
              "  <svg xmlns=\"http://www.w3.org/2000/svg\" height=\"24px\"viewBox=\"0 0 24 24\"\n",
              "       width=\"24px\">\n",
              "    <path d=\"M0 0h24v24H0V0z\" fill=\"none\"/>\n",
              "    <path d=\"M18.56 5.44l.94 2.06.94-2.06 2.06-.94-2.06-.94-.94-2.06-.94 2.06-2.06.94zm-11 1L8.5 8.5l.94-2.06 2.06-.94-2.06-.94L8.5 2.5l-.94 2.06-2.06.94zm10 10l.94 2.06.94-2.06 2.06-.94-2.06-.94-.94-2.06-.94 2.06-2.06.94z\"/><path d=\"M17.41 7.96l-1.37-1.37c-.4-.4-.92-.59-1.43-.59-.52 0-1.04.2-1.43.59L10.3 9.45l-7.72 7.72c-.78.78-.78 2.05 0 2.83L4 21.41c.39.39.9.59 1.41.59.51 0 1.02-.2 1.41-.59l7.78-7.78 2.81-2.81c.8-.78.8-2.07 0-2.86zM5.41 20L4 18.59l7.72-7.72 1.47 1.35L5.41 20z\"/>\n",
              "  </svg>\n",
              "      </button>\n",
              "      \n",
              "  <style>\n",
              "    .colab-df-container {\n",
              "      display:flex;\n",
              "      flex-wrap:wrap;\n",
              "      gap: 12px;\n",
              "    }\n",
              "\n",
              "    .colab-df-convert {\n",
              "      background-color: #E8F0FE;\n",
              "      border: none;\n",
              "      border-radius: 50%;\n",
              "      cursor: pointer;\n",
              "      display: none;\n",
              "      fill: #1967D2;\n",
              "      height: 32px;\n",
              "      padding: 0 0 0 0;\n",
              "      width: 32px;\n",
              "    }\n",
              "\n",
              "    .colab-df-convert:hover {\n",
              "      background-color: #E2EBFA;\n",
              "      box-shadow: 0px 1px 2px rgba(60, 64, 67, 0.3), 0px 1px 3px 1px rgba(60, 64, 67, 0.15);\n",
              "      fill: #174EA6;\n",
              "    }\n",
              "\n",
              "    [theme=dark] .colab-df-convert {\n",
              "      background-color: #3B4455;\n",
              "      fill: #D2E3FC;\n",
              "    }\n",
              "\n",
              "    [theme=dark] .colab-df-convert:hover {\n",
              "      background-color: #434B5C;\n",
              "      box-shadow: 0px 1px 3px 1px rgba(0, 0, 0, 0.15);\n",
              "      filter: drop-shadow(0px 1px 2px rgba(0, 0, 0, 0.3));\n",
              "      fill: #FFFFFF;\n",
              "    }\n",
              "  </style>\n",
              "\n",
              "      <script>\n",
              "        const buttonEl =\n",
              "          document.querySelector('#df-24927415-d7b4-43d4-b916-e708cee30fba button.colab-df-convert');\n",
              "        buttonEl.style.display =\n",
              "          google.colab.kernel.accessAllowed ? 'block' : 'none';\n",
              "\n",
              "        async function convertToInteractive(key) {\n",
              "          const element = document.querySelector('#df-24927415-d7b4-43d4-b916-e708cee30fba');\n",
              "          const dataTable =\n",
              "            await google.colab.kernel.invokeFunction('convertToInteractive',\n",
              "                                                     [key], {});\n",
              "          if (!dataTable) return;\n",
              "\n",
              "          const docLinkHtml = 'Like what you see? Visit the ' +\n",
              "            '<a target=\"_blank\" href=https://colab.research.google.com/notebooks/data_table.ipynb>data table notebook</a>'\n",
              "            + ' to learn more about interactive tables.';\n",
              "          element.innerHTML = '';\n",
              "          dataTable['output_type'] = 'display_data';\n",
              "          await google.colab.output.renderOutput(dataTable, element);\n",
              "          const docLink = document.createElement('div');\n",
              "          docLink.innerHTML = docLinkHtml;\n",
              "          element.appendChild(docLink);\n",
              "        }\n",
              "      </script>\n",
              "    </div>\n",
              "  </div>\n",
              "  "
            ]
          },
          "metadata": {},
          "execution_count": 7
        }
      ]
    },
    {
      "cell_type": "code",
      "source": [],
      "metadata": {
        "id": "P5IopnRlxHJT"
      },
      "execution_count": null,
      "outputs": []
    },
    {
      "cell_type": "code",
      "source": [],
      "metadata": {
        "id": "GfBhFmDGwysL"
      },
      "execution_count": null,
      "outputs": []
    },
    {
      "cell_type": "code",
      "source": [],
      "metadata": {
        "id": "RfRXMUgnv1om"
      },
      "execution_count": null,
      "outputs": []
    },
    {
      "cell_type": "code",
      "source": [
        "df_final.columns"
      ],
      "metadata": {
        "colab": {
          "base_uri": "https://localhost:8080/"
        },
        "id": "pA_GZFlQssMX",
        "outputId": "d764b9b5-113c-412f-b4d5-b72168a040cb"
      },
      "execution_count": 13,
      "outputs": [
        {
          "output_type": "execute_result",
          "data": {
            "text/plain": [
              "Index(['Customer ID', 'Count_x', 'Quarter_x', 'Customer Status', 'Churn_Label',\n",
              "       'Churn_Value', 'Churn Category', 'Churn Reason', 'Count_y', 'Quarter_y',\n",
              "       'Referred a Friend', 'Number_of_Referrals', 'Tenure_in_Months', 'Offer',\n",
              "       'Phone Service', 'Avg Monthly Long Distance Charges', 'Multiple Lines',\n",
              "       'Internet Service', 'Internet Type', 'Avg Monthly GB Download',\n",
              "       'Online Security', 'Online Backup', 'Device Protection Plan',\n",
              "       'Premium Tech Support', 'Streaming TV', 'Streaming Movies',\n",
              "       'Streaming Music', 'Unlimited Data', 'Contract', 'Paperless Billing',\n",
              "       'Payment Method', 'Monthly Charge', 'Total_Charges', 'Total Refunds',\n",
              "       'Total Extra Data Charges', 'Total Long Distance Charges',\n",
              "       'Total Revenue', 'Count_x', 'Country', 'State', 'City', 'Zip_Code',\n",
              "       'Latitude', 'Longitude', 'ID', 'Population', 'Count_y', 'Gender', 'Age',\n",
              "       'Under 30', 'Senior Citizen', 'Married', 'Dependents',\n",
              "       'Number of Dependents'],\n",
              "      dtype='object')"
            ]
          },
          "metadata": {},
          "execution_count": 13
        }
      ]
    },
    {
      "cell_type": "markdown",
      "source": [
        "Tenemos las siguientes columnas en cada uno de los DataFrame:\n",
        "1.   **Telco_customer_churn_services:**\n",
        "          *   Customer ID: Una identificación única que identifica a cada cliente.\n",
        "          *   Count: Un valor que se utiliza en los informes/paneles para resumir el número de clientes en un conjunto filtrado.\n",
        "          *   Quarter: El trimestre del que se derivaron los datos (por ejemplo, Q3).\n",
        "          *   Referred a Friend: Indica si el cliente alguna vez recomendó a un amigo o familiar a esta empresa: Sí, No\n",
        "          *   Number of Referrals: Indica el número de referidos a la fecha que ha realizado el cliente.\n",
        "          *   Tenure in Months: Indica la cantidad total de meses que el cliente ha estado con la empresa al final del trimestre especificado anteriormente.\n",
        "          *   Offer: Identifica la última oferta de marketing que el cliente aceptó, si aplica. Los valores incluyen Ninguno, Oferta A, Oferta B, Oferta C, Oferta D y Oferta E.\n",
        "          *   Phone Service: Indica si el cliente contrata el servicio de telefonía residencial con la empresa: Si, No\n",
        "          *   Avg Monthly Long Distance Charges: Indica los cargos promedio de larga distancia del cliente, calculados al final del trimestre especificado anteriormente.\n",
        "          *   Multiple Lines: Indica si el cliente contrata líneas telefónicas múltiples con la empresa: Si, No\n",
        "          *   Internet Service: Indica si el cliente contrata el servicio de Internet con la empresa: No, Si\n",
        "          *   Internet Type: El tipo de internet que usa el cliente DSL, Fiber Optic, Cable.\n",
        "          *   Online Security: Indica si el cliente se suscribe a un servicio adicional de seguridad online proporcionado por la empresa: Si, No\n",
        "          *   Online Backup: Indica si el cliente se suscribe a un servicio adicional de respaldo en línea brindado por la empresa: Si, No\n",
        "          *   Device Protection Plan: Indica si el cliente se suscribe a un plan adicional de protección de dispositivos para su equipo de Internet provisto por la empresa: Si, No\n",
        "          *   Premium Tech Support: Indica si el cliente se suscribe a un plan de soporte técnico adicional de la empresa con tiempos de espera reducidos: Si, No\n",
        "          *   Streaming TV: Indica si el cliente utiliza su servicio de Internet para transmitir programación de televisión de un tercero proveedor: Sí, No. La empresa no cobra una tarifa adicional por este servicio.\n",
        "          *   Streaming Movies: Indica si el cliente utiliza su servicio de Internet para transmitir películas de un proveedor externo: Sí, No. La empresa no cobra una tarifa adicional por este servicio.\n",
        "          *   Streaming Music: Indica si el cliente utiliza su servicio de Internet para transmitir música de un proveedor externo: Sí, No. La empresa no cobra una tarifa adicional por este servicio.\n",
        "          *   Unlimited Data: Indica si el cliente ha pagado una tarifa mensual adicional para tener descargas/cargas de datos ilimitadas: Sí, No\n",
        "          *   Contract: Indica el tipo de contrato actual del cliente: Mes a Mes, Un Año, Dos Años.\n",
        "          *   Paperless Billing: Indica si el cliente ha elegido la facturación sin papel: Sí, No\n",
        "          *   Payment Method: Indica cómo el cliente paga su factura: Retiro bancario, Tarjeta de crédito, Cheque enviado por correo\n",
        "          *   Total Charges: Indica los cargos totales del cliente, calculados al final del trimestre especificado anteriormente.\n",
        "          *   Total Refunds: Indica los reembolsos totales del cliente, calculados al final del trimestre especificado anteriormente.\n",
        "          *   Total Extra Data Charges: Indica los cargos totales del cliente por descargas de datos adicionales por encima de los especificados en su plan, al final del trimestre especificado anteriormente.\n",
        "          *   Total Long Distance Charges: Indica los cargos totales de larga distancia del cliente por encima de los especificados en su plan, al final del trimestre especificado anteriormente.\n",
        "        *   Total Revenue: Ingresos totales  \n",
        "\n",
        "2.   **Telco_customer_churn_status:**\n",
        "          *   Customer ID: Una identificación única que identifica a cada cliente.\n",
        "          *   Count: Un valor que se utiliza en los informes/paneles para resumir el número de clientes en un conjunto filtrado.\n",
        "          *   Quarter: El trimestre del que se derivaron los datos (por ejemplo, Q3)\n",
        "          *   Customer Status: Indica el estado del cliente al final del trimestre: Churned, Stayed o Joined  \n",
        "          *   Churn Label: Sí = el cliente dejó la empresa este trimestre. No = el cliente se quedó con la empresa. Directamente relacionado con Churn Value.\n",
        "          *   Churn Value: 1 = el cliente dejó la empresa este trimestre. 0 = el cliente se quedó con la empresa. Directamente relacionado con Churn Label.\n",
        "          *   Churn Category: Una categoría de alto nivel para el motivo del abandono del cliente: actitud, competidor, insatisfacción, otro, precio. Cuando se van de la empresa, a todos los clientes se les pregunta por los motivos de su salida. Directamente relacionado con Churn Reason.\n",
        "          *   Churn Reason: El motivo específico de un cliente para abandonar la empresa. Directamente relacionado con la categoría Churn.\n",
        "\n",
        "3.   **Telco_customer_churn_demographics:**\n",
        "          *   Customer ID: Una identificación única que identifica a cada cliente.\n",
        "          *   Count: Un valor que se utiliza en los informes/paneles para resumir el número de clientes en un conjunto filtrado.\n",
        "          *   Gender: El género del cliente: Masculino, Femenino \n",
        "          *   Age: La edad actual del cliente, en años, en el momento en que finalizó el trimestre.\n",
        "          *   Under 30: Indica si el cliente tiene menos de 30 años de edad: Sí, No \n",
        "          *   Senior Citizen: Indica si el cliente tiene 65 años o más: Sí, No \n",
        "          *   Married: Indica si el cliente está casado: Si, No\n",
        "          *   Dependents: Indica si el cliente vive con algún dependiente: Sí, No. Los dependientes pueden ser hijos, padres, abuelos, etc.\n",
        "          *   Number of Dependents: Indica el número de dependientes que viven con el cliente.\n",
        "\n",
        "\n",
        "4.  **Telco_customer_churn_location:**  \n",
        "         *   Customer ID: Una identificación única que identifica a cada cliente.        \n",
        "         *   Count: Un valor que se utiliza en los informes/paneles para resumir el número de clientes en un conjunto filtrado\n",
        "         *   Country: El país de residencia principal del cliente.\n",
        "         *   State: El estado de la residencia principal del cliente.\n",
        "         *   City: La ciudad de residencia principal del cliente.\n",
        "         *   Zip Code: El código postal de la residencia principal del cliente.\n",
        "\n",
        "5.  **Telco_customer_churn_population:**  \n",
        "         *   ID: Una ID única que identifica cada fila.\n",
        "         *   Zip Code: El código postal de la residencia principal del cliente.\n",
        "         *   Population: Una estimación de la población actual para toda el área del código postal."
      ],
      "metadata": {
        "id": "HK-lslLWsnTu"
      }
    },
    {
      "cell_type": "code",
      "source": [
        "df_final.info()"
      ],
      "metadata": {
        "colab": {
          "base_uri": "https://localhost:8080/"
        },
        "id": "3TPKX8qSXcGx",
        "outputId": "d300f9d7-09c7-4cf6-b581-cd19b32f3fa5"
      },
      "execution_count": 14,
      "outputs": [
        {
          "output_type": "stream",
          "name": "stdout",
          "text": [
            "<class 'pandas.core.frame.DataFrame'>\n",
            "Int64Index: 7043 entries, 0 to 7042\n",
            "Data columns (total 54 columns):\n",
            " #   Column                             Non-Null Count  Dtype  \n",
            "---  ------                             --------------  -----  \n",
            " 0   Customer ID                        7043 non-null   object \n",
            " 1   Count_x                            7043 non-null   int64  \n",
            " 2   Quarter_x                          7043 non-null   object \n",
            " 3   Customer Status                    7043 non-null   object \n",
            " 4   Churn_Label                        7043 non-null   object \n",
            " 5   Churn_Value                        7043 non-null   int64  \n",
            " 6   Churn Category                     1869 non-null   object \n",
            " 7   Churn Reason                       1869 non-null   object \n",
            " 8   Count_y                            7043 non-null   int64  \n",
            " 9   Quarter_y                          7043 non-null   object \n",
            " 10  Referred a Friend                  7043 non-null   object \n",
            " 11  Number_of_Referrals                7043 non-null   int64  \n",
            " 12  Tenure_in_Months                   7043 non-null   int64  \n",
            " 13  Offer                              7043 non-null   object \n",
            " 14  Phone Service                      7043 non-null   object \n",
            " 15  Avg Monthly Long Distance Charges  7043 non-null   float64\n",
            " 16  Multiple Lines                     7043 non-null   object \n",
            " 17  Internet Service                   7043 non-null   object \n",
            " 18  Internet Type                      7043 non-null   object \n",
            " 19  Avg Monthly GB Download            7043 non-null   int64  \n",
            " 20  Online Security                    7043 non-null   object \n",
            " 21  Online Backup                      7043 non-null   object \n",
            " 22  Device Protection Plan             7043 non-null   object \n",
            " 23  Premium Tech Support               7043 non-null   object \n",
            " 24  Streaming TV                       7043 non-null   object \n",
            " 25  Streaming Movies                   7043 non-null   object \n",
            " 26  Streaming Music                    7043 non-null   object \n",
            " 27  Unlimited Data                     7043 non-null   object \n",
            " 28  Contract                           7043 non-null   object \n",
            " 29  Paperless Billing                  7043 non-null   object \n",
            " 30  Payment Method                     7043 non-null   object \n",
            " 31  Monthly Charge                     7043 non-null   float64\n",
            " 32  Total_Charges                      7043 non-null   float64\n",
            " 33  Total Refunds                      7043 non-null   float64\n",
            " 34  Total Extra Data Charges           7043 non-null   int64  \n",
            " 35  Total Long Distance Charges        7043 non-null   float64\n",
            " 36  Total Revenue                      7043 non-null   float64\n",
            " 37  Count_x                            7043 non-null   int64  \n",
            " 38  Country                            7043 non-null   object \n",
            " 39  State                              7043 non-null   object \n",
            " 40  City                               7043 non-null   object \n",
            " 41  Zip_Code                           7043 non-null   int64  \n",
            " 42  Latitude                           7043 non-null   float64\n",
            " 43  Longitude                          7043 non-null   float64\n",
            " 44  ID                                 7043 non-null   int64  \n",
            " 45  Population                         7043 non-null   int64  \n",
            " 46  Count_y                            7043 non-null   int64  \n",
            " 47  Gender                             7043 non-null   object \n",
            " 48  Age                                7043 non-null   int64  \n",
            " 49  Under 30                           7043 non-null   object \n",
            " 50  Senior Citizen                     7043 non-null   object \n",
            " 51  Married                            7043 non-null   object \n",
            " 52  Dependents                         7043 non-null   object \n",
            " 53  Number of Dependents               7043 non-null   int64  \n",
            "dtypes: float64(8), int64(14), object(32)\n",
            "memory usage: 3.0+ MB\n"
          ]
        }
      ]
    },
    {
      "cell_type": "code",
      "source": [
        "#Para poder utilizar mas variables \n",
        "\n",
        "\n",
        "\n",
        "df_num = df_final.select_dtypes('number') # datos númericos\n",
        "df_num ['Customer ID'] = df_final ['Customer ID']\n",
        "df_num.head (5)"
      ],
      "metadata": {
        "colab": {
          "base_uri": "https://localhost:8080/",
          "height": 456
        },
        "id": "6_GxPfkOi3o3",
        "outputId": "4d809a48-bc47-4ea5-cd1f-882a3f14c912"
      },
      "execution_count": 15,
      "outputs": [
        {
          "output_type": "execute_result",
          "data": {
            "text/plain": [
              "   Count_x  Churn_Value  Count_y  Number_of_Referrals  Tenure_in_Months  \\\n",
              "0        1            1        1                    0                 1   \n",
              "1        1            1        1                    1                 8   \n",
              "2        1            1        1                    0                18   \n",
              "3        1            1        1                    1                25   \n",
              "4        1            1        1                    1                37   \n",
              "\n",
              "   Avg Monthly Long Distance Charges  Avg Monthly GB Download  Monthly Charge  \\\n",
              "0                               0.00                        8           39.65   \n",
              "1                              48.85                       17           80.65   \n",
              "2                              11.33                       52           95.45   \n",
              "3                              19.76                       12           98.50   \n",
              "4                               6.33                       14           76.50   \n",
              "\n",
              "   Total_Charges  Total Refunds  ...  Count_x  Zip_Code   Latitude  \\\n",
              "0          39.65           0.00  ...        1     90022  34.023810   \n",
              "1         633.30           0.00  ...        1     90063  34.044271   \n",
              "2        1752.55          45.61  ...        1     90065  34.108833   \n",
              "3        2514.50          13.43  ...        1     90303  33.936291   \n",
              "4        2868.15           0.00  ...        1     90602  33.972119   \n",
              "\n",
              "    Longitude   ID  Population  Count_y  Age  Number of Dependents  \\\n",
              "0 -118.156582   21       68701        1   78                     0   \n",
              "1 -118.185237   54       55668        1   74                     1   \n",
              "2 -118.229715   56       47534        1   71                     3   \n",
              "3 -118.332639  100       27778        1   78                     1   \n",
              "4 -118.020188  114       26265        1   80                     1   \n",
              "\n",
              "   Customer ID  \n",
              "0   8779-QRDMV  \n",
              "1   7495-OOKFY  \n",
              "2   1658-BYGOY  \n",
              "3   4598-XLKNJ  \n",
              "4   4846-WHAFZ  \n",
              "\n",
              "[5 rows x 23 columns]"
            ],
            "text/html": [
              "\n",
              "  <div id=\"df-1d9bebbe-cfeb-450f-b211-d9457f13f970\">\n",
              "    <div class=\"colab-df-container\">\n",
              "      <div>\n",
              "<style scoped>\n",
              "    .dataframe tbody tr th:only-of-type {\n",
              "        vertical-align: middle;\n",
              "    }\n",
              "\n",
              "    .dataframe tbody tr th {\n",
              "        vertical-align: top;\n",
              "    }\n",
              "\n",
              "    .dataframe thead th {\n",
              "        text-align: right;\n",
              "    }\n",
              "</style>\n",
              "<table border=\"1\" class=\"dataframe\">\n",
              "  <thead>\n",
              "    <tr style=\"text-align: right;\">\n",
              "      <th></th>\n",
              "      <th>Count_x</th>\n",
              "      <th>Churn_Value</th>\n",
              "      <th>Count_y</th>\n",
              "      <th>Number_of_Referrals</th>\n",
              "      <th>Tenure_in_Months</th>\n",
              "      <th>Avg Monthly Long Distance Charges</th>\n",
              "      <th>Avg Monthly GB Download</th>\n",
              "      <th>Monthly Charge</th>\n",
              "      <th>Total_Charges</th>\n",
              "      <th>Total Refunds</th>\n",
              "      <th>...</th>\n",
              "      <th>Count_x</th>\n",
              "      <th>Zip_Code</th>\n",
              "      <th>Latitude</th>\n",
              "      <th>Longitude</th>\n",
              "      <th>ID</th>\n",
              "      <th>Population</th>\n",
              "      <th>Count_y</th>\n",
              "      <th>Age</th>\n",
              "      <th>Number of Dependents</th>\n",
              "      <th>Customer ID</th>\n",
              "    </tr>\n",
              "  </thead>\n",
              "  <tbody>\n",
              "    <tr>\n",
              "      <th>0</th>\n",
              "      <td>1</td>\n",
              "      <td>1</td>\n",
              "      <td>1</td>\n",
              "      <td>0</td>\n",
              "      <td>1</td>\n",
              "      <td>0.00</td>\n",
              "      <td>8</td>\n",
              "      <td>39.65</td>\n",
              "      <td>39.65</td>\n",
              "      <td>0.00</td>\n",
              "      <td>...</td>\n",
              "      <td>1</td>\n",
              "      <td>90022</td>\n",
              "      <td>34.023810</td>\n",
              "      <td>-118.156582</td>\n",
              "      <td>21</td>\n",
              "      <td>68701</td>\n",
              "      <td>1</td>\n",
              "      <td>78</td>\n",
              "      <td>0</td>\n",
              "      <td>8779-QRDMV</td>\n",
              "    </tr>\n",
              "    <tr>\n",
              "      <th>1</th>\n",
              "      <td>1</td>\n",
              "      <td>1</td>\n",
              "      <td>1</td>\n",
              "      <td>1</td>\n",
              "      <td>8</td>\n",
              "      <td>48.85</td>\n",
              "      <td>17</td>\n",
              "      <td>80.65</td>\n",
              "      <td>633.30</td>\n",
              "      <td>0.00</td>\n",
              "      <td>...</td>\n",
              "      <td>1</td>\n",
              "      <td>90063</td>\n",
              "      <td>34.044271</td>\n",
              "      <td>-118.185237</td>\n",
              "      <td>54</td>\n",
              "      <td>55668</td>\n",
              "      <td>1</td>\n",
              "      <td>74</td>\n",
              "      <td>1</td>\n",
              "      <td>7495-OOKFY</td>\n",
              "    </tr>\n",
              "    <tr>\n",
              "      <th>2</th>\n",
              "      <td>1</td>\n",
              "      <td>1</td>\n",
              "      <td>1</td>\n",
              "      <td>0</td>\n",
              "      <td>18</td>\n",
              "      <td>11.33</td>\n",
              "      <td>52</td>\n",
              "      <td>95.45</td>\n",
              "      <td>1752.55</td>\n",
              "      <td>45.61</td>\n",
              "      <td>...</td>\n",
              "      <td>1</td>\n",
              "      <td>90065</td>\n",
              "      <td>34.108833</td>\n",
              "      <td>-118.229715</td>\n",
              "      <td>56</td>\n",
              "      <td>47534</td>\n",
              "      <td>1</td>\n",
              "      <td>71</td>\n",
              "      <td>3</td>\n",
              "      <td>1658-BYGOY</td>\n",
              "    </tr>\n",
              "    <tr>\n",
              "      <th>3</th>\n",
              "      <td>1</td>\n",
              "      <td>1</td>\n",
              "      <td>1</td>\n",
              "      <td>1</td>\n",
              "      <td>25</td>\n",
              "      <td>19.76</td>\n",
              "      <td>12</td>\n",
              "      <td>98.50</td>\n",
              "      <td>2514.50</td>\n",
              "      <td>13.43</td>\n",
              "      <td>...</td>\n",
              "      <td>1</td>\n",
              "      <td>90303</td>\n",
              "      <td>33.936291</td>\n",
              "      <td>-118.332639</td>\n",
              "      <td>100</td>\n",
              "      <td>27778</td>\n",
              "      <td>1</td>\n",
              "      <td>78</td>\n",
              "      <td>1</td>\n",
              "      <td>4598-XLKNJ</td>\n",
              "    </tr>\n",
              "    <tr>\n",
              "      <th>4</th>\n",
              "      <td>1</td>\n",
              "      <td>1</td>\n",
              "      <td>1</td>\n",
              "      <td>1</td>\n",
              "      <td>37</td>\n",
              "      <td>6.33</td>\n",
              "      <td>14</td>\n",
              "      <td>76.50</td>\n",
              "      <td>2868.15</td>\n",
              "      <td>0.00</td>\n",
              "      <td>...</td>\n",
              "      <td>1</td>\n",
              "      <td>90602</td>\n",
              "      <td>33.972119</td>\n",
              "      <td>-118.020188</td>\n",
              "      <td>114</td>\n",
              "      <td>26265</td>\n",
              "      <td>1</td>\n",
              "      <td>80</td>\n",
              "      <td>1</td>\n",
              "      <td>4846-WHAFZ</td>\n",
              "    </tr>\n",
              "  </tbody>\n",
              "</table>\n",
              "<p>5 rows × 23 columns</p>\n",
              "</div>\n",
              "      <button class=\"colab-df-convert\" onclick=\"convertToInteractive('df-1d9bebbe-cfeb-450f-b211-d9457f13f970')\"\n",
              "              title=\"Convert this dataframe to an interactive table.\"\n",
              "              style=\"display:none;\">\n",
              "        \n",
              "  <svg xmlns=\"http://www.w3.org/2000/svg\" height=\"24px\"viewBox=\"0 0 24 24\"\n",
              "       width=\"24px\">\n",
              "    <path d=\"M0 0h24v24H0V0z\" fill=\"none\"/>\n",
              "    <path d=\"M18.56 5.44l.94 2.06.94-2.06 2.06-.94-2.06-.94-.94-2.06-.94 2.06-2.06.94zm-11 1L8.5 8.5l.94-2.06 2.06-.94-2.06-.94L8.5 2.5l-.94 2.06-2.06.94zm10 10l.94 2.06.94-2.06 2.06-.94-2.06-.94-.94-2.06-.94 2.06-2.06.94z\"/><path d=\"M17.41 7.96l-1.37-1.37c-.4-.4-.92-.59-1.43-.59-.52 0-1.04.2-1.43.59L10.3 9.45l-7.72 7.72c-.78.78-.78 2.05 0 2.83L4 21.41c.39.39.9.59 1.41.59.51 0 1.02-.2 1.41-.59l7.78-7.78 2.81-2.81c.8-.78.8-2.07 0-2.86zM5.41 20L4 18.59l7.72-7.72 1.47 1.35L5.41 20z\"/>\n",
              "  </svg>\n",
              "      </button>\n",
              "      \n",
              "  <style>\n",
              "    .colab-df-container {\n",
              "      display:flex;\n",
              "      flex-wrap:wrap;\n",
              "      gap: 12px;\n",
              "    }\n",
              "\n",
              "    .colab-df-convert {\n",
              "      background-color: #E8F0FE;\n",
              "      border: none;\n",
              "      border-radius: 50%;\n",
              "      cursor: pointer;\n",
              "      display: none;\n",
              "      fill: #1967D2;\n",
              "      height: 32px;\n",
              "      padding: 0 0 0 0;\n",
              "      width: 32px;\n",
              "    }\n",
              "\n",
              "    .colab-df-convert:hover {\n",
              "      background-color: #E2EBFA;\n",
              "      box-shadow: 0px 1px 2px rgba(60, 64, 67, 0.3), 0px 1px 3px 1px rgba(60, 64, 67, 0.15);\n",
              "      fill: #174EA6;\n",
              "    }\n",
              "\n",
              "    [theme=dark] .colab-df-convert {\n",
              "      background-color: #3B4455;\n",
              "      fill: #D2E3FC;\n",
              "    }\n",
              "\n",
              "    [theme=dark] .colab-df-convert:hover {\n",
              "      background-color: #434B5C;\n",
              "      box-shadow: 0px 1px 3px 1px rgba(0, 0, 0, 0.15);\n",
              "      filter: drop-shadow(0px 1px 2px rgba(0, 0, 0, 0.3));\n",
              "      fill: #FFFFFF;\n",
              "    }\n",
              "  </style>\n",
              "\n",
              "      <script>\n",
              "        const buttonEl =\n",
              "          document.querySelector('#df-1d9bebbe-cfeb-450f-b211-d9457f13f970 button.colab-df-convert');\n",
              "        buttonEl.style.display =\n",
              "          google.colab.kernel.accessAllowed ? 'block' : 'none';\n",
              "\n",
              "        async function convertToInteractive(key) {\n",
              "          const element = document.querySelector('#df-1d9bebbe-cfeb-450f-b211-d9457f13f970');\n",
              "          const dataTable =\n",
              "            await google.colab.kernel.invokeFunction('convertToInteractive',\n",
              "                                                     [key], {});\n",
              "          if (!dataTable) return;\n",
              "\n",
              "          const docLinkHtml = 'Like what you see? Visit the ' +\n",
              "            '<a target=\"_blank\" href=https://colab.research.google.com/notebooks/data_table.ipynb>data table notebook</a>'\n",
              "            + ' to learn more about interactive tables.';\n",
              "          element.innerHTML = '';\n",
              "          dataTable['output_type'] = 'display_data';\n",
              "          await google.colab.output.renderOutput(dataTable, element);\n",
              "          const docLink = document.createElement('div');\n",
              "          docLink.innerHTML = docLinkHtml;\n",
              "          element.appendChild(docLink);\n",
              "        }\n",
              "      </script>\n",
              "    </div>\n",
              "  </div>\n",
              "  "
            ]
          },
          "metadata": {},
          "execution_count": 15
        }
      ]
    },
    {
      "cell_type": "code",
      "source": [
        "df_num.columns"
      ],
      "metadata": {
        "colab": {
          "base_uri": "https://localhost:8080/"
        },
        "id": "zEOULm7dAC1Z",
        "outputId": "dec728c2-1fec-4797-c03e-261f39b0d64b"
      },
      "execution_count": 16,
      "outputs": [
        {
          "output_type": "execute_result",
          "data": {
            "text/plain": [
              "Index(['Count_x', 'Churn_Value', 'Count_y', 'Number_of_Referrals',\n",
              "       'Tenure_in_Months', 'Avg Monthly Long Distance Charges',\n",
              "       'Avg Monthly GB Download', 'Monthly Charge', 'Total_Charges',\n",
              "       'Total Refunds', 'Total Extra Data Charges',\n",
              "       'Total Long Distance Charges', 'Total Revenue', 'Count_x', 'Zip_Code',\n",
              "       'Latitude', 'Longitude', 'ID', 'Population', 'Count_y', 'Age',\n",
              "       'Number of Dependents', 'Customer ID'],\n",
              "      dtype='object')"
            ]
          },
          "metadata": {},
          "execution_count": 16
        }
      ]
    },
    {
      "cell_type": "code",
      "source": [
        "#Cantidad de clientes que abandonaron el servicio\n",
        "df_num.Churn_Value.value_counts()"
      ],
      "metadata": {
        "colab": {
          "base_uri": "https://localhost:8080/"
        },
        "id": "1UvU3LEf-HWd",
        "outputId": "2e5120e9-a6e0-4efc-f0b3-90b9269f47c8"
      },
      "execution_count": 17,
      "outputs": [
        {
          "output_type": "execute_result",
          "data": {
            "text/plain": [
              "0    5174\n",
              "1    1869\n",
              "Name: Churn_Value, dtype: int64"
            ]
          },
          "metadata": {},
          "execution_count": 17
        }
      ]
    },
    {
      "cell_type": "markdown",
      "source": [
        " #### Data"
      ],
      "metadata": {
        "id": "aT170MHFkD5j"
      }
    },
    {
      "cell_type": "markdown",
      "source": [
        "Para simplicidad en la consulta, se proporciona diccionario de descripciones de campos."
      ],
      "metadata": {
        "id": "qYpLw1Szj5Gx"
      }
    },
    {
      "cell_type": "code",
      "source": [
        "d_desc = {'Customer ID':' Una identificación única que identifica a cada cliente.',\n",
        "          'Count':' Un valor que se utiliza en los informes/paneles para resumir el número de clientes en un conjunto filtrado.',\n",
        "          'Quarter':' El trimestre del que se derivaron los datos (por ejemplo, Q3).',\n",
        "          'Referred a Friend':' Indica si el cliente alguna vez recomendó a un amigo o familiar a esta empresa',\n",
        "          'Number of Referrals':' Indica el número de referidos a la fecha que ha realizado el cliente.',\n",
        "          'Tenure_in_Months':' Indica la cantidad total de meses que el cliente ha estado con la empresa al final del trimestre especificado anteriormente.',\n",
        "          'Offer':' Identifica la última oferta de marketing que el cliente aceptó, si aplica. Los valores incluyen Ninguno, Oferta A, Oferta B, Oferta C, Oferta D y Oferta E.',\n",
        "          'Phone Service':' Indica si el cliente contrata el servicio de telefonía residencial con la empresa',\n",
        "          'Avg Monthly Long Distance Charges':' Indica los cargos promedio de larga distancia del cliente, calculados al final del trimestre especificado anteriormente.',\n",
        "          'Multiple Lines':' Indica si el cliente contrata líneas telefónicas múltiples con la empresa',\n",
        "          'Internet Service':' Indica si el cliente contrata el servicio de Internet con la empresa',\n",
        "          'Internet Type':' El tipo de internet que usa el cliente DSL, Fiber Optic, Cable.',\n",
        "          'Online Security':' Indica si el cliente se suscribe a un servicio adicional de seguridad online proporcionado por la empresa',\n",
        "          'Online Backup':' Indica si el cliente se suscribe a un servicio adicional de respaldo en línea brindado por la empresa',\n",
        "          'Device Protection Plan':' Indica si el cliente se suscribe a un plan adicional de protección de dispositivos para su equipo de Internet provisto por la empresa',\n",
        "          'Premium Tech Support':' Indica si el cliente se suscribe a un plan de soporte técnico adicional de la empresa con tiempos de espera reducidos',\n",
        "          'Streaming TV':' Indica si el cliente utiliza su servicio de Internet para transmitir programación de televisión de un tercero proveedor',\n",
        "          'Streaming Movies':' Indica si el cliente utiliza su servicio de Internet para transmitir películas de un proveedor externo',\n",
        "          'Streaming Music':' Indica si el cliente utiliza su servicio de Internet para transmitir música de un proveedor externo',\n",
        "          'Unlimited Data':' Indica si el cliente ha pagado una tarifa mensual adicional para tener descargas/cargas de datos ilimitadas',\n",
        "          'Contract':' Indica el tipo de contrato actual del cliente',\n",
        "          'Paperless Billing':' Indica si el cliente ha elegido la facturación sin papel',\n",
        "          'Payment Method':' Indica cómo el cliente paga su factura',\n",
        "          'Total_Charges':' Indica los cargos totales del cliente, calculados al final del trimestre especificado anteriormente.',\n",
        "          'Total Refunds':' Indica los reembolsos totales del cliente, calculados al final del trimestre especificado anteriormente.',\n",
        "          'Total Extra Data Charges':' Indica los cargos totales del cliente por descargas de datos adicionales por encima de los especificados en su plan, al final del trimestre especificado anteriormente.',\n",
        "          'Total Long Distance Charges':' Indica los cargos totales de larga distancia del cliente por encima de los especificados en su plan, al final del trimestre especificado anteriormente.',\n",
        "          'Customer Status':' Indica el estado del cliente al final del trimestre',\n",
        "          'Churn_Label':' Sí = el cliente dejó la empresa este trimestre. No = el cliente se quedó con la empresa. Directamente relacionado con Churn Value.',\n",
        "          'Churn_Value':' 1 = el cliente dejó la empresa este trimestre. 0 = el cliente se quedó con la empresa. Directamente relacionado con Churn Label.',\n",
        "          'Churn Category':' Una categoría de alto nivel para el motivo del abandono del cliente',\n",
        "          'Churn Reason':' El motivo específico de un cliente para abandonar la empresa. Directamente relacionado con la categoría Churn.',\n",
        "          'Gender':' El género del cliente',\n",
        "          'Age':' La edad actual del cliente, en años, en el momento en que finalizó el trimestre.',\n",
        "          'Under 30':' Indica si el cliente tiene menos de 30 años de edad',\n",
        "          'Senior Citizen':' Indica si el cliente tiene 65 años o más',\n",
        "          'Married':' Indica si el cliente está casado',\n",
        "          'Dependents':' Indica si el cliente vive con algún dependiente',\n",
        "          'Number of Dependents':' Indica el número de dependientes que viven con el cliente.',\n",
        "          'Customer ID' : ' Una identificación única que identifica a cada cliente.        ',\n",
        "          'Count' : ' Un valor que se utiliza en los informes/paneles para resumir el número de clientes en un conjunto filtrado',\n",
        "          'Country' : ' El país de residencia principal del cliente.',\n",
        "          'State' : ' El estado de la residencia principal del cliente.',\n",
        "          'City' : ' La ciudad de residencia principal del cliente.',\n",
        "          'Zip Code' : ' El código postal de la residencia principal del cliente.',\n",
        "          'Population' : 'Una estimación de la población actual para toda el área del código postal.'\n",
        "          }"
      ],
      "metadata": {
        "id": "xH_olX6Hj900"
      },
      "execution_count": 18,
      "outputs": []
    },
    {
      "cell_type": "markdown",
      "source": [
        "## Respondiendo las preguntas del cliente "
      ],
      "metadata": {
        "id": "gBGJkmP0tNTH"
      }
    },
    {
      "cell_type": "markdown",
      "source": [
        "###¿Que porcentaje de clientes perdimos en el ultimo trimestre?\n",
        "\n",
        "Se genera un grafico de tortas a partir de los estados de los clientes (Stayed, Churned y Joined)."
      ],
      "metadata": {
        "id": "8btoy6R5yl_J"
      }
    },
    {
      "cell_type": "code",
      "source": [
        "cant = df_final['Customer Status'].value_counts()\n",
        "total_clientes = len(df_final.index)\n",
        "# Paso ese valor a % para poder graficarlo\n",
        "cant_p = (cant * 100 ) / total_clientes\n",
        "print (cant_p)\n",
        "\n",
        "fig, y = plt.subplots ()\n",
        "y.set_title(\"Porcentaje de clientes por los estados de los mismo\")\n",
        "y = plt.pie (cant_p  , labels = cant_p.index )\n"
      ],
      "metadata": {
        "colab": {
          "base_uri": "https://localhost:8080/",
          "height": 497
        },
        "id": "p4bGzHVQQzsY",
        "outputId": "c144f413-b0ae-4201-e229-37f52e7c7dec"
      },
      "execution_count": 19,
      "outputs": [
        {
          "output_type": "stream",
          "name": "stdout",
          "text": [
            "Stayed     67.016896\n",
            "Churned    26.536987\n",
            "Joined      6.446117\n",
            "Name: Customer Status, dtype: float64\n"
          ]
        },
        {
          "output_type": "display_data",
          "data": {
            "text/plain": [
              "<Figure size 640x480 with 1 Axes>"
            ],
            "image/png": "[encoded data removed]"
          },
          "metadata": {}
        }
      ]
    },
    {
      "cell_type": "markdown",
      "source": [
        "1. ¿Que porcentaje de clientes perdimos en el ultimo trimestre?\n",
        "\n",
        "Luego de generar el grafico se puede observar que el 26% de los clientes estan descontratando el servicio. Y como podemos ver los nuevos clientes que contrataron el servicio llegan al 6% por ende estamos teniendo una gran perdida de clientes.\n",
        "\n",
        "Esto genera otras dos consultas ¿Cual es el motivo principal que los clientes descontraten el servicio? y ¿A que se debe el baja contratacion del servicio?"
      ],
      "metadata": {
        "id": "iR0tBI0b2JcT"
      }
    },
    {
      "cell_type": "markdown",
      "source": [],
      "metadata": {
        "id": "E9AQgzCT2l3j"
      }
    },
    {
      "cell_type": "markdown",
      "source": [
        "### 2. ¿Cual es la causa principal de la perdida de clientes?\n",
        "Se genera un gráfico de barras para analizar cuales son las causas de perdidas de clientes.\n"
      ],
      "metadata": {
        "id": "pZNnke2Y3G__"
      }
    },
    {
      "cell_type": "code",
      "source": [
        "cant = df_final['Churn Category'].value_counts()\n",
        "total_clientes = len(df_final.index)\n",
        "#print (total_clientes)\n",
        "# Paso ese valor a % para poder graficarlo\n",
        "cant_p = (cant * 100 ) / total_clientes\n",
        "print (cant_p)\n",
        "\n",
        "#print (cant)\n",
        "g = sns.barplot(data = df_final, x = cant_p.index, y =  cant_p)  \n",
        "g.set_title(\"Motivo de la baja de los clientes\")\n",
        "g.set_xlabel('Motivo de la baja')\n",
        "g.set_ylabel('Cantidad de clientes')"
      ],
      "metadata": {
        "colab": {
          "base_uri": "https://localhost:8080/",
          "height": 593
        },
        "id": "rRVZEWQIEbPo",
        "outputId": "c306b256-930c-4acf-e931-edd2deff0557"
      },
      "execution_count": 20,
      "outputs": [
        {
          "output_type": "stream",
          "name": "stdout",
          "text": [
            "Competitor         11.940934\n",
            "Attitude            4.458327\n",
            "Dissatisfaction     4.302144\n",
            "Price               2.995882\n",
            "Other               2.839699\n",
            "Name: Churn Category, dtype: float64\n"
          ]
        },
        {
          "output_type": "execute_result",
          "data": {
            "text/plain": [
              "Text(0, 0.5, 'Cantidad de clientes')"
            ]
          },
          "metadata": {},
          "execution_count": 20
        },
        {
          "output_type": "display_data",
          "data": {
            "text/plain": [
              "<Figure size 640x480 with 1 Axes>"
            ],
            "image/png": "[encoded data removed]"
          },
          "metadata": {}
        }
      ]
    },
    {
      "cell_type": "code",
      "source": [
        "cant = df_final['Churn Reason'].value_counts()\n",
        "total_clientes = len(df_final.index)\n",
        "#print (total_clientes)\n",
        "# Paso ese valor a % para poder graficarlo\n",
        "cant_p = (cant * 100 ) / total_clientes\n",
        "print (cant_p)\n",
        "\n",
        "#print (cant)\n",
        "plt.figure(figsize = (15,8))\n",
        "\n",
        "g = sns.barplot(data = df_final, x = cant_p.index, y =  cant_p  )\n",
        "\n",
        "g.set_title(\"Motivo de la baja de los clientes\")\n",
        "g.set_xlabel('Motivo de la baja')\n",
        "g.set_ylabel('Cantidad de clientes')\n",
        "\n",
        "plt.xticks(rotation=45)"
      ],
      "metadata": {
        "colab": {
          "base_uri": "https://localhost:8080/",
          "height": 1000
        },
        "id": "qEZBH10uEuCS",
        "outputId": "a46108ca-5709-4e89-89f7-ea197fa612cd"
      },
      "execution_count": 21,
      "outputs": [
        {
          "output_type": "stream",
          "name": "stdout",
          "text": [
            "Competitor had better devices                4.444129\n",
            "Competitor made better offer                 4.415732\n",
            "Attitude of support person                   3.123669\n",
            "Don't know                                   1.845804\n",
            "Competitor offered more data                 1.661224\n",
            "Competitor offered higher download speeds    1.419849\n",
            "Attitude of service provider                 1.334659\n",
            "Price too high                               1.107483\n",
            "Product dissatisfaction                      1.093284\n",
            "Network reliability                          1.022292\n",
            "Long distance charges                        0.908704\n",
            "Service dissatisfaction                      0.894505\n",
            "Moved                                        0.653131\n",
            "Extra data charges                           0.553741\n",
            "Limited range of services                    0.525344\n",
            "Poor expertise of online support             0.440153\n",
            "Lack of affordable download/upload speed     0.425955\n",
            "Lack of self-service on Website              0.411756\n",
            "Poor expertise of phone support              0.170382\n",
            "Deceased                                     0.085191\n",
            "Name: Churn Reason, dtype: float64\n"
          ]
        },
        {
          "output_type": "execute_result",
          "data": {
            "text/plain": [
              "(array([ 0,  1,  2,  3,  4,  5,  6,  7,  8,  9, 10, 11, 12, 13, 14, 15, 16,\n",
              "        17, 18, 19]),\n",
              " [Text(0, 0, 'Competitor had better devices'),\n",
              "  Text(1, 0, 'Competitor made better offer'),\n",
              "  Text(2, 0, 'Attitude of support person'),\n",
              "  Text(3, 0, \"Don't know\"),\n",
              "  Text(4, 0, 'Competitor offered more data'),\n",
              "  Text(5, 0, 'Competitor offered higher download speeds'),\n",
              "  Text(6, 0, 'Attitude of service provider'),\n",
              "  Text(7, 0, 'Price too high'),\n",
              "  Text(8, 0, 'Product dissatisfaction'),\n",
              "  Text(9, 0, 'Network reliability'),\n",
              "  Text(10, 0, 'Long distance charges'),\n",
              "  Text(11, 0, 'Service dissatisfaction'),\n",
              "  Text(12, 0, 'Moved'),\n",
              "  Text(13, 0, 'Extra data charges'),\n",
              "  Text(14, 0, 'Limited range of services'),\n",
              "  Text(15, 0, 'Poor expertise of online support'),\n",
              "  Text(16, 0, 'Lack of affordable download/upload speed'),\n",
              "  Text(17, 0, 'Lack of self-service on Website'),\n",
              "  Text(18, 0, 'Poor expertise of phone support'),\n",
              "  Text(19, 0, 'Deceased')])"
            ]
          },
          "metadata": {},
          "execution_count": 21
        },
        {
          "output_type": "display_data",
          "data": {
            "text/plain": [
              "<Figure size 1500x800 with 1 Axes>"
            ],
            "image/png": "[encoded data removed]"
          },
          "metadata": {}
        }
      ]
    },
    {
      "cell_type": "markdown",
      "source": [
        "¿Cual es la causa principal de la perdida de clientes?\n",
        "\n",
        "\n",
        "\n",
        "A partir del primer grafico podemos verificar que las principales causas de que los clientes soliciten la baja estan realacionadas 11% con la competencia, el 4% actitud, 4% por no estar satifecho con el servicio, 3% por el precio y 3% por otros motivos.\n",
        "\n",
        "Con el segundo grafico vamos a analizar las causas mas detalladas para enteneder que fue lo que genero la mayor pedida de clientes. Las principales causas fueron las ofertas (4% de la bajas) y los dispositvos que ofrecen la copentencia (4% de la bajas)."
      ],
      "metadata": {
        "id": "YKvshHWsE-6l"
      }
    },
    {
      "cell_type": "markdown",
      "source": [
        "### 3. ¿Que varibles tienen en comun los clientes que descontrataron el servicio (Por ejemplo: Edad, genero, etc)?\n",
        "Se genera un grafico de puntos de dispercion para analizar si hay alguna relacion entre la edad y el genero entre los clientes que descontrataron el servicio."
      ],
      "metadata": {
        "id": "SMBkTm7PNAoJ"
      }
    },
    {
      "cell_type": "markdown",
      "source": [
        "Primero limpiamos la tabla ya que tenemos 4 varibles de genero (Female, F, Male y M). Se remplaza las variables para tener solo 2 posibles valores (F, M)."
      ],
      "metadata": {
        "id": "aAlzm8aeNL92"
      }
    },
    {
      "cell_type": "code",
      "source": [
        "\n",
        "df_final = df_final.replace({\"Female\": \"F\", \"Male\": \"M\"}) # Remplazo los valores de genero\n",
        "\n",
        "\n",
        "g = sns.relplot(data = df_final, x = df_final['Age'].loc[df_final['Customer Status'] == \"Churned\"] , y = df_final['Age'].loc[df_final['Customer Status'] == \"Churned\"].value_counts () , hue = df_final['Gender'] )\n",
        "\n",
        "plt.title(\"Clientes que descontraron el servicio por edad\")\n",
        "plt.xlabel('Edad de los clientes')\n",
        "plt.ylabel('Cantidad de clientes')\n",
        "\n",
        "\n"
      ],
      "metadata": {
        "colab": {
          "base_uri": "https://localhost:8080/",
          "height": 546
        },
        "id": "xhAQ3dUebzIe",
        "outputId": "c11eb103-d2d8-4eaf-d62d-779699b9305c"
      },
      "execution_count": 25,
      "outputs": [
        {
          "output_type": "execute_result",
          "data": {
            "text/plain": [
              "Text(36.70517631172839, 0.5, 'Cantidad de clientes')"
            ]
          },
          "metadata": {},
          "execution_count": 25
        },
        {
          "output_type": "display_data",
          "data": {
            "text/plain": [
              "<Figure size 562.236x500 with 1 Axes>"
            ],
            "image/png": "[encoded data removed]"
          },
          "metadata": {}
        }
      ]
    },
    {
      "cell_type": "markdown",
      "source": [
        "¿Que varibles tienen en comun los clientes que descontrataron el servicio (Por ejemplo: Edad, genero, etc)?\n",
        "La edad realizando un simple analisis con la variable del genero no parecen ser varibles que den incidios de un patron relacionado con la descontratacion del servicio."
      ],
      "metadata": {
        "id": "mRbzMbsl7gPn"
      }
    },
    {
      "cell_type": "code",
      "source": [],
      "metadata": {
        "id": "xtV4w7PlNhuX"
      },
      "execution_count": null,
      "outputs": []
    },
    {
      "cell_type": "markdown",
      "source": [
        "### 4. ¿Que tipo de contranto tenian la mayoria de los clientes que abandonaron la empresa?\n",
        "Se generan graficos de barras para ver la cantidad de clientes que descontrataron el servicio segun el tipo de contranto que tenian.\n"
      ],
      "metadata": {
        "id": "JuGTy-HvGK14"
      }
    },
    {
      "cell_type": "code",
      "source": [
        "#Calculo la cantiadad de clientes por tipos de contrato\n",
        "y = df_final['Contract'].value_counts()\n",
        "print (y)\n",
        "# Total de los clientes\n",
        "total_clientes = len(df_final.index)\n",
        "#print (total_clientes)\n",
        "# Paso ese valor a % para poder graficarlo\n",
        "y_porcentaje = (df_final['Contract'].value_counts() * 100 ) / total_clientes\n",
        "# Grafico de barras con Seaborn\n",
        "g = sns.barplot(data = df_final, x = y_porcentaje.index, y =  y_porcentaje)  \n",
        "g.set_title(\"Cantidad de clientes por los tipos de contratos\")\n",
        "g.set_xlabel('Tipos de contrantos')\n",
        "g.set_ylabel('% de clientes')\n"
      ],
      "metadata": {
        "colab": {
          "base_uri": "https://localhost:8080/",
          "height": 382
        },
        "id": "F_RbQlM4J0k7",
        "outputId": "cdcec1e5-6ba3-4403-e02c-61a655040cd7"
      },
      "execution_count": null,
      "outputs": [
        {
          "output_type": "stream",
          "name": "stdout",
          "text": [
            "Month-to-Month    3610\n",
            "Two Year          1883\n",
            "One Year          1550\n",
            "Name: Contract, dtype: int64\n"
          ]
        },
        {
          "output_type": "execute_result",
          "data": {
            "text/plain": [
              "Text(0, 0.5, '% de clientes')"
            ]
          },
          "metadata": {},
          "execution_count": 20
        },
        {
          "output_type": "display_data",
          "data": {
            "text/plain": [
              "<Figure size 432x288 with 1 Axes>"
            ],
            "image/png": "[encoded data removed]"
          },
          "metadata": {
            "needs_background": "light"
          }
        }
      ]
    },
    {
      "cell_type": "code",
      "source": [
        "#Calculo la cantiadad de clientes por tipos de contrato\n",
        "y = df_final['Contract']\n",
        "#print (y)\n",
        "# Total de los clientes que descontrataron el servicio por cada tipo de contranto\n",
        "y =  y.loc[df_final['Customer Status'] == \"Churned\"].value_counts ()\n",
        "print (y)\n",
        "# Total de clientes que descontrataron el servicio\n",
        "total_clientes = len (df_final['Customer Status'].loc[df_final['Customer Status'] == \"Churned\"])\n",
        "print (total_clientes)\n",
        "y_porcentaje = (y * 100 ) / total_clientes \n",
        "print (y_porcentaje)\n",
        "\n",
        "# Grafico de barras con Seaborn\n",
        "g = sns.barplot(data = df_final, x = y_porcentaje.index, y =  y_porcentaje)  \n",
        "g.set_title(\"Cantidad de clientes por los tipos de contratos que solicitaron la baja del servicio\")\n",
        "g.set_xlabel('Tipos de contrantos')\n",
        "g.set_ylabel('% de clientes')\n",
        "\n"
      ],
      "metadata": {
        "colab": {
          "base_uri": "https://localhost:8080/",
          "height": 469
        },
        "id": "bNwasMRXlIFe",
        "outputId": "5f9e0697-34f3-4ec9-f158-14f3cc048c82"
      },
      "execution_count": null,
      "outputs": [
        {
          "output_type": "stream",
          "name": "stdout",
          "text": [
            "Month-to-Month    1655\n",
            "One Year           166\n",
            "Two Year            48\n",
            "Name: Contract, dtype: int64\n",
            "1869\n",
            "Month-to-Month    88.550027\n",
            "One Year           8.881755\n",
            "Two Year           2.568218\n",
            "Name: Contract, dtype: float64\n"
          ]
        },
        {
          "output_type": "execute_result",
          "data": {
            "text/plain": [
              "Text(0, 0.5, '% de clientes')"
            ]
          },
          "metadata": {},
          "execution_count": 25
        },
        {
          "output_type": "display_data",
          "data": {
            "text/plain": [
              "<Figure size 432x288 with 1 Axes>"
            ],
            "image/png": "[encoded data removed]"
          },
          "metadata": {
            "needs_background": "light"
          }
        }
      ]
    },
    {
      "cell_type": "markdown",
      "source": [
        "¿Que tipo de contranto tenian la mayoria de los clientes que abandonaron la empresa?\n",
        "Se observa que el 88% de los clientes que descontrataron el sevicio tenian un contrato de mes a mes.\n"
      ],
      "metadata": {
        "id": "vtvwfu3YIJAN"
      }
    },
    {
      "cell_type": "markdown",
      "source": [
        "### 5. ¿Cuantas ofertas de servicios tuvieron los clientes que abandonaron la empresa?"
      ],
      "metadata": {
        "id": "udLKUPaSsq2z"
      }
    },
    {
      "cell_type": "code",
      "source": [
        "#Calculo la cantiadad de clientes por tipos de contrato\n",
        "y = df_final['Offer']\n",
        "#print (y)\n",
        "# Total de los clientes que descontrataron el servicio por cada tipo de contranto\n",
        "y =  y.loc[df_final['Customer Status'] == \"Churned\"].value_counts ()\n",
        "print (y)\n",
        "# Total de clientes que descontrataron el servicio\n",
        "total_clientes = len (df_final['Customer Status'].loc[df_final['Customer Status'] == \"Churned\"])\n",
        "print (total_clientes)\n",
        "y_porcentaje = (y * 100 ) / total_clientes \n",
        "print (y_porcentaje)\n",
        "\n",
        "# Grafico de barras con Seaborn\n",
        "g = sns.barplot(data = df_final, x = y_porcentaje.index, y =  y_porcentaje)  \n",
        "g.set_title(\"Cantidad de ofertas que recibieron los clientes que solicitaron la baja del servicio\")\n",
        "g.set_xlabel('Tipos de oferta')\n",
        "g.set_ylabel('% de clientes')"
      ],
      "metadata": {
        "colab": {
          "base_uri": "https://localhost:8080/",
          "height": 573
        },
        "id": "OT8Yaqlms0T_",
        "outputId": "791f5413-cb5e-4bf6-941d-355da61d1950"
      },
      "execution_count": null,
      "outputs": [
        {
          "output_type": "stream",
          "name": "stdout",
          "text": [
            "None       1051\n",
            "Offer E     426\n",
            "Offer D     161\n",
            "Offer B     101\n",
            "Offer C      95\n",
            "Offer A      35\n",
            "Name: Offer, dtype: int64\n",
            "1869\n",
            "None       56.233280\n",
            "Offer E    22.792937\n",
            "Offer D     8.614232\n",
            "Offer B     5.403959\n",
            "Offer C     5.082932\n",
            "Offer A     1.872659\n",
            "Name: Offer, dtype: float64\n"
          ]
        },
        {
          "output_type": "execute_result",
          "data": {
            "text/plain": [
              "Text(0, 0.5, '% de clientes')"
            ]
          },
          "metadata": {},
          "execution_count": 102
        },
        {
          "output_type": "display_data",
          "data": {
            "text/plain": [
              "<Figure size 432x288 with 1 Axes>"
            ],
            "image/png": "[encoded data removed]"
          },
          "metadata": {
            "needs_background": "light"
          }
        }
      ]
    },
    {
      "cell_type": "markdown",
      "source": [
        "¿Cuantas ofertas de servicios tuvieron los clientes que abandonaron la empresa?\n",
        "Se puede observar que el 56% de los clientes que abandonaron la empresa no recibieron una oferta antes de descontratar el servicio."
      ],
      "metadata": {
        "id": "900g_QfstX4x"
      }
    },
    {
      "cell_type": "markdown",
      "source": [
        "#  Ignorar, ya que no pertence a esta entrega"
      ],
      "metadata": {
        "id": "W0pF_vK69h6K"
      }
    },
    {
      "cell_type": "markdown",
      "source": [
        "##  Modelo de árbol de decisión y logistica"
      ],
      "metadata": {
        "id": "6HTvEY1C_jhH"
      }
    },
    {
      "cell_type": "code",
      "source": [
        "import warnings\n",
        "warnings.filterwarnings(\"ignore\")\n",
        "\n",
        "# manejo de data\n",
        "import pandas as pd\n",
        "#pd.options.display.max_columns = 100\n",
        "pd.options.display.float_format = '{:.3f}'.format"
      ],
      "metadata": {
        "id": "UYFc8bSz_0Sv"
      },
      "execution_count": null,
      "outputs": []
    },
    {
      "cell_type": "code",
      "source": [
        "for col in ['Age', 'Tenure_in_Months', 'Total_Charges']:\n",
        "    print(col, d_desc[col])\n",
        "    fig, ax = plt.subplots(1,2, figsize=(15, 4))\n",
        "    ax[0] = sns.distplot(df_num[col], ax=ax[0])\n",
        "    ax[1] = sns.boxplot(df_num[col], ax=ax[1])\n",
        "    plt.show()"
      ],
      "metadata": {
        "colab": {
          "base_uri": "https://localhost:8080/",
          "height": 877
        },
        "id": "R9TZO2W8CglP",
        "outputId": "d26f44bf-cd5d-4db6-81eb-2d7f7009bf4b"
      },
      "execution_count": null,
      "outputs": [
        {
          "output_type": "stream",
          "name": "stdout",
          "text": [
            "Age  La edad actual del cliente, en años, en el momento en que finalizó el trimestre.\n"
          ]
        },
        {
          "output_type": "display_data",
          "data": {
            "text/plain": [
              "<Figure size 1080x288 with 2 Axes>"
            ],
            "image/png": "[encoded data removed]"
          },
          "metadata": {
            "needs_background": "light"
          }
        },
        {
          "output_type": "stream",
          "name": "stdout",
          "text": [
            "Tenure_in_Months  Indica la cantidad total de meses que el cliente ha estado con la empresa al final del trimestre especificado anteriormente.\n"
          ]
        },
        {
          "output_type": "display_data",
          "data": {
            "text/plain": [
              "<Figure size 1080x288 with 2 Axes>"
            ],
            "image/png": "[encoded data removed]"
          },
          "metadata": {
            "needs_background": "light"
          }
        },
        {
          "output_type": "stream",
          "name": "stdout",
          "text": [
            "Total_Charges  Indica los cargos totales del cliente, calculados al final del trimestre especificado anteriormente.\n"
          ]
        },
        {
          "output_type": "display_data",
          "data": {
            "text/plain": [
              "<Figure size 1080x288 with 2 Axes>"
            ],
            "image/png": "[encoded data removed]"
          },
          "metadata": {
            "needs_background": "light"
          }
        }
      ]
    },
    {
      "cell_type": "code",
      "source": [
        "for col in ['Age', 'Tenure_in_Months', 'Total_Charges']:\n",
        "    print(col, d_desc[col])\n",
        "    sns.violinplot(x='Churn_Value', y=col, data=df_num)\n",
        "    plt.show()"
      ],
      "metadata": {
        "colab": {
          "base_uri": "https://localhost:8080/",
          "height": 881
        },
        "id": "7vJjCcYZFMTR",
        "outputId": "44c8b9cf-d3f6-41f8-d302-d6a4b4d804d0"
      },
      "execution_count": null,
      "outputs": [
        {
          "output_type": "stream",
          "name": "stdout",
          "text": [
            "Age  La edad actual del cliente, en años, en el momento en que finalizó el trimestre.\n"
          ]
        },
        {
          "output_type": "display_data",
          "data": {
            "text/plain": [
              "<Figure size 432x288 with 1 Axes>"
            ],
            "image/png": "[encoded data removed]"
          },
          "metadata": {
            "needs_background": "light"
          }
        },
        {
          "output_type": "stream",
          "name": "stdout",
          "text": [
            "Tenure_in_Months  Indica la cantidad total de meses que el cliente ha estado con la empresa al final del trimestre especificado anteriormente.\n"
          ]
        },
        {
          "output_type": "display_data",
          "data": {
            "text/plain": [
              "<Figure size 432x288 with 1 Axes>"
            ],
            "image/png": "[encoded data removed]"
          },
          "metadata": {
            "needs_background": "light"
          }
        },
        {
          "output_type": "stream",
          "name": "stdout",
          "text": [
            "Total_Charges  Indica los cargos totales del cliente, calculados al final del trimestre especificado anteriormente.\n"
          ]
        },
        {
          "output_type": "display_data",
          "data": {
            "text/plain": [
              "<Figure size 432x288 with 1 Axes>"
            ],
            "image/png": "[encoded data removed]"
          },
          "metadata": {
            "needs_background": "light"
          }
        }
      ]
    },
    {
      "cell_type": "markdown",
      "source": [
        "A partir de los graficos anteriores podemos ver que la mayoria de los clientes que abandonaron la empresa no tenian un monto muy elevado de cargos totales y eran clientes relativamente nuevos."
      ],
      "metadata": {
        "id": "B0EwvNm9F0UF"
      }
    },
    {
      "cell_type": "markdown",
      "source": [
        "## Inputs del modelo:"
      ],
      "metadata": {
        "id": "PA7fPi7pgNs5"
      }
    },
    {
      "cell_type": "code",
      "source": [
        "columnas1 = df_num.drop(['Churn_Value'], axis = 1).columns.tolist()[:-1] \n",
        "columnas1"
      ],
      "metadata": {
        "colab": {
          "base_uri": "https://localhost:8080/"
        },
        "id": "rsGY9vwAhP1Q",
        "outputId": "3a06a64d-9a83-445f-a434-d47e685b2703"
      },
      "execution_count": null,
      "outputs": [
        {
          "output_type": "execute_result",
          "data": {
            "text/plain": [
              "['Count_x',\n",
              " 'Count_y',\n",
              " 'Number_of_Referrals',\n",
              " 'Tenure_in_Months',\n",
              " 'Avg Monthly Long Distance Charges',\n",
              " 'Avg Monthly GB Download',\n",
              " 'Monthly Charge',\n",
              " 'Total_Charges',\n",
              " 'Total Refunds',\n",
              " 'Total Extra Data Charges',\n",
              " 'Total Long Distance Charges',\n",
              " 'Total Revenue',\n",
              " 'Count',\n",
              " 'Age',\n",
              " 'Number of Dependents']"
            ]
          },
          "metadata": {},
          "execution_count": 177
        }
      ]
    },
    {
      "cell_type": "markdown",
      "source": [
        "Pero también podríamos hacer pruebas con otras combinaciones de columnas:"
      ],
      "metadata": {
        "id": "dNn5e82hBadB"
      }
    },
    {
      "cell_type": "markdown",
      "source": [
        "#### Columna 2"
      ],
      "metadata": {
        "id": "8JPuaMlHQgpM"
      }
    },
    {
      "cell_type": "code",
      "source": [
        "# Saco el numero de referencias que hicieron, la edad y el target \n",
        "columnas2 = df_num.drop(['Number_of_Referrals', 'Age','Churn_Value', 'Tenure_in_Months', 'Total_Charges'], axis = 1).columns.tolist()[:-1] \n"
      ],
      "metadata": {
        "id": "22N_n_uOBZ-F"
      },
      "execution_count": null,
      "outputs": []
    },
    {
      "cell_type": "markdown",
      "source": [
        "### Train & Test Split "
      ],
      "metadata": {
        "id": "OfodzF99g52q"
      }
    },
    {
      "cell_type": "code",
      "source": [
        "# split del dataset\n",
        "from sklearn.model_selection import train_test_split"
      ],
      "metadata": {
        "id": "cvWFJCPagP7K"
      },
      "execution_count": null,
      "outputs": []
    },
    {
      "cell_type": "code",
      "source": [
        "# separamos las caracteristicas/features del target\n",
        "X = df_num[columnas1]#.drop('y', axis=1)\n",
        "y = df_num['Churn_Value']"
      ],
      "metadata": {
        "id": "5til6dzRg-5r"
      },
      "execution_count": null,
      "outputs": []
    },
    {
      "cell_type": "code",
      "source": [
        "# train test split\n",
        "\n",
        "X_train, X_test, y_train, y_test = train_test_split(X, y,\n",
        "                                                    test_size=0.2,\n",
        "                                                    random_state=33,\n",
        "                                                    stratify= y)\n",
        "\n",
        "\n",
        "print('Tamaño del set de entrenamiento:', X_train.shape)\n",
        "print('Tamaño del set de testeo:', X_test.shape)"
      ],
      "metadata": {
        "colab": {
          "base_uri": "https://localhost:8080/"
        },
        "id": "pTVLAhyliDpH",
        "outputId": "44f0c754-d141-4758-cc6d-100ff2319860"
      },
      "execution_count": null,
      "outputs": [
        {
          "output_type": "stream",
          "name": "stdout",
          "text": [
            "Tamaño del set de entrenamiento: (5634, 15)\n",
            "Tamaño del set de testeo: (1409, 15)\n"
          ]
        }
      ]
    },
    {
      "cell_type": "code",
      "source": [
        "# porcentaje de clase True en train\n",
        "100*y_train.sum()/len(y_train)"
      ],
      "metadata": {
        "colab": {
          "base_uri": "https://localhost:8080/"
        },
        "id": "Syms7PTxiLC-",
        "outputId": "691cc1d6-0013-488c-8adb-b6e4d2499a41"
      },
      "execution_count": null,
      "outputs": [
        {
          "output_type": "execute_result",
          "data": {
            "text/plain": [
              "26.53532126375577"
            ]
          },
          "metadata": {},
          "execution_count": 182
        }
      ]
    },
    {
      "cell_type": "code",
      "source": [
        "# porcentaje de clase True en test\n",
        "100*y_test.sum()/len(y_test)"
      ],
      "metadata": {
        "colab": {
          "base_uri": "https://localhost:8080/"
        },
        "id": "EbF07NhOiNbI",
        "outputId": "ee24a5a4-4793-4eb3-f3cd-f4d55f147e03"
      },
      "execution_count": null,
      "outputs": [
        {
          "output_type": "execute_result",
          "data": {
            "text/plain": [
              "26.543647977288856"
            ]
          },
          "metadata": {},
          "execution_count": 183
        }
      ]
    },
    {
      "cell_type": "markdown",
      "source": [
        "## Árbol de Decisión:\n",
        "Pros:\n",
        "-------\n",
        "* alta capacidad de explicar la decisión\n",
        "* aceptan variables categóricas\n",
        "\n",
        "Contras:\n",
        "-----------\n",
        "* necesitan data balanceada\n",
        "* tienen a sobre ajuste"
      ],
      "metadata": {
        "id": "x5uCmUNViVO5"
      }
    },
    {
      "cell_type": "code",
      "source": [
        "# modelos\n",
        "from sklearn.tree import DecisionTreeClassifier"
      ],
      "metadata": {
        "id": "Kd_G-6smiZ4a"
      },
      "execution_count": null,
      "outputs": []
    },
    {
      "cell_type": "code",
      "source": [
        "# Paso 1: Instanciar el objeto/modelo\n",
        "tree_model = DecisionTreeClassifier(random_state = 0, class_weight='balanced')"
      ],
      "metadata": {
        "id": "60RfE9cHic2N"
      },
      "execution_count": null,
      "outputs": []
    },
    {
      "cell_type": "markdown",
      "source": [
        "### Entrenamiento, predicción y evaluación:"
      ],
      "metadata": {
        "id": "kjHr24owihB0"
      }
    },
    {
      "cell_type": "code",
      "source": [
        "# entrenamiento\n",
        "#Paso 2: Ajustar el modelo con los datos\n",
        "tree_model.fit(X_train, y_train)"
      ],
      "metadata": {
        "colab": {
          "base_uri": "https://localhost:8080/",
          "height": 75
        },
        "id": "WjA1Ve1jikTl",
        "outputId": "1eb33fbd-f0ea-4634-df42-6c7c055278fa"
      },
      "execution_count": null,
      "outputs": [
        {
          "output_type": "execute_result",
          "data": {
            "text/plain": [
              "DecisionTreeClassifier(class_weight='balanced', random_state=0)"
            ],
            "text/html": [
              "<style>#sk-container-id-7 {color: black;background-color: white;}#sk-container-id-7 pre{padding: 0;}#sk-container-id-7 div.sk-toggleable {background-color: white;}#sk-container-id-7 label.sk-toggleable__label {cursor: pointer;display: block;width: 100%;margin-bottom: 0;padding: 0.3em;box-sizing: border-box;text-align: center;}#sk-container-id-7 label.sk-toggleable__label-arrow:before {content: \"▸\";float: left;margin-right: 0.25em;color: #696969;}#sk-container-id-7 label.sk-toggleable__label-arrow:hover:before {color: black;}#sk-container-id-7 div.sk-estimator:hover label.sk-toggleable__label-arrow:before {color: black;}#sk-container-id-7 div.sk-toggleable__content {max-height: 0;max-width: 0;overflow: hidden;text-align: left;background-color: #f0f8ff;}#sk-container-id-7 div.sk-toggleable__content pre {margin: 0.2em;color: black;border-radius: 0.25em;background-color: #f0f8ff;}#sk-container-id-7 input.sk-toggleable__control:checked~div.sk-toggleable__content {max-height: 200px;max-width: 100%;overflow: auto;}#sk-container-id-7 input.sk-toggleable__control:checked~label.sk-toggleable__label-arrow:before {content: \"▾\";}#sk-container-id-7 div.sk-estimator input.sk-toggleable__control:checked~label.sk-toggleable__label {background-color: #d4ebff;}#sk-container-id-7 div.sk-label input.sk-toggleable__control:checked~label.sk-toggleable__label {background-color: #d4ebff;}#sk-container-id-7 input.sk-hidden--visually {border: 0;clip: rect(1px 1px 1px 1px);clip: rect(1px, 1px, 1px, 1px);height: 1px;margin: -1px;overflow: hidden;padding: 0;position: absolute;width: 1px;}#sk-container-id-7 div.sk-estimator {font-family: monospace;background-color: #f0f8ff;border: 1px dotted black;border-radius: 0.25em;box-sizing: border-box;margin-bottom: 0.5em;}#sk-container-id-7 div.sk-estimator:hover {background-color: #d4ebff;}#sk-container-id-7 div.sk-parallel-item::after {content: \"\";width: 100%;border-bottom: 1px solid gray;flex-grow: 1;}#sk-container-id-7 div.sk-label:hover label.sk-toggleable__label {background-color: #d4ebff;}#sk-container-id-7 div.sk-serial::before {content: \"\";position: absolute;border-left: 1px solid gray;box-sizing: border-box;top: 0;bottom: 0;left: 50%;z-index: 0;}#sk-container-id-7 div.sk-serial {display: flex;flex-direction: column;align-items: center;background-color: white;padding-right: 0.2em;padding-left: 0.2em;position: relative;}#sk-container-id-7 div.sk-item {position: relative;z-index: 1;}#sk-container-id-7 div.sk-parallel {display: flex;align-items: stretch;justify-content: center;background-color: white;position: relative;}#sk-container-id-7 div.sk-item::before, #sk-container-id-7 div.sk-parallel-item::before {content: \"\";position: absolute;border-left: 1px solid gray;box-sizing: border-box;top: 0;bottom: 0;left: 50%;z-index: -1;}#sk-container-id-7 div.sk-parallel-item {display: flex;flex-direction: column;z-index: 1;position: relative;background-color: white;}#sk-container-id-7 div.sk-parallel-item:first-child::after {align-self: flex-end;width: 50%;}#sk-container-id-7 div.sk-parallel-item:last-child::after {align-self: flex-start;width: 50%;}#sk-container-id-7 div.sk-parallel-item:only-child::after {width: 0;}#sk-container-id-7 div.sk-dashed-wrapped {border: 1px dashed gray;margin: 0 0.4em 0.5em 0.4em;box-sizing: border-box;padding-bottom: 0.4em;background-color: white;}#sk-container-id-7 div.sk-label label {font-family: monospace;font-weight: bold;display: inline-block;line-height: 1.2em;}#sk-container-id-7 div.sk-label-container {text-align: center;}#sk-container-id-7 div.sk-container {/* jupyter's `normalize.less` sets `[hidden] { display: none; }` but bootstrap.min.css set `[hidden] { display: none !important; }` so we also need the `!important` here to be able to override the default hidden behavior on the sphinx rendered scikit-learn.org. See: https://github.com/scikit-learn/scikit-learn/issues/21755 */display: inline-block !important;position: relative;}#sk-container-id-7 div.sk-text-repr-fallback {display: none;}</style><div id=\"sk-container-id-7\" class=\"sk-top-container\"><div class=\"sk-text-repr-fallback\"><pre>DecisionTreeClassifier(class_weight=&#x27;balanced&#x27;, random_state=0)</pre><b>In a Jupyter environment, please rerun this cell to show the HTML representation or trust the notebook. <br />On GitHub, the HTML representation is unable to render, please try loading this page with nbviewer.org.</b></div><div class=\"sk-container\" hidden><div class=\"sk-item\"><div class=\"sk-estimator sk-toggleable\"><input class=\"sk-toggleable__control sk-hidden--visually\" id=\"sk-estimator-id-7\" type=\"checkbox\" checked><label for=\"sk-estimator-id-7\" class=\"sk-toggleable__label sk-toggleable__label-arrow\">DecisionTreeClassifier</label><div class=\"sk-toggleable__content\"><pre>DecisionTreeClassifier(class_weight=&#x27;balanced&#x27;, random_state=0)</pre></div></div></div></div></div>"
            ]
          },
          "metadata": {},
          "execution_count": 186
        }
      ]
    },
    {
      "cell_type": "markdown",
      "source": [
        "### Predicciones:"
      ],
      "metadata": {
        "id": "A4ArioOfirfE"
      }
    },
    {
      "cell_type": "code",
      "source": [
        "# predicciones\n",
        "# Paso 3: Predecir\n",
        "y_pred = tree_model.predict(X_test)\n",
        "y_pred_train = tree_model.predict(X_train)"
      ],
      "metadata": {
        "id": "-vmSvxAkirFc"
      },
      "execution_count": null,
      "outputs": []
    },
    {
      "cell_type": "code",
      "source": [
        "X_test.shape, y_test.shape"
      ],
      "metadata": {
        "colab": {
          "base_uri": "https://localhost:8080/"
        },
        "id": "ZyRJVqRViv_o",
        "outputId": "de820c1d-1716-4281-8b56-b95735b8ff58"
      },
      "execution_count": null,
      "outputs": [
        {
          "output_type": "execute_result",
          "data": {
            "text/plain": [
              "((1409, 15), (1409,))"
            ]
          },
          "metadata": {},
          "execution_count": 188
        }
      ]
    },
    {
      "cell_type": "code",
      "source": [
        "y_pred.shape"
      ],
      "metadata": {
        "colab": {
          "base_uri": "https://localhost:8080/"
        },
        "id": "y3x8WEZ7iy_f",
        "outputId": "f01af998-5454-459a-9379-6671550fe26a"
      },
      "execution_count": null,
      "outputs": [
        {
          "output_type": "execute_result",
          "data": {
            "text/plain": [
              "(1409,)"
            ]
          },
          "metadata": {},
          "execution_count": 189
        }
      ]
    },
    {
      "cell_type": "markdown",
      "source": [
        "Miramos las 10 primeras predicciones:"
      ],
      "metadata": {
        "id": "04peNVSti17N"
      }
    },
    {
      "cell_type": "code",
      "source": [
        "X_test.head(10)"
      ],
      "metadata": {
        "colab": {
          "base_uri": "https://localhost:8080/",
          "height": 497
        },
        "id": "LNjkYh55i2ps",
        "outputId": "e3155da4-02a4-464d-e391-71bd9817a918"
      },
      "execution_count": null,
      "outputs": [
        {
          "output_type": "execute_result",
          "data": {
            "text/plain": [
              "      Count_x  Count_y  Number_of_Referrals  Tenure_in_Months  \\\n",
              "2555        1        1                    0                 1   \n",
              "3575        1        1                    0                20   \n",
              "3095        1        1                    0                 5   \n",
              "3606        1        1                    8                 6   \n",
              "551         1        1                    1                47   \n",
              "4262        1        1                    0                72   \n",
              "4143        1        1                    9                71   \n",
              "1674        1        1                    0                 4   \n",
              "5549        1        1                    0                51   \n",
              "1295        1        1                    0                58   \n",
              "\n",
              "      Avg Monthly Long Distance Charges  Avg Monthly GB Download  \\\n",
              "2555                             24.480                        0   \n",
              "3575                             33.140                       17   \n",
              "3095                             24.610                        0   \n",
              "3606                             31.730                        0   \n",
              "551                              42.290                       22   \n",
              "4262                             45.750                        0   \n",
              "4143                             32.180                        0   \n",
              "1674                             30.440                       10   \n",
              "5549                             47.430                        0   \n",
              "1295                             44.500                       47   \n",
              "\n",
              "      Monthly Charge  Total_Charges  Total Refunds  Total Extra Data Charges  \\\n",
              "2555          20.200         20.200          0.000                         0   \n",
              "3575          59.200       1191.200          0.000                       130   \n",
              "3095          20.500        104.300          0.000                         0   \n",
              "3606          25.400        153.300          0.000                         0   \n",
              "551           84.950       4018.050          0.000                        80   \n",
              "4262          19.300       1414.800          0.000                         0   \n",
              "4143          24.500       1816.200          0.000                         0   \n",
              "1674          50.400        206.600          0.000                         0   \n",
              "5549          20.450       1042.650          0.000                         0   \n",
              "1295         103.250       6017.650          0.000                         0   \n",
              "\n",
              "      Total Long Distance Charges  Total Revenue  Count  Age  \\\n",
              "2555                       24.480         44.680      1   35   \n",
              "3575                      662.800       1984.000      1   53   \n",
              "3095                      123.050        227.350      1   44   \n",
              "3606                      190.380        343.680      1   58   \n",
              "551                      1987.630       6085.680      1   72   \n",
              "4262                     3294.000       4708.800      1   57   \n",
              "4143                     2284.780       4100.980      1   20   \n",
              "1674                      121.760        328.360      1   60   \n",
              "5549                     2418.930       3461.580      1   36   \n",
              "1295                     2581.000       8598.650      1   20   \n",
              "\n",
              "      Number of Dependents  \n",
              "2555                     0  \n",
              "3575                     0  \n",
              "3095                     0  \n",
              "3606                     3  \n",
              "551                      1  \n",
              "4262                     0  \n",
              "4143                     0  \n",
              "1674                     0  \n",
              "5549                     0  \n",
              "1295                     0  "
            ],
            "text/html": [
              "\n",
              "  <div id=\"df-f76a2d4a-9591-4d47-a565-0c18351018be\">\n",
              "    <div class=\"colab-df-container\">\n",
              "      <div>\n",
              "<style scoped>\n",
              "    .dataframe tbody tr th:only-of-type {\n",
              "        vertical-align: middle;\n",
              "    }\n",
              "\n",
              "    .dataframe tbody tr th {\n",
              "        vertical-align: top;\n",
              "    }\n",
              "\n",
              "    .dataframe thead th {\n",
              "        text-align: right;\n",
              "    }\n",
              "</style>\n",
              "<table border=\"1\" class=\"dataframe\">\n",
              "  <thead>\n",
              "    <tr style=\"text-align: right;\">\n",
              "      <th></th>\n",
              "      <th>Count_x</th>\n",
              "      <th>Count_y</th>\n",
              "      <th>Number_of_Referrals</th>\n",
              "      <th>Tenure_in_Months</th>\n",
              "      <th>Avg Monthly Long Distance Charges</th>\n",
              "      <th>Avg Monthly GB Download</th>\n",
              "      <th>Monthly Charge</th>\n",
              "      <th>Total_Charges</th>\n",
              "      <th>Total Refunds</th>\n",
              "      <th>Total Extra Data Charges</th>\n",
              "      <th>Total Long Distance Charges</th>\n",
              "      <th>Total Revenue</th>\n",
              "      <th>Count</th>\n",
              "      <th>Age</th>\n",
              "      <th>Number of Dependents</th>\n",
              "    </tr>\n",
              "  </thead>\n",
              "  <tbody>\n",
              "    <tr>\n",
              "      <th>2555</th>\n",
              "      <td>1</td>\n",
              "      <td>1</td>\n",
              "      <td>0</td>\n",
              "      <td>1</td>\n",
              "      <td>24.480</td>\n",
              "      <td>0</td>\n",
              "      <td>20.200</td>\n",
              "      <td>20.200</td>\n",
              "      <td>0.000</td>\n",
              "      <td>0</td>\n",
              "      <td>24.480</td>\n",
              "      <td>44.680</td>\n",
              "      <td>1</td>\n",
              "      <td>35</td>\n",
              "      <td>0</td>\n",
              "    </tr>\n",
              "    <tr>\n",
              "      <th>3575</th>\n",
              "      <td>1</td>\n",
              "      <td>1</td>\n",
              "      <td>0</td>\n",
              "      <td>20</td>\n",
              "      <td>33.140</td>\n",
              "      <td>17</td>\n",
              "      <td>59.200</td>\n",
              "      <td>1191.200</td>\n",
              "      <td>0.000</td>\n",
              "      <td>130</td>\n",
              "      <td>662.800</td>\n",
              "      <td>1984.000</td>\n",
              "      <td>1</td>\n",
              "      <td>53</td>\n",
              "      <td>0</td>\n",
              "    </tr>\n",
              "    <tr>\n",
              "      <th>3095</th>\n",
              "      <td>1</td>\n",
              "      <td>1</td>\n",
              "      <td>0</td>\n",
              "      <td>5</td>\n",
              "      <td>24.610</td>\n",
              "      <td>0</td>\n",
              "      <td>20.500</td>\n",
              "      <td>104.300</td>\n",
              "      <td>0.000</td>\n",
              "      <td>0</td>\n",
              "      <td>123.050</td>\n",
              "      <td>227.350</td>\n",
              "      <td>1</td>\n",
              "      <td>44</td>\n",
              "      <td>0</td>\n",
              "    </tr>\n",
              "    <tr>\n",
              "      <th>3606</th>\n",
              "      <td>1</td>\n",
              "      <td>1</td>\n",
              "      <td>8</td>\n",
              "      <td>6</td>\n",
              "      <td>31.730</td>\n",
              "      <td>0</td>\n",
              "      <td>25.400</td>\n",
              "      <td>153.300</td>\n",
              "      <td>0.000</td>\n",
              "      <td>0</td>\n",
              "      <td>190.380</td>\n",
              "      <td>343.680</td>\n",
              "      <td>1</td>\n",
              "      <td>58</td>\n",
              "      <td>3</td>\n",
              "    </tr>\n",
              "    <tr>\n",
              "      <th>551</th>\n",
              "      <td>1</td>\n",
              "      <td>1</td>\n",
              "      <td>1</td>\n",
              "      <td>47</td>\n",
              "      <td>42.290</td>\n",
              "      <td>22</td>\n",
              "      <td>84.950</td>\n",
              "      <td>4018.050</td>\n",
              "      <td>0.000</td>\n",
              "      <td>80</td>\n",
              "      <td>1987.630</td>\n",
              "      <td>6085.680</td>\n",
              "      <td>1</td>\n",
              "      <td>72</td>\n",
              "      <td>1</td>\n",
              "    </tr>\n",
              "    <tr>\n",
              "      <th>4262</th>\n",
              "      <td>1</td>\n",
              "      <td>1</td>\n",
              "      <td>0</td>\n",
              "      <td>72</td>\n",
              "      <td>45.750</td>\n",
              "      <td>0</td>\n",
              "      <td>19.300</td>\n",
              "      <td>1414.800</td>\n",
              "      <td>0.000</td>\n",
              "      <td>0</td>\n",
              "      <td>3294.000</td>\n",
              "      <td>4708.800</td>\n",
              "      <td>1</td>\n",
              "      <td>57</td>\n",
              "      <td>0</td>\n",
              "    </tr>\n",
              "    <tr>\n",
              "      <th>4143</th>\n",
              "      <td>1</td>\n",
              "      <td>1</td>\n",
              "      <td>9</td>\n",
              "      <td>71</td>\n",
              "      <td>32.180</td>\n",
              "      <td>0</td>\n",
              "      <td>24.500</td>\n",
              "      <td>1816.200</td>\n",
              "      <td>0.000</td>\n",
              "      <td>0</td>\n",
              "      <td>2284.780</td>\n",
              "      <td>4100.980</td>\n",
              "      <td>1</td>\n",
              "      <td>20</td>\n",
              "      <td>0</td>\n",
              "    </tr>\n",
              "    <tr>\n",
              "      <th>1674</th>\n",
              "      <td>1</td>\n",
              "      <td>1</td>\n",
              "      <td>0</td>\n",
              "      <td>4</td>\n",
              "      <td>30.440</td>\n",
              "      <td>10</td>\n",
              "      <td>50.400</td>\n",
              "      <td>206.600</td>\n",
              "      <td>0.000</td>\n",
              "      <td>0</td>\n",
              "      <td>121.760</td>\n",
              "      <td>328.360</td>\n",
              "      <td>1</td>\n",
              "      <td>60</td>\n",
              "      <td>0</td>\n",
              "    </tr>\n",
              "    <tr>\n",
              "      <th>5549</th>\n",
              "      <td>1</td>\n",
              "      <td>1</td>\n",
              "      <td>0</td>\n",
              "      <td>51</td>\n",
              "      <td>47.430</td>\n",
              "      <td>0</td>\n",
              "      <td>20.450</td>\n",
              "      <td>1042.650</td>\n",
              "      <td>0.000</td>\n",
              "      <td>0</td>\n",
              "      <td>2418.930</td>\n",
              "      <td>3461.580</td>\n",
              "      <td>1</td>\n",
              "      <td>36</td>\n",
              "      <td>0</td>\n",
              "    </tr>\n",
              "    <tr>\n",
              "      <th>1295</th>\n",
              "      <td>1</td>\n",
              "      <td>1</td>\n",
              "      <td>0</td>\n",
              "      <td>58</td>\n",
              "      <td>44.500</td>\n",
              "      <td>47</td>\n",
              "      <td>103.250</td>\n",
              "      <td>6017.650</td>\n",
              "      <td>0.000</td>\n",
              "      <td>0</td>\n",
              "      <td>2581.000</td>\n",
              "      <td>8598.650</td>\n",
              "      <td>1</td>\n",
              "      <td>20</td>\n",
              "      <td>0</td>\n",
              "    </tr>\n",
              "  </tbody>\n",
              "</table>\n",
              "</div>\n",
              "      <button class=\"colab-df-convert\" onclick=\"convertToInteractive('df-f76a2d4a-9591-4d47-a565-0c18351018be')\"\n",
              "              title=\"Convert this dataframe to an interactive table.\"\n",
              "              style=\"display:none;\">\n",
              "        \n",
              "  <svg xmlns=\"http://www.w3.org/2000/svg\" height=\"24px\"viewBox=\"0 0 24 24\"\n",
              "       width=\"24px\">\n",
              "    <path d=\"M0 0h24v24H0V0z\" fill=\"none\"/>\n",
              "    <path d=\"M18.56 5.44l.94 2.06.94-2.06 2.06-.94-2.06-.94-.94-2.06-.94 2.06-2.06.94zm-11 1L8.5 8.5l.94-2.06 2.06-.94-2.06-.94L8.5 2.5l-.94 2.06-2.06.94zm10 10l.94 2.06.94-2.06 2.06-.94-2.06-.94-.94-2.06-.94 2.06-2.06.94z\"/><path d=\"M17.41 7.96l-1.37-1.37c-.4-.4-.92-.59-1.43-.59-.52 0-1.04.2-1.43.59L10.3 9.45l-7.72 7.72c-.78.78-.78 2.05 0 2.83L4 21.41c.39.39.9.59 1.41.59.51 0 1.02-.2 1.41-.59l7.78-7.78 2.81-2.81c.8-.78.8-2.07 0-2.86zM5.41 20L4 18.59l7.72-7.72 1.47 1.35L5.41 20z\"/>\n",
              "  </svg>\n",
              "      </button>\n",
              "      \n",
              "  <style>\n",
              "    .colab-df-container {\n",
              "      display:flex;\n",
              "      flex-wrap:wrap;\n",
              "      gap: 12px;\n",
              "    }\n",
              "\n",
              "    .colab-df-convert {\n",
              "      background-color: #E8F0FE;\n",
              "      border: none;\n",
              "      border-radius: 50%;\n",
              "      cursor: pointer;\n",
              "      display: none;\n",
              "      fill: #1967D2;\n",
              "      height: 32px;\n",
              "      padding: 0 0 0 0;\n",
              "      width: 32px;\n",
              "    }\n",
              "\n",
              "    .colab-df-convert:hover {\n",
              "      background-color: #E2EBFA;\n",
              "      box-shadow: 0px 1px 2px rgba(60, 64, 67, 0.3), 0px 1px 3px 1px rgba(60, 64, 67, 0.15);\n",
              "      fill: #174EA6;\n",
              "    }\n",
              "\n",
              "    [theme=dark] .colab-df-convert {\n",
              "      background-color: #3B4455;\n",
              "      fill: #D2E3FC;\n",
              "    }\n",
              "\n",
              "    [theme=dark] .colab-df-convert:hover {\n",
              "      background-color: #434B5C;\n",
              "      box-shadow: 0px 1px 3px 1px rgba(0, 0, 0, 0.15);\n",
              "      filter: drop-shadow(0px 1px 2px rgba(0, 0, 0, 0.3));\n",
              "      fill: #FFFFFF;\n",
              "    }\n",
              "  </style>\n",
              "\n",
              "      <script>\n",
              "        const buttonEl =\n",
              "          document.querySelector('#df-f76a2d4a-9591-4d47-a565-0c18351018be button.colab-df-convert');\n",
              "        buttonEl.style.display =\n",
              "          google.colab.kernel.accessAllowed ? 'block' : 'none';\n",
              "\n",
              "        async function convertToInteractive(key) {\n",
              "          const element = document.querySelector('#df-f76a2d4a-9591-4d47-a565-0c18351018be');\n",
              "          const dataTable =\n",
              "            await google.colab.kernel.invokeFunction('convertToInteractive',\n",
              "                                                     [key], {});\n",
              "          if (!dataTable) return;\n",
              "\n",
              "          const docLinkHtml = 'Like what you see? Visit the ' +\n",
              "            '<a target=\"_blank\" href=https://colab.research.google.com/notebooks/data_table.ipynb>data table notebook</a>'\n",
              "            + ' to learn more about interactive tables.';\n",
              "          element.innerHTML = '';\n",
              "          dataTable['output_type'] = 'display_data';\n",
              "          await google.colab.output.renderOutput(dataTable, element);\n",
              "          const docLink = document.createElement('div');\n",
              "          docLink.innerHTML = docLinkHtml;\n",
              "          element.appendChild(docLink);\n",
              "        }\n",
              "      </script>\n",
              "    </div>\n",
              "  </div>\n",
              "  "
            ]
          },
          "metadata": {},
          "execution_count": 190
        }
      ]
    },
    {
      "cell_type": "code",
      "source": [
        "y_pred[:10]"
      ],
      "metadata": {
        "colab": {
          "base_uri": "https://localhost:8080/"
        },
        "id": "sr4UH5sYi9OS",
        "outputId": "addb9edb-42cd-4075-c020-8590e5d4d62e"
      },
      "execution_count": null,
      "outputs": [
        {
          "output_type": "execute_result",
          "data": {
            "text/plain": [
              "array([1, 0, 0, 0, 0, 0, 0, 0, 0, 1])"
            ]
          },
          "metadata": {},
          "execution_count": 191
        }
      ]
    },
    {
      "cell_type": "markdown",
      "source": [
        "Y lo comparamos con el valor real del target de las 10 primeras filas\n",
        "\n",
        "---\n",
        "\n"
      ],
      "metadata": {
        "id": "F6YWNG30jBhA"
      }
    },
    {
      "cell_type": "code",
      "source": [
        "y_test[:10].values"
      ],
      "metadata": {
        "colab": {
          "base_uri": "https://localhost:8080/"
        },
        "id": "oLiDR_i-jDEK",
        "outputId": "c4bc4553-6ee1-4db9-c0ce-4a29e856f466"
      },
      "execution_count": null,
      "outputs": [
        {
          "output_type": "execute_result",
          "data": {
            "text/plain": [
              "array([0, 0, 0, 0, 0, 0, 0, 1, 0, 1])"
            ]
          },
          "metadata": {},
          "execution_count": 192
        }
      ]
    },
    {
      "cell_type": "markdown",
      "source": [
        "### Evaluación "
      ],
      "metadata": {
        "id": "rrrGMVxOjIGL"
      }
    },
    {
      "cell_type": "code",
      "source": [
        "# evaluacion \n",
        "from sklearn.metrics import accuracy_score, recall_score, precision_score, f1_score\n",
        "from sklearn.metrics import classification_report\n",
        "from sklearn.metrics import confusion_matrix"
      ],
      "metadata": {
        "id": "QOnnGt_djIuA"
      },
      "execution_count": null,
      "outputs": []
    },
    {
      "cell_type": "markdown",
      "source": [
        "Evaluamos el modelo en el conjunto de testeo:"
      ],
      "metadata": {
        "id": "kU5oQxK8jMaU"
      }
    },
    {
      "cell_type": "code",
      "source": [
        "recall = recall_score(y_train, y_pred_train)\n",
        "precision = precision_score(y_train, y_pred_train)\n",
        "acc = accuracy_score(y_train, y_pred_train)\n",
        "f1 = f1_score(y_train, y_pred_train)\n",
        "\n",
        "print('METRICAS TRAIN:')\n",
        "print('Recall: {:.4f}'.format(recall))\n",
        "print('Precision: {:.4f}'.format(precision))\n",
        "print('F1: {:.4f}'.format(f1))\n",
        "print('Accuracy: {:.4f}'.format(acc))"
      ],
      "metadata": {
        "colab": {
          "base_uri": "https://localhost:8080/"
        },
        "id": "pQJjD1SQjM5Z",
        "outputId": "f90a980c-efcd-4f4e-b343-5b55c8f9c3b2"
      },
      "execution_count": null,
      "outputs": [
        {
          "output_type": "stream",
          "name": "stdout",
          "text": [
            "METRICAS TRAIN:\n",
            "Recall: 1.0000\n",
            "Precision: 1.0000\n",
            "F1: 1.0000\n",
            "Accuracy: 1.0000\n"
          ]
        }
      ]
    },
    {
      "cell_type": "markdown",
      "source": [
        "Evaluamos el modelo ya entrenado en el conjunto de testeo:"
      ],
      "metadata": {
        "id": "gsQDV3jRjSjG"
      }
    },
    {
      "cell_type": "code",
      "source": [
        "recall = recall_score(y_test, y_pred)\n",
        "precision = precision_score(y_test, y_pred)\n",
        "acc = accuracy_score(y_test, y_pred)\n",
        "f1 = f1_score(y_test, y_pred)\n",
        "\n",
        "print('METRICAS TEST:')\n",
        "print('Recall: {:.4f}'.format(recall))\n",
        "print('Precision: {:.4f}'.format(precision))\n",
        "print('F1: {:.4f}'.format(f1))\n",
        "print('Accuracy: {:.4f}'.format(acc))"
      ],
      "metadata": {
        "colab": {
          "base_uri": "https://localhost:8080/"
        },
        "id": "p9NZRGvVjT33",
        "outputId": "38e7a1c2-67b5-4bb1-a21b-611cb874353a"
      },
      "execution_count": null,
      "outputs": [
        {
          "output_type": "stream",
          "name": "stdout",
          "text": [
            "METRICAS TEST:\n",
            "Recall: 0.5134\n",
            "Precision: 0.5147\n",
            "F1: 0.5141\n",
            "Accuracy: 0.7424\n"
          ]
        }
      ]
    },
    {
      "cell_type": "markdown",
      "source": [
        "A partir de estos resultados se decide utilizar las variables de texto del DataSet Final que sean \"yes\" o \"no\" y remplazarlas por 1 (yes) o 0 (no) segun corresponda.\n",
        "Con esto buscamos mejorar los resultados obtenidos con el modelo utilizado."
      ],
      "metadata": {
        "id": "BgbMln0Smi0c"
      }
    },
    {
      "cell_type": "markdown",
      "source": [
        "## Modelo de arbol utilizando utlizando mas variables"
      ],
      "metadata": {
        "id": "74Ng6kyZnCX4"
      }
    },
    {
      "cell_type": "markdown",
      "source": [
        "### Data"
      ],
      "metadata": {
        "id": "Crwm8-dEnQw_"
      }
    },
    {
      "cell_type": "code",
      "source": [
        "#Para poder utilizar mas variables vamos a replanzar los yes/no por 1/0 segun corresponda\n",
        "\n",
        "df_final = df_final.replace({\"Yes\": 1, \"No\": 0})\n",
        "\n",
        "df_num = df_final.select_dtypes('number') # datos númericos\n",
        "df_num ['Customer ID'] = df_final ['Customer ID']\n",
        "df_num.head (5)\n"
      ],
      "metadata": {
        "colab": {
          "base_uri": "https://localhost:8080/",
          "height": 456
        },
        "id": "Zj2LSDl6nSmS",
        "outputId": "82cf39dc-ecd1-4568-8b27-9576554959c1"
      },
      "execution_count": null,
      "outputs": [
        {
          "output_type": "execute_result",
          "data": {
            "text/plain": [
              "   Count_x  Churn_Label  Churn_Value  Count_y  Referred a Friend  \\\n",
              "0        1            1            1        1                  0   \n",
              "1        1            1            1        1                  1   \n",
              "2        1            1            1        1                  0   \n",
              "3        1            1            1        1                  1   \n",
              "4        1            1            1        1                  1   \n",
              "\n",
              "   Number_of_Referrals  Tenure_in_Months  Phone Service  \\\n",
              "0                    0                 1              0   \n",
              "1                    1                 8              1   \n",
              "2                    0                18              1   \n",
              "3                    1                25              1   \n",
              "4                    1                37              1   \n",
              "\n",
              "   Avg Monthly Long Distance Charges  Multiple Lines  ...  \\\n",
              "0                              0.000               0  ...   \n",
              "1                             48.850               1  ...   \n",
              "2                             11.330               1  ...   \n",
              "3                             19.760               0  ...   \n",
              "4                              6.330               1  ...   \n",
              "\n",
              "   Total Long Distance Charges  Total Revenue  Count  Age  Under 30  \\\n",
              "0                        0.000         59.650      1   78         0   \n",
              "1                      390.800       1024.100      1   74         0   \n",
              "2                      203.940       1910.880      1   71         0   \n",
              "3                      494.000       2995.070      1   78         0   \n",
              "4                      234.210       3102.360      1   80         0   \n",
              "\n",
              "   Senior Citizen  Married  Dependents  Number of Dependents  Customer ID  \n",
              "0               1        0           0                     0   8779-QRDMV  \n",
              "1               1        1           1                     1   7495-OOKFY  \n",
              "2               1        0           1                     3   1658-BYGOY  \n",
              "3               1        1           1                     1   4598-XLKNJ  \n",
              "4               1        1           1                     1   4846-WHAFZ  \n",
              "\n",
              "[5 rows x 35 columns]"
            ],
            "text/html": [
              "\n",
              "  <div id=\"df-06c4ef58-6bc6-4861-9ad6-6ac1335af741\">\n",
              "    <div class=\"colab-df-container\">\n",
              "      <div>\n",
              "<style scoped>\n",
              "    .dataframe tbody tr th:only-of-type {\n",
              "        vertical-align: middle;\n",
              "    }\n",
              "\n",
              "    .dataframe tbody tr th {\n",
              "        vertical-align: top;\n",
              "    }\n",
              "\n",
              "    .dataframe thead th {\n",
              "        text-align: right;\n",
              "    }\n",
              "</style>\n",
              "<table border=\"1\" class=\"dataframe\">\n",
              "  <thead>\n",
              "    <tr style=\"text-align: right;\">\n",
              "      <th></th>\n",
              "      <th>Count_x</th>\n",
              "      <th>Churn_Label</th>\n",
              "      <th>Churn_Value</th>\n",
              "      <th>Count_y</th>\n",
              "      <th>Referred a Friend</th>\n",
              "      <th>Number_of_Referrals</th>\n",
              "      <th>Tenure_in_Months</th>\n",
              "      <th>Phone Service</th>\n",
              "      <th>Avg Monthly Long Distance Charges</th>\n",
              "      <th>Multiple Lines</th>\n",
              "      <th>...</th>\n",
              "      <th>Total Long Distance Charges</th>\n",
              "      <th>Total Revenue</th>\n",
              "      <th>Count</th>\n",
              "      <th>Age</th>\n",
              "      <th>Under 30</th>\n",
              "      <th>Senior Citizen</th>\n",
              "      <th>Married</th>\n",
              "      <th>Dependents</th>\n",
              "      <th>Number of Dependents</th>\n",
              "      <th>Customer ID</th>\n",
              "    </tr>\n",
              "  </thead>\n",
              "  <tbody>\n",
              "    <tr>\n",
              "      <th>0</th>\n",
              "      <td>1</td>\n",
              "      <td>1</td>\n",
              "      <td>1</td>\n",
              "      <td>1</td>\n",
              "      <td>0</td>\n",
              "      <td>0</td>\n",
              "      <td>1</td>\n",
              "      <td>0</td>\n",
              "      <td>0.000</td>\n",
              "      <td>0</td>\n",
              "      <td>...</td>\n",
              "      <td>0.000</td>\n",
              "      <td>59.650</td>\n",
              "      <td>1</td>\n",
              "      <td>78</td>\n",
              "      <td>0</td>\n",
              "      <td>1</td>\n",
              "      <td>0</td>\n",
              "      <td>0</td>\n",
              "      <td>0</td>\n",
              "      <td>8779-QRDMV</td>\n",
              "    </tr>\n",
              "    <tr>\n",
              "      <th>1</th>\n",
              "      <td>1</td>\n",
              "      <td>1</td>\n",
              "      <td>1</td>\n",
              "      <td>1</td>\n",
              "      <td>1</td>\n",
              "      <td>1</td>\n",
              "      <td>8</td>\n",
              "      <td>1</td>\n",
              "      <td>48.850</td>\n",
              "      <td>1</td>\n",
              "      <td>...</td>\n",
              "      <td>390.800</td>\n",
              "      <td>1024.100</td>\n",
              "      <td>1</td>\n",
              "      <td>74</td>\n",
              "      <td>0</td>\n",
              "      <td>1</td>\n",
              "      <td>1</td>\n",
              "      <td>1</td>\n",
              "      <td>1</td>\n",
              "      <td>7495-OOKFY</td>\n",
              "    </tr>\n",
              "    <tr>\n",
              "      <th>2</th>\n",
              "      <td>1</td>\n",
              "      <td>1</td>\n",
              "      <td>1</td>\n",
              "      <td>1</td>\n",
              "      <td>0</td>\n",
              "      <td>0</td>\n",
              "      <td>18</td>\n",
              "      <td>1</td>\n",
              "      <td>11.330</td>\n",
              "      <td>1</td>\n",
              "      <td>...</td>\n",
              "      <td>203.940</td>\n",
              "      <td>1910.880</td>\n",
              "      <td>1</td>\n",
              "      <td>71</td>\n",
              "      <td>0</td>\n",
              "      <td>1</td>\n",
              "      <td>0</td>\n",
              "      <td>1</td>\n",
              "      <td>3</td>\n",
              "      <td>1658-BYGOY</td>\n",
              "    </tr>\n",
              "    <tr>\n",
              "      <th>3</th>\n",
              "      <td>1</td>\n",
              "      <td>1</td>\n",
              "      <td>1</td>\n",
              "      <td>1</td>\n",
              "      <td>1</td>\n",
              "      <td>1</td>\n",
              "      <td>25</td>\n",
              "      <td>1</td>\n",
              "      <td>19.760</td>\n",
              "      <td>0</td>\n",
              "      <td>...</td>\n",
              "      <td>494.000</td>\n",
              "      <td>2995.070</td>\n",
              "      <td>1</td>\n",
              "      <td>78</td>\n",
              "      <td>0</td>\n",
              "      <td>1</td>\n",
              "      <td>1</td>\n",
              "      <td>1</td>\n",
              "      <td>1</td>\n",
              "      <td>4598-XLKNJ</td>\n",
              "    </tr>\n",
              "    <tr>\n",
              "      <th>4</th>\n",
              "      <td>1</td>\n",
              "      <td>1</td>\n",
              "      <td>1</td>\n",
              "      <td>1</td>\n",
              "      <td>1</td>\n",
              "      <td>1</td>\n",
              "      <td>37</td>\n",
              "      <td>1</td>\n",
              "      <td>6.330</td>\n",
              "      <td>1</td>\n",
              "      <td>...</td>\n",
              "      <td>234.210</td>\n",
              "      <td>3102.360</td>\n",
              "      <td>1</td>\n",
              "      <td>80</td>\n",
              "      <td>0</td>\n",
              "      <td>1</td>\n",
              "      <td>1</td>\n",
              "      <td>1</td>\n",
              "      <td>1</td>\n",
              "      <td>4846-WHAFZ</td>\n",
              "    </tr>\n",
              "  </tbody>\n",
              "</table>\n",
              "<p>5 rows × 35 columns</p>\n",
              "</div>\n",
              "      <button class=\"colab-df-convert\" onclick=\"convertToInteractive('df-06c4ef58-6bc6-4861-9ad6-6ac1335af741')\"\n",
              "              title=\"Convert this dataframe to an interactive table.\"\n",
              "              style=\"display:none;\">\n",
              "        \n",
              "  <svg xmlns=\"http://www.w3.org/2000/svg\" height=\"24px\"viewBox=\"0 0 24 24\"\n",
              "       width=\"24px\">\n",
              "    <path d=\"M0 0h24v24H0V0z\" fill=\"none\"/>\n",
              "    <path d=\"M18.56 5.44l.94 2.06.94-2.06 2.06-.94-2.06-.94-.94-2.06-.94 2.06-2.06.94zm-11 1L8.5 8.5l.94-2.06 2.06-.94-2.06-.94L8.5 2.5l-.94 2.06-2.06.94zm10 10l.94 2.06.94-2.06 2.06-.94-2.06-.94-.94-2.06-.94 2.06-2.06.94z\"/><path d=\"M17.41 7.96l-1.37-1.37c-.4-.4-.92-.59-1.43-.59-.52 0-1.04.2-1.43.59L10.3 9.45l-7.72 7.72c-.78.78-.78 2.05 0 2.83L4 21.41c.39.39.9.59 1.41.59.51 0 1.02-.2 1.41-.59l7.78-7.78 2.81-2.81c.8-.78.8-2.07 0-2.86zM5.41 20L4 18.59l7.72-7.72 1.47 1.35L5.41 20z\"/>\n",
              "  </svg>\n",
              "      </button>\n",
              "      \n",
              "  <style>\n",
              "    .colab-df-container {\n",
              "      display:flex;\n",
              "      flex-wrap:wrap;\n",
              "      gap: 12px;\n",
              "    }\n",
              "\n",
              "    .colab-df-convert {\n",
              "      background-color: #E8F0FE;\n",
              "      border: none;\n",
              "      border-radius: 50%;\n",
              "      cursor: pointer;\n",
              "      display: none;\n",
              "      fill: #1967D2;\n",
              "      height: 32px;\n",
              "      padding: 0 0 0 0;\n",
              "      width: 32px;\n",
              "    }\n",
              "\n",
              "    .colab-df-convert:hover {\n",
              "      background-color: #E2EBFA;\n",
              "      box-shadow: 0px 1px 2px rgba(60, 64, 67, 0.3), 0px 1px 3px 1px rgba(60, 64, 67, 0.15);\n",
              "      fill: #174EA6;\n",
              "    }\n",
              "\n",
              "    [theme=dark] .colab-df-convert {\n",
              "      background-color: #3B4455;\n",
              "      fill: #D2E3FC;\n",
              "    }\n",
              "\n",
              "    [theme=dark] .colab-df-convert:hover {\n",
              "      background-color: #434B5C;\n",
              "      box-shadow: 0px 1px 3px 1px rgba(0, 0, 0, 0.15);\n",
              "      filter: drop-shadow(0px 1px 2px rgba(0, 0, 0, 0.3));\n",
              "      fill: #FFFFFF;\n",
              "    }\n",
              "  </style>\n",
              "\n",
              "      <script>\n",
              "        const buttonEl =\n",
              "          document.querySelector('#df-06c4ef58-6bc6-4861-9ad6-6ac1335af741 button.colab-df-convert');\n",
              "        buttonEl.style.display =\n",
              "          google.colab.kernel.accessAllowed ? 'block' : 'none';\n",
              "\n",
              "        async function convertToInteractive(key) {\n",
              "          const element = document.querySelector('#df-06c4ef58-6bc6-4861-9ad6-6ac1335af741');\n",
              "          const dataTable =\n",
              "            await google.colab.kernel.invokeFunction('convertToInteractive',\n",
              "                                                     [key], {});\n",
              "          if (!dataTable) return;\n",
              "\n",
              "          const docLinkHtml = 'Like what you see? Visit the ' +\n",
              "            '<a target=\"_blank\" href=https://colab.research.google.com/notebooks/data_table.ipynb>data table notebook</a>'\n",
              "            + ' to learn more about interactive tables.';\n",
              "          element.innerHTML = '';\n",
              "          dataTable['output_type'] = 'display_data';\n",
              "          await google.colab.output.renderOutput(dataTable, element);\n",
              "          const docLink = document.createElement('div');\n",
              "          docLink.innerHTML = docLinkHtml;\n",
              "          element.appendChild(docLink);\n",
              "        }\n",
              "      </script>\n",
              "    </div>\n",
              "  </div>\n",
              "  "
            ]
          },
          "metadata": {},
          "execution_count": 196
        }
      ]
    },
    {
      "cell_type": "markdown",
      "source": [
        "### Inputs del modelo:"
      ],
      "metadata": {
        "id": "mR2BtE1ZqVqf"
      }
    },
    {
      "cell_type": "code",
      "source": [
        "columnas1 = df_num.drop(['Churn_Value','Churn_Label'], axis = 1).columns.tolist()[:-1] \n",
        "columnas1\n"
      ],
      "metadata": {
        "colab": {
          "base_uri": "https://localhost:8080/"
        },
        "id": "n0URRLS6n5pH",
        "outputId": "422bc152-0794-436c-cbe7-b192cbd4ea19"
      },
      "execution_count": null,
      "outputs": [
        {
          "output_type": "execute_result",
          "data": {
            "text/plain": [
              "['Count_x',\n",
              " 'Count_y',\n",
              " 'Referred a Friend',\n",
              " 'Number_of_Referrals',\n",
              " 'Tenure_in_Months',\n",
              " 'Phone Service',\n",
              " 'Avg Monthly Long Distance Charges',\n",
              " 'Multiple Lines',\n",
              " 'Internet Service',\n",
              " 'Avg Monthly GB Download',\n",
              " 'Online Security',\n",
              " 'Online Backup',\n",
              " 'Device Protection Plan',\n",
              " 'Premium Tech Support',\n",
              " 'Streaming TV',\n",
              " 'Streaming Movies',\n",
              " 'Streaming Music',\n",
              " 'Unlimited Data',\n",
              " 'Paperless Billing',\n",
              " 'Monthly Charge',\n",
              " 'Total_Charges',\n",
              " 'Total Refunds',\n",
              " 'Total Extra Data Charges',\n",
              " 'Total Long Distance Charges',\n",
              " 'Total Revenue',\n",
              " 'Count',\n",
              " 'Age',\n",
              " 'Under 30',\n",
              " 'Senior Citizen',\n",
              " 'Married',\n",
              " 'Dependents',\n",
              " 'Number of Dependents']"
            ]
          },
          "metadata": {},
          "execution_count": 217
        }
      ]
    },
    {
      "cell_type": "markdown",
      "source": [
        "#### Train & Test Split "
      ],
      "metadata": {
        "id": "m-Mt4l7sqgdt"
      }
    },
    {
      "cell_type": "code",
      "source": [
        "# separamos las caracteristicas/features del target\n",
        "X = df_num[columnas1]#.drop('y', axis=1)\n",
        "y = df_num['Churn_Value']\n"
      ],
      "metadata": {
        "id": "EKM618KwoSVP"
      },
      "execution_count": null,
      "outputs": []
    },
    {
      "cell_type": "code",
      "source": [
        "# train test split\n",
        "\n",
        "X_train, X_test, y_train, y_test = train_test_split(X, y,\n",
        "                                                    test_size=0.2,\n",
        "                                                    random_state=33,\n",
        "                                                    stratify= y)\n",
        "\n",
        "\n",
        "print('Tamaño del set de entrenamiento:', X_train.shape)\n",
        "print('Tamaño del set de testeo:', X_test.shape)"
      ],
      "metadata": {
        "colab": {
          "base_uri": "https://localhost:8080/"
        },
        "id": "1aqe6ruJoV2k",
        "outputId": "5b4ee30e-7172-4b60-91b0-f112d0a98df4"
      },
      "execution_count": null,
      "outputs": [
        {
          "output_type": "stream",
          "name": "stdout",
          "text": [
            "Tamaño del set de entrenamiento: (5634, 32)\n",
            "Tamaño del set de testeo: (1409, 32)\n"
          ]
        }
      ]
    },
    {
      "cell_type": "code",
      "source": [
        "# porcentaje de clase True en train\n",
        "100*y_train.sum()/len(y_train)"
      ],
      "metadata": {
        "colab": {
          "base_uri": "https://localhost:8080/"
        },
        "id": "0CsY-HIdocz0",
        "outputId": "1ee36980-63ae-467e-e0d5-4cb14d616ede"
      },
      "execution_count": null,
      "outputs": [
        {
          "output_type": "execute_result",
          "data": {
            "text/plain": [
              "26.53532126375577"
            ]
          },
          "metadata": {},
          "execution_count": 221
        }
      ]
    },
    {
      "cell_type": "code",
      "source": [
        "# porcentaje de clase True en test\n",
        "100*y_test.sum()/len(y_test)"
      ],
      "metadata": {
        "colab": {
          "base_uri": "https://localhost:8080/"
        },
        "id": "l2xchG98ofWc",
        "outputId": "49f1abb7-0615-471c-8f06-9e1354eead71"
      },
      "execution_count": null,
      "outputs": [
        {
          "output_type": "execute_result",
          "data": {
            "text/plain": [
              "26.543647977288856"
            ]
          },
          "metadata": {},
          "execution_count": 222
        }
      ]
    },
    {
      "cell_type": "code",
      "source": [
        "# Paso 1: Instanciar el objeto/modelo\n",
        "tree_model = DecisionTreeClassifier(random_state = 0, class_weight='balanced')"
      ],
      "metadata": {
        "id": "FM7D5X_iooQD"
      },
      "execution_count": null,
      "outputs": []
    },
    {
      "cell_type": "markdown",
      "source": [
        "### Árbol de Decisión:\n",
        "Pros:\n",
        "-------\n",
        "* alta capacidad de explicar la decisión\n",
        "* aceptan variables categóricas\n",
        "\n",
        "Contras:\n",
        "-----------\n",
        "* necesitan data balanceada\n",
        "* tienen a sobre ajuste"
      ],
      "metadata": {
        "id": "ToBre9fuu1qN"
      }
    },
    {
      "cell_type": "markdown",
      "source": [
        "#### Entrenamiento, predicción y evaluación:"
      ],
      "metadata": {
        "id": "ZmzM0uqWqpCY"
      }
    },
    {
      "cell_type": "code",
      "source": [
        "# entrenamiento\n",
        "#Paso 2: Ajustar el modelo con los datos\n",
        "tree_model.fit(X_train, y_train)"
      ],
      "metadata": {
        "colab": {
          "base_uri": "https://localhost:8080/",
          "height": 75
        },
        "id": "nDxsIZt8osdC",
        "outputId": "7669f011-2e8a-4937-8815-8a3ffbdbf721"
      },
      "execution_count": null,
      "outputs": [
        {
          "output_type": "execute_result",
          "data": {
            "text/plain": [
              "DecisionTreeClassifier(class_weight='balanced', random_state=0)"
            ],
            "text/html": [
              "<style>#sk-container-id-9 {color: black;background-color: white;}#sk-container-id-9 pre{padding: 0;}#sk-container-id-9 div.sk-toggleable {background-color: white;}#sk-container-id-9 label.sk-toggleable__label {cursor: pointer;display: block;width: 100%;margin-bottom: 0;padding: 0.3em;box-sizing: border-box;text-align: center;}#sk-container-id-9 label.sk-toggleable__label-arrow:before {content: \"▸\";float: left;margin-right: 0.25em;color: #696969;}#sk-container-id-9 label.sk-toggleable__label-arrow:hover:before {color: black;}#sk-container-id-9 div.sk-estimator:hover label.sk-toggleable__label-arrow:before {color: black;}#sk-container-id-9 div.sk-toggleable__content {max-height: 0;max-width: 0;overflow: hidden;text-align: left;background-color: #f0f8ff;}#sk-container-id-9 div.sk-toggleable__content pre {margin: 0.2em;color: black;border-radius: 0.25em;background-color: #f0f8ff;}#sk-container-id-9 input.sk-toggleable__control:checked~div.sk-toggleable__content {max-height: 200px;max-width: 100%;overflow: auto;}#sk-container-id-9 input.sk-toggleable__control:checked~label.sk-toggleable__label-arrow:before {content: \"▾\";}#sk-container-id-9 div.sk-estimator input.sk-toggleable__control:checked~label.sk-toggleable__label {background-color: #d4ebff;}#sk-container-id-9 div.sk-label input.sk-toggleable__control:checked~label.sk-toggleable__label {background-color: #d4ebff;}#sk-container-id-9 input.sk-hidden--visually {border: 0;clip: rect(1px 1px 1px 1px);clip: rect(1px, 1px, 1px, 1px);height: 1px;margin: -1px;overflow: hidden;padding: 0;position: absolute;width: 1px;}#sk-container-id-9 div.sk-estimator {font-family: monospace;background-color: #f0f8ff;border: 1px dotted black;border-radius: 0.25em;box-sizing: border-box;margin-bottom: 0.5em;}#sk-container-id-9 div.sk-estimator:hover {background-color: #d4ebff;}#sk-container-id-9 div.sk-parallel-item::after {content: \"\";width: 100%;border-bottom: 1px solid gray;flex-grow: 1;}#sk-container-id-9 div.sk-label:hover label.sk-toggleable__label {background-color: #d4ebff;}#sk-container-id-9 div.sk-serial::before {content: \"\";position: absolute;border-left: 1px solid gray;box-sizing: border-box;top: 0;bottom: 0;left: 50%;z-index: 0;}#sk-container-id-9 div.sk-serial {display: flex;flex-direction: column;align-items: center;background-color: white;padding-right: 0.2em;padding-left: 0.2em;position: relative;}#sk-container-id-9 div.sk-item {position: relative;z-index: 1;}#sk-container-id-9 div.sk-parallel {display: flex;align-items: stretch;justify-content: center;background-color: white;position: relative;}#sk-container-id-9 div.sk-item::before, #sk-container-id-9 div.sk-parallel-item::before {content: \"\";position: absolute;border-left: 1px solid gray;box-sizing: border-box;top: 0;bottom: 0;left: 50%;z-index: -1;}#sk-container-id-9 div.sk-parallel-item {display: flex;flex-direction: column;z-index: 1;position: relative;background-color: white;}#sk-container-id-9 div.sk-parallel-item:first-child::after {align-self: flex-end;width: 50%;}#sk-container-id-9 div.sk-parallel-item:last-child::after {align-self: flex-start;width: 50%;}#sk-container-id-9 div.sk-parallel-item:only-child::after {width: 0;}#sk-container-id-9 div.sk-dashed-wrapped {border: 1px dashed gray;margin: 0 0.4em 0.5em 0.4em;box-sizing: border-box;padding-bottom: 0.4em;background-color: white;}#sk-container-id-9 div.sk-label label {font-family: monospace;font-weight: bold;display: inline-block;line-height: 1.2em;}#sk-container-id-9 div.sk-label-container {text-align: center;}#sk-container-id-9 div.sk-container {/* jupyter's `normalize.less` sets `[hidden] { display: none; }` but bootstrap.min.css set `[hidden] { display: none !important; }` so we also need the `!important` here to be able to override the default hidden behavior on the sphinx rendered scikit-learn.org. See: https://github.com/scikit-learn/scikit-learn/issues/21755 */display: inline-block !important;position: relative;}#sk-container-id-9 div.sk-text-repr-fallback {display: none;}</style><div id=\"sk-container-id-9\" class=\"sk-top-container\"><div class=\"sk-text-repr-fallback\"><pre>DecisionTreeClassifier(class_weight=&#x27;balanced&#x27;, random_state=0)</pre><b>In a Jupyter environment, please rerun this cell to show the HTML representation or trust the notebook. <br />On GitHub, the HTML representation is unable to render, please try loading this page with nbviewer.org.</b></div><div class=\"sk-container\" hidden><div class=\"sk-item\"><div class=\"sk-estimator sk-toggleable\"><input class=\"sk-toggleable__control sk-hidden--visually\" id=\"sk-estimator-id-9\" type=\"checkbox\" checked><label for=\"sk-estimator-id-9\" class=\"sk-toggleable__label sk-toggleable__label-arrow\">DecisionTreeClassifier</label><div class=\"sk-toggleable__content\"><pre>DecisionTreeClassifier(class_weight=&#x27;balanced&#x27;, random_state=0)</pre></div></div></div></div></div>"
            ]
          },
          "metadata": {},
          "execution_count": 224
        }
      ]
    },
    {
      "cell_type": "markdown",
      "source": [
        "#### Predicciones:"
      ],
      "metadata": {
        "id": "SXbAMJW4qsyx"
      }
    },
    {
      "cell_type": "code",
      "source": [
        "# predicciones\n",
        "# Paso 3: Predecir\n",
        "y_pred = tree_model.predict(X_test)\n",
        "y_pred_train = tree_model.predict(X_train)"
      ],
      "metadata": {
        "id": "dPEdGYIkovrX"
      },
      "execution_count": null,
      "outputs": []
    },
    {
      "cell_type": "code",
      "source": [
        "X_test.shape, y_test.shape"
      ],
      "metadata": {
        "colab": {
          "base_uri": "https://localhost:8080/"
        },
        "id": "5h-ilwzhozj_",
        "outputId": "2b92bd99-7db7-42a7-98f8-ff32c48f9515"
      },
      "execution_count": null,
      "outputs": [
        {
          "output_type": "execute_result",
          "data": {
            "text/plain": [
              "((1409, 32), (1409,))"
            ]
          },
          "metadata": {},
          "execution_count": 226
        }
      ]
    },
    {
      "cell_type": "code",
      "source": [
        "y_pred.shape"
      ],
      "metadata": {
        "colab": {
          "base_uri": "https://localhost:8080/"
        },
        "id": "eA-JTeTko3Eo",
        "outputId": "b7d6a78b-1612-458b-d99e-03de2b6d5e49"
      },
      "execution_count": null,
      "outputs": [
        {
          "output_type": "execute_result",
          "data": {
            "text/plain": [
              "(1409,)"
            ]
          },
          "metadata": {},
          "execution_count": 227
        }
      ]
    },
    {
      "cell_type": "markdown",
      "source": [
        "Miramos las 10 primeras predicciones:"
      ],
      "metadata": {
        "id": "oE7odH9Dq_4L"
      }
    },
    {
      "cell_type": "code",
      "source": [
        "X_test.head(10)"
      ],
      "metadata": {
        "colab": {
          "base_uri": "https://localhost:8080/",
          "height": 526
        },
        "id": "lVwqVyh4rDcr",
        "outputId": "e75686dd-75cd-4729-931a-37fc8614c6c1"
      },
      "execution_count": null,
      "outputs": [
        {
          "output_type": "execute_result",
          "data": {
            "text/plain": [
              "      Count_x  Count_y  Referred a Friend  Number_of_Referrals  \\\n",
              "2555        1        1                  0                    0   \n",
              "3575        1        1                  0                    0   \n",
              "3095        1        1                  0                    0   \n",
              "3606        1        1                  1                    8   \n",
              "551         1        1                  1                    1   \n",
              "4262        1        1                  0                    0   \n",
              "4143        1        1                  1                    9   \n",
              "1674        1        1                  0                    0   \n",
              "5549        1        1                  0                    0   \n",
              "1295        1        1                  0                    0   \n",
              "\n",
              "      Tenure_in_Months  Phone Service  Avg Monthly Long Distance Charges  \\\n",
              "2555                 1              1                             24.480   \n",
              "3575                20              1                             33.140   \n",
              "3095                 5              1                             24.610   \n",
              "3606                 6              1                             31.730   \n",
              "551                 47              1                             42.290   \n",
              "4262                72              1                             45.750   \n",
              "4143                71              1                             32.180   \n",
              "1674                 4              1                             30.440   \n",
              "5549                51              1                             47.430   \n",
              "1295                58              1                             44.500   \n",
              "\n",
              "      Multiple Lines  Internet Service  Avg Monthly GB Download  ...  \\\n",
              "2555               0                 0                        0  ...   \n",
              "3575               1                 1                       17  ...   \n",
              "3095               0                 0                        0  ...   \n",
              "3606               1                 0                        0  ...   \n",
              "551                0                 1                       22  ...   \n",
              "4262               0                 0                        0  ...   \n",
              "4143               1                 0                        0  ...   \n",
              "1674               1                 1                       10  ...   \n",
              "5549               0                 0                        0  ...   \n",
              "1295               1                 1                       47  ...   \n",
              "\n",
              "      Total Extra Data Charges  Total Long Distance Charges  Total Revenue  \\\n",
              "2555                         0                       24.480         44.680   \n",
              "3575                       130                      662.800       1984.000   \n",
              "3095                         0                      123.050        227.350   \n",
              "3606                         0                      190.380        343.680   \n",
              "551                         80                     1987.630       6085.680   \n",
              "4262                         0                     3294.000       4708.800   \n",
              "4143                         0                     2284.780       4100.980   \n",
              "1674                         0                      121.760        328.360   \n",
              "5549                         0                     2418.930       3461.580   \n",
              "1295                         0                     2581.000       8598.650   \n",
              "\n",
              "      Count  Age  Under 30  Senior Citizen  Married  Dependents  \\\n",
              "2555      1   35         0               0        0           0   \n",
              "3575      1   53         0               0        0           0   \n",
              "3095      1   44         0               0        0           0   \n",
              "3606      1   58         0               0        1           1   \n",
              "551       1   72         0               1        1           1   \n",
              "4262      1   57         0               0        0           0   \n",
              "4143      1   20         1               0        1           0   \n",
              "1674      1   60         0               0        0           0   \n",
              "5549      1   36         0               0        0           0   \n",
              "1295      1   20         1               0        0           0   \n",
              "\n",
              "      Number of Dependents  \n",
              "2555                     0  \n",
              "3575                     0  \n",
              "3095                     0  \n",
              "3606                     3  \n",
              "551                      1  \n",
              "4262                     0  \n",
              "4143                     0  \n",
              "1674                     0  \n",
              "5549                     0  \n",
              "1295                     0  \n",
              "\n",
              "[10 rows x 32 columns]"
            ],
            "text/html": [
              "\n",
              "  <div id=\"df-18ad1682-e511-4b5f-8d2c-322cb28f40ec\">\n",
              "    <div class=\"colab-df-container\">\n",
              "      <div>\n",
              "<style scoped>\n",
              "    .dataframe tbody tr th:only-of-type {\n",
              "        vertical-align: middle;\n",
              "    }\n",
              "\n",
              "    .dataframe tbody tr th {\n",
              "        vertical-align: top;\n",
              "    }\n",
              "\n",
              "    .dataframe thead th {\n",
              "        text-align: right;\n",
              "    }\n",
              "</style>\n",
              "<table border=\"1\" class=\"dataframe\">\n",
              "  <thead>\n",
              "    <tr style=\"text-align: right;\">\n",
              "      <th></th>\n",
              "      <th>Count_x</th>\n",
              "      <th>Count_y</th>\n",
              "      <th>Referred a Friend</th>\n",
              "      <th>Number_of_Referrals</th>\n",
              "      <th>Tenure_in_Months</th>\n",
              "      <th>Phone Service</th>\n",
              "      <th>Avg Monthly Long Distance Charges</th>\n",
              "      <th>Multiple Lines</th>\n",
              "      <th>Internet Service</th>\n",
              "      <th>Avg Monthly GB Download</th>\n",
              "      <th>...</th>\n",
              "      <th>Total Extra Data Charges</th>\n",
              "      <th>Total Long Distance Charges</th>\n",
              "      <th>Total Revenue</th>\n",
              "      <th>Count</th>\n",
              "      <th>Age</th>\n",
              "      <th>Under 30</th>\n",
              "      <th>Senior Citizen</th>\n",
              "      <th>Married</th>\n",
              "      <th>Dependents</th>\n",
              "      <th>Number of Dependents</th>\n",
              "    </tr>\n",
              "  </thead>\n",
              "  <tbody>\n",
              "    <tr>\n",
              "      <th>2555</th>\n",
              "      <td>1</td>\n",
              "      <td>1</td>\n",
              "      <td>0</td>\n",
              "      <td>0</td>\n",
              "      <td>1</td>\n",
              "      <td>1</td>\n",
              "      <td>24.480</td>\n",
              "      <td>0</td>\n",
              "      <td>0</td>\n",
              "      <td>0</td>\n",
              "      <td>...</td>\n",
              "      <td>0</td>\n",
              "      <td>24.480</td>\n",
              "      <td>44.680</td>\n",
              "      <td>1</td>\n",
              "      <td>35</td>\n",
              "      <td>0</td>\n",
              "      <td>0</td>\n",
              "      <td>0</td>\n",
              "      <td>0</td>\n",
              "      <td>0</td>\n",
              "    </tr>\n",
              "    <tr>\n",
              "      <th>3575</th>\n",
              "      <td>1</td>\n",
              "      <td>1</td>\n",
              "      <td>0</td>\n",
              "      <td>0</td>\n",
              "      <td>20</td>\n",
              "      <td>1</td>\n",
              "      <td>33.140</td>\n",
              "      <td>1</td>\n",
              "      <td>1</td>\n",
              "      <td>17</td>\n",
              "      <td>...</td>\n",
              "      <td>130</td>\n",
              "      <td>662.800</td>\n",
              "      <td>1984.000</td>\n",
              "      <td>1</td>\n",
              "      <td>53</td>\n",
              "      <td>0</td>\n",
              "      <td>0</td>\n",
              "      <td>0</td>\n",
              "      <td>0</td>\n",
              "      <td>0</td>\n",
              "    </tr>\n",
              "    <tr>\n",
              "      <th>3095</th>\n",
              "      <td>1</td>\n",
              "      <td>1</td>\n",
              "      <td>0</td>\n",
              "      <td>0</td>\n",
              "      <td>5</td>\n",
              "      <td>1</td>\n",
              "      <td>24.610</td>\n",
              "      <td>0</td>\n",
              "      <td>0</td>\n",
              "      <td>0</td>\n",
              "      <td>...</td>\n",
              "      <td>0</td>\n",
              "      <td>123.050</td>\n",
              "      <td>227.350</td>\n",
              "      <td>1</td>\n",
              "      <td>44</td>\n",
              "      <td>0</td>\n",
              "      <td>0</td>\n",
              "      <td>0</td>\n",
              "      <td>0</td>\n",
              "      <td>0</td>\n",
              "    </tr>\n",
              "    <tr>\n",
              "      <th>3606</th>\n",
              "      <td>1</td>\n",
              "      <td>1</td>\n",
              "      <td>1</td>\n",
              "      <td>8</td>\n",
              "      <td>6</td>\n",
              "      <td>1</td>\n",
              "      <td>31.730</td>\n",
              "      <td>1</td>\n",
              "      <td>0</td>\n",
              "      <td>0</td>\n",
              "      <td>...</td>\n",
              "      <td>0</td>\n",
              "      <td>190.380</td>\n",
              "      <td>343.680</td>\n",
              "      <td>1</td>\n",
              "      <td>58</td>\n",
              "      <td>0</td>\n",
              "      <td>0</td>\n",
              "      <td>1</td>\n",
              "      <td>1</td>\n",
              "      <td>3</td>\n",
              "    </tr>\n",
              "    <tr>\n",
              "      <th>551</th>\n",
              "      <td>1</td>\n",
              "      <td>1</td>\n",
              "      <td>1</td>\n",
              "      <td>1</td>\n",
              "      <td>47</td>\n",
              "      <td>1</td>\n",
              "      <td>42.290</td>\n",
              "      <td>0</td>\n",
              "      <td>1</td>\n",
              "      <td>22</td>\n",
              "      <td>...</td>\n",
              "      <td>80</td>\n",
              "      <td>1987.630</td>\n",
              "      <td>6085.680</td>\n",
              "      <td>1</td>\n",
              "      <td>72</td>\n",
              "      <td>0</td>\n",
              "      <td>1</td>\n",
              "      <td>1</td>\n",
              "      <td>1</td>\n",
              "      <td>1</td>\n",
              "    </tr>\n",
              "    <tr>\n",
              "      <th>4262</th>\n",
              "      <td>1</td>\n",
              "      <td>1</td>\n",
              "      <td>0</td>\n",
              "      <td>0</td>\n",
              "      <td>72</td>\n",
              "      <td>1</td>\n",
              "      <td>45.750</td>\n",
              "      <td>0</td>\n",
              "      <td>0</td>\n",
              "      <td>0</td>\n",
              "      <td>...</td>\n",
              "      <td>0</td>\n",
              "      <td>3294.000</td>\n",
              "      <td>4708.800</td>\n",
              "      <td>1</td>\n",
              "      <td>57</td>\n",
              "      <td>0</td>\n",
              "      <td>0</td>\n",
              "      <td>0</td>\n",
              "      <td>0</td>\n",
              "      <td>0</td>\n",
              "    </tr>\n",
              "    <tr>\n",
              "      <th>4143</th>\n",
              "      <td>1</td>\n",
              "      <td>1</td>\n",
              "      <td>1</td>\n",
              "      <td>9</td>\n",
              "      <td>71</td>\n",
              "      <td>1</td>\n",
              "      <td>32.180</td>\n",
              "      <td>1</td>\n",
              "      <td>0</td>\n",
              "      <td>0</td>\n",
              "      <td>...</td>\n",
              "      <td>0</td>\n",
              "      <td>2284.780</td>\n",
              "      <td>4100.980</td>\n",
              "      <td>1</td>\n",
              "      <td>20</td>\n",
              "      <td>1</td>\n",
              "      <td>0</td>\n",
              "      <td>1</td>\n",
              "      <td>0</td>\n",
              "      <td>0</td>\n",
              "    </tr>\n",
              "    <tr>\n",
              "      <th>1674</th>\n",
              "      <td>1</td>\n",
              "      <td>1</td>\n",
              "      <td>0</td>\n",
              "      <td>0</td>\n",
              "      <td>4</td>\n",
              "      <td>1</td>\n",
              "      <td>30.440</td>\n",
              "      <td>1</td>\n",
              "      <td>1</td>\n",
              "      <td>10</td>\n",
              "      <td>...</td>\n",
              "      <td>0</td>\n",
              "      <td>121.760</td>\n",
              "      <td>328.360</td>\n",
              "      <td>1</td>\n",
              "      <td>60</td>\n",
              "      <td>0</td>\n",
              "      <td>0</td>\n",
              "      <td>0</td>\n",
              "      <td>0</td>\n",
              "      <td>0</td>\n",
              "    </tr>\n",
              "    <tr>\n",
              "      <th>5549</th>\n",
              "      <td>1</td>\n",
              "      <td>1</td>\n",
              "      <td>0</td>\n",
              "      <td>0</td>\n",
              "      <td>51</td>\n",
              "      <td>1</td>\n",
              "      <td>47.430</td>\n",
              "      <td>0</td>\n",
              "      <td>0</td>\n",
              "      <td>0</td>\n",
              "      <td>...</td>\n",
              "      <td>0</td>\n",
              "      <td>2418.930</td>\n",
              "      <td>3461.580</td>\n",
              "      <td>1</td>\n",
              "      <td>36</td>\n",
              "      <td>0</td>\n",
              "      <td>0</td>\n",
              "      <td>0</td>\n",
              "      <td>0</td>\n",
              "      <td>0</td>\n",
              "    </tr>\n",
              "    <tr>\n",
              "      <th>1295</th>\n",
              "      <td>1</td>\n",
              "      <td>1</td>\n",
              "      <td>0</td>\n",
              "      <td>0</td>\n",
              "      <td>58</td>\n",
              "      <td>1</td>\n",
              "      <td>44.500</td>\n",
              "      <td>1</td>\n",
              "      <td>1</td>\n",
              "      <td>47</td>\n",
              "      <td>...</td>\n",
              "      <td>0</td>\n",
              "      <td>2581.000</td>\n",
              "      <td>8598.650</td>\n",
              "      <td>1</td>\n",
              "      <td>20</td>\n",
              "      <td>1</td>\n",
              "      <td>0</td>\n",
              "      <td>0</td>\n",
              "      <td>0</td>\n",
              "      <td>0</td>\n",
              "    </tr>\n",
              "  </tbody>\n",
              "</table>\n",
              "<p>10 rows × 32 columns</p>\n",
              "</div>\n",
              "      <button class=\"colab-df-convert\" onclick=\"convertToInteractive('df-18ad1682-e511-4b5f-8d2c-322cb28f40ec')\"\n",
              "              title=\"Convert this dataframe to an interactive table.\"\n",
              "              style=\"display:none;\">\n",
              "        \n",
              "  <svg xmlns=\"http://www.w3.org/2000/svg\" height=\"24px\"viewBox=\"0 0 24 24\"\n",
              "       width=\"24px\">\n",
              "    <path d=\"M0 0h24v24H0V0z\" fill=\"none\"/>\n",
              "    <path d=\"M18.56 5.44l.94 2.06.94-2.06 2.06-.94-2.06-.94-.94-2.06-.94 2.06-2.06.94zm-11 1L8.5 8.5l.94-2.06 2.06-.94-2.06-.94L8.5 2.5l-.94 2.06-2.06.94zm10 10l.94 2.06.94-2.06 2.06-.94-2.06-.94-.94-2.06-.94 2.06-2.06.94z\"/><path d=\"M17.41 7.96l-1.37-1.37c-.4-.4-.92-.59-1.43-.59-.52 0-1.04.2-1.43.59L10.3 9.45l-7.72 7.72c-.78.78-.78 2.05 0 2.83L4 21.41c.39.39.9.59 1.41.59.51 0 1.02-.2 1.41-.59l7.78-7.78 2.81-2.81c.8-.78.8-2.07 0-2.86zM5.41 20L4 18.59l7.72-7.72 1.47 1.35L5.41 20z\"/>\n",
              "  </svg>\n",
              "      </button>\n",
              "      \n",
              "  <style>\n",
              "    .colab-df-container {\n",
              "      display:flex;\n",
              "      flex-wrap:wrap;\n",
              "      gap: 12px;\n",
              "    }\n",
              "\n",
              "    .colab-df-convert {\n",
              "      background-color: #E8F0FE;\n",
              "      border: none;\n",
              "      border-radius: 50%;\n",
              "      cursor: pointer;\n",
              "      display: none;\n",
              "      fill: #1967D2;\n",
              "      height: 32px;\n",
              "      padding: 0 0 0 0;\n",
              "      width: 32px;\n",
              "    }\n",
              "\n",
              "    .colab-df-convert:hover {\n",
              "      background-color: #E2EBFA;\n",
              "      box-shadow: 0px 1px 2px rgba(60, 64, 67, 0.3), 0px 1px 3px 1px rgba(60, 64, 67, 0.15);\n",
              "      fill: #174EA6;\n",
              "    }\n",
              "\n",
              "    [theme=dark] .colab-df-convert {\n",
              "      background-color: #3B4455;\n",
              "      fill: #D2E3FC;\n",
              "    }\n",
              "\n",
              "    [theme=dark] .colab-df-convert:hover {\n",
              "      background-color: #434B5C;\n",
              "      box-shadow: 0px 1px 3px 1px rgba(0, 0, 0, 0.15);\n",
              "      filter: drop-shadow(0px 1px 2px rgba(0, 0, 0, 0.3));\n",
              "      fill: #FFFFFF;\n",
              "    }\n",
              "  </style>\n",
              "\n",
              "      <script>\n",
              "        const buttonEl =\n",
              "          document.querySelector('#df-18ad1682-e511-4b5f-8d2c-322cb28f40ec button.colab-df-convert');\n",
              "        buttonEl.style.display =\n",
              "          google.colab.kernel.accessAllowed ? 'block' : 'none';\n",
              "\n",
              "        async function convertToInteractive(key) {\n",
              "          const element = document.querySelector('#df-18ad1682-e511-4b5f-8d2c-322cb28f40ec');\n",
              "          const dataTable =\n",
              "            await google.colab.kernel.invokeFunction('convertToInteractive',\n",
              "                                                     [key], {});\n",
              "          if (!dataTable) return;\n",
              "\n",
              "          const docLinkHtml = 'Like what you see? Visit the ' +\n",
              "            '<a target=\"_blank\" href=https://colab.research.google.com/notebooks/data_table.ipynb>data table notebook</a>'\n",
              "            + ' to learn more about interactive tables.';\n",
              "          element.innerHTML = '';\n",
              "          dataTable['output_type'] = 'display_data';\n",
              "          await google.colab.output.renderOutput(dataTable, element);\n",
              "          const docLink = document.createElement('div');\n",
              "          docLink.innerHTML = docLinkHtml;\n",
              "          element.appendChild(docLink);\n",
              "        }\n",
              "      </script>\n",
              "    </div>\n",
              "  </div>\n",
              "  "
            ]
          },
          "metadata": {},
          "execution_count": 228
        }
      ]
    },
    {
      "cell_type": "code",
      "source": [
        "y_pred[:10]"
      ],
      "metadata": {
        "colab": {
          "base_uri": "https://localhost:8080/"
        },
        "id": "EpsoQlNXpW7L",
        "outputId": "9d07efde-d416-48b8-af19-024f1c123b7f"
      },
      "execution_count": null,
      "outputs": [
        {
          "output_type": "execute_result",
          "data": {
            "text/plain": [
              "array([1, 0, 0, 0, 0, 0, 0, 0, 0, 1])"
            ]
          },
          "metadata": {},
          "execution_count": 229
        }
      ]
    },
    {
      "cell_type": "markdown",
      "source": [
        "Y lo comparamos con el valor real del target de las 10 primeras filas"
      ],
      "metadata": {
        "id": "qQl5AzYurHtS"
      }
    },
    {
      "cell_type": "code",
      "source": [
        "y_test[:10].values"
      ],
      "metadata": {
        "colab": {
          "base_uri": "https://localhost:8080/"
        },
        "id": "zJRL_GWEpa7V",
        "outputId": "83e052d0-7606-40d4-ce6d-15520d2652f8"
      },
      "execution_count": null,
      "outputs": [
        {
          "output_type": "execute_result",
          "data": {
            "text/plain": [
              "array([0, 0, 0, 0, 0, 0, 0, 1, 0, 1])"
            ]
          },
          "metadata": {},
          "execution_count": 230
        }
      ]
    },
    {
      "cell_type": "markdown",
      "source": [
        "#### Evaluación "
      ],
      "metadata": {
        "id": "2BvHqmFBqyGf"
      }
    },
    {
      "cell_type": "markdown",
      "source": [
        "Evaluamos el modelo en el conjunto de testeo:"
      ],
      "metadata": {
        "id": "EPu-4Bg0rLsk"
      }
    },
    {
      "cell_type": "code",
      "source": [
        "recall = recall_score(y_train, y_pred_train)\n",
        "precision = precision_score(y_train, y_pred_train)\n",
        "acc = accuracy_score(y_train, y_pred_train)\n",
        "f1 = f1_score(y_train, y_pred_train)\n",
        "\n",
        "print('METRICAS TRAIN:')\n",
        "print('Recall: {:.4f}'.format(recall))\n",
        "print('Precision: {:.4f}'.format(precision))\n",
        "print('F1: {:.4f}'.format(f1))\n",
        "print('Accuracy: {:.4f}'.format(acc))"
      ],
      "metadata": {
        "colab": {
          "base_uri": "https://localhost:8080/"
        },
        "id": "GqgmMBElpfDK",
        "outputId": "6383828b-ea14-4ddc-cdf4-7c2dd3bf5cca"
      },
      "execution_count": null,
      "outputs": [
        {
          "output_type": "stream",
          "name": "stdout",
          "text": [
            "METRICAS TRAIN:\n",
            "Recall: 1.0000\n",
            "Precision: 1.0000\n",
            "F1: 1.0000\n",
            "Accuracy: 1.0000\n"
          ]
        }
      ]
    },
    {
      "cell_type": "markdown",
      "source": [
        "Evaluamos el modelo ya entrenado en el conjunto de testeo:"
      ],
      "metadata": {
        "id": "EEh0jFiTrOfo"
      }
    },
    {
      "cell_type": "code",
      "source": [
        "recall = recall_score(y_test, y_pred)\n",
        "precision = precision_score(y_test, y_pred)\n",
        "acc = accuracy_score(y_test, y_pred)\n",
        "f1 = f1_score(y_test, y_pred)\n",
        "\n",
        "print('METRICAS TEST:')\n",
        "print('Recall: {:.4f}'.format(recall))\n",
        "print('Precision: {:.4f}'.format(precision))\n",
        "print('F1: {:.4f}'.format(f1))\n",
        "print('Accuracy: {:.4f}'.format(acc))"
      ],
      "metadata": {
        "colab": {
          "base_uri": "https://localhost:8080/"
        },
        "id": "7sGSQiJVpnaJ",
        "outputId": "b56e7770-cada-40ac-9a60-dec4e2aa96cb"
      },
      "execution_count": null,
      "outputs": [
        {
          "output_type": "stream",
          "name": "stdout",
          "text": [
            "METRICAS TEST:\n",
            "Recall: 0.5241\n",
            "Precision: 0.5681\n",
            "F1: 0.5452\n",
            "Accuracy: 0.7679\n"
          ]
        }
      ]
    },
    {
      "cell_type": "markdown",
      "source": [
        "Se logro mejorar muy poco el porcetanje a partir de utlizar todas las varibles numericas posibles. Se logro un Accuracy del 76%."
      ],
      "metadata": {
        "id": "6jxqCG0IqC2J"
      }
    },
    {
      "cell_type": "code",
      "source": [
        "confusion_matrix(y_test, y_pred)"
      ],
      "metadata": {
        "colab": {
          "base_uri": "https://localhost:8080/"
        },
        "id": "9op6Pr8o_vwd",
        "outputId": "209c607b-dfcf-4256-cef1-9d800705e99c"
      },
      "execution_count": null,
      "outputs": [
        {
          "output_type": "execute_result",
          "data": {
            "text/plain": [
              "array([[886, 149],\n",
              "       [178, 196]])"
            ]
          },
          "metadata": {},
          "execution_count": 235
        }
      ]
    },
    {
      "cell_type": "code",
      "source": [
        "y_test.value_counts()"
      ],
      "metadata": {
        "colab": {
          "base_uri": "https://localhost:8080/"
        },
        "id": "DsHvfiqL_zMP",
        "outputId": "fecd0c6d-09fa-4f33-dcf0-1b19699364fc"
      },
      "execution_count": null,
      "outputs": [
        {
          "output_type": "execute_result",
          "data": {
            "text/plain": [
              "0    1035\n",
              "1     374\n",
              "Name: Churn_Value, dtype: int64"
            ]
          },
          "metadata": {},
          "execution_count": 236
        }
      ]
    },
    {
      "cell_type": "code",
      "source": [
        "type(y_pred)"
      ],
      "metadata": {
        "colab": {
          "base_uri": "https://localhost:8080/"
        },
        "id": "nhwu4qgJ_2Q5",
        "outputId": "c365b053-67e2-4fcc-e5c0-e8355df1bc7a"
      },
      "execution_count": null,
      "outputs": [
        {
          "output_type": "execute_result",
          "data": {
            "text/plain": [
              "numpy.ndarray"
            ]
          },
          "metadata": {},
          "execution_count": 237
        }
      ]
    },
    {
      "cell_type": "code",
      "source": [
        "pd.Series(y_pred).value_counts()"
      ],
      "metadata": {
        "colab": {
          "base_uri": "https://localhost:8080/"
        },
        "id": "rcqwfEWe_5KX",
        "outputId": "762d347e-2dee-42ca-e4af-921c17a49956"
      },
      "execution_count": null,
      "outputs": [
        {
          "output_type": "execute_result",
          "data": {
            "text/plain": [
              "0    1064\n",
              "1     345\n",
              "dtype: int64"
            ]
          },
          "metadata": {},
          "execution_count": 238
        }
      ]
    },
    {
      "cell_type": "code",
      "source": [
        "print(classification_report(y_test, y_pred))"
      ],
      "metadata": {
        "colab": {
          "base_uri": "https://localhost:8080/"
        },
        "id": "Oq3YcYlv_8WJ",
        "outputId": "2859c979-c085-48c2-bf77-70a034ede629"
      },
      "execution_count": null,
      "outputs": [
        {
          "output_type": "stream",
          "name": "stdout",
          "text": [
            "              precision    recall  f1-score   support\n",
            "\n",
            "           0       0.83      0.86      0.84      1035\n",
            "           1       0.57      0.52      0.55       374\n",
            "\n",
            "    accuracy                           0.77      1409\n",
            "   macro avg       0.70      0.69      0.69      1409\n",
            "weighted avg       0.76      0.77      0.76      1409\n",
            "\n"
          ]
        }
      ]
    },
    {
      "cell_type": "markdown",
      "source": [
        "####  Probabilidades"
      ],
      "metadata": {
        "id": "9yD7X-ADALC_"
      }
    },
    {
      "cell_type": "code",
      "source": [
        "proba = tree_model.predict_proba(X_test)\n",
        "\n",
        "proba"
      ],
      "metadata": {
        "colab": {
          "base_uri": "https://localhost:8080/"
        },
        "id": "c9X0W9ujAPJh",
        "outputId": "e65c87de-7cb8-4e3f-abe2-4b16309a5922"
      },
      "execution_count": null,
      "outputs": [
        {
          "output_type": "execute_result",
          "data": {
            "text/plain": [
              "array([[0., 1.],\n",
              "       [1., 0.],\n",
              "       [1., 0.],\n",
              "       ...,\n",
              "       [1., 0.],\n",
              "       [1., 0.],\n",
              "       [0., 1.]])"
            ]
          },
          "metadata": {},
          "execution_count": 240
        }
      ]
    },
    {
      "cell_type": "markdown",
      "source": [
        "#### Feature importance"
      ],
      "metadata": {
        "id": "kdc5gNYeATb2"
      }
    },
    {
      "cell_type": "code",
      "source": [
        "tree_model.feature_importances_"
      ],
      "metadata": {
        "colab": {
          "base_uri": "https://localhost:8080/"
        },
        "id": "07Q3ruOIAYuE",
        "outputId": "9347056f-79b4-40de-8f62-6c70cc6c51b3"
      },
      "execution_count": null,
      "outputs": [
        {
          "output_type": "execute_result",
          "data": {
            "text/plain": [
              "array([0.        , 0.        , 0.01495258, 0.16971669, 0.09778204,\n",
              "       0.00035499, 0.05490675, 0.01041712, 0.        , 0.1091412 ,\n",
              "       0.01222085, 0.01062886, 0.00678871, 0.0241718 , 0.0016426 ,\n",
              "       0.00041651, 0.00313677, 0.00593059, 0.01179423, 0.1146233 ,\n",
              "       0.08435135, 0.0146094 , 0.01366495, 0.05495585, 0.05504558,\n",
              "       0.        , 0.06913618, 0.00405741, 0.00231056, 0.01662531,\n",
              "       0.00811273, 0.02850507])"
            ]
          },
          "metadata": {},
          "execution_count": 241
        }
      ]
    },
    {
      "cell_type": "code",
      "source": [
        "df_importancia = pd.DataFrame({'Variable': X_train.columns.values.tolist(),\n",
        "                               'Importancia': tree_model.feature_importances_}).sort_values(by='Importancia', ascending=False)\n",
        "\n",
        "df_importancia"
      ],
      "metadata": {
        "colab": {
          "base_uri": "https://localhost:8080/",
          "height": 1000
        },
        "id": "rTmqOeEAAczT",
        "outputId": "554b6b03-d1b1-49d9-99a9-82b26065196f"
      },
      "execution_count": null,
      "outputs": [
        {
          "output_type": "execute_result",
          "data": {
            "text/plain": [
              "                             Variable  Importancia\n",
              "3                 Number_of_Referrals        0.170\n",
              "19                     Monthly Charge        0.115\n",
              "9             Avg Monthly GB Download        0.109\n",
              "4                    Tenure_in_Months        0.098\n",
              "20                      Total_Charges        0.084\n",
              "26                                Age        0.069\n",
              "24                      Total Revenue        0.055\n",
              "23        Total Long Distance Charges        0.055\n",
              "6   Avg Monthly Long Distance Charges        0.055\n",
              "31               Number of Dependents        0.029\n",
              "13               Premium Tech Support        0.024\n",
              "29                            Married        0.017\n",
              "2                   Referred a Friend        0.015\n",
              "21                      Total Refunds        0.015\n",
              "22           Total Extra Data Charges        0.014\n",
              "10                    Online Security        0.012\n",
              "18                  Paperless Billing        0.012\n",
              "11                      Online Backup        0.011\n",
              "7                      Multiple Lines        0.010\n",
              "30                         Dependents        0.008\n",
              "12             Device Protection Plan        0.007\n",
              "17                     Unlimited Data        0.006\n",
              "27                           Under 30        0.004\n",
              "16                    Streaming Music        0.003\n",
              "28                     Senior Citizen        0.002\n",
              "14                       Streaming TV        0.002\n",
              "15                   Streaming Movies        0.000\n",
              "5                       Phone Service        0.000\n",
              "1                             Count_y        0.000\n",
              "25                              Count        0.000\n",
              "8                    Internet Service        0.000\n",
              "0                             Count_x        0.000"
            ],
            "text/html": [
              "\n",
              "  <div id=\"df-3164ece8-f3d5-4ca0-9e34-922251a11ce6\">\n",
              "    <div class=\"colab-df-container\">\n",
              "      <div>\n",
              "<style scoped>\n",
              "    .dataframe tbody tr th:only-of-type {\n",
              "        vertical-align: middle;\n",
              "    }\n",
              "\n",
              "    .dataframe tbody tr th {\n",
              "        vertical-align: top;\n",
              "    }\n",
              "\n",
              "    .dataframe thead th {\n",
              "        text-align: right;\n",
              "    }\n",
              "</style>\n",
              "<table border=\"1\" class=\"dataframe\">\n",
              "  <thead>\n",
              "    <tr style=\"text-align: right;\">\n",
              "      <th></th>\n",
              "      <th>Variable</th>\n",
              "      <th>Importancia</th>\n",
              "    </tr>\n",
              "  </thead>\n",
              "  <tbody>\n",
              "    <tr>\n",
              "      <th>3</th>\n",
              "      <td>Number_of_Referrals</td>\n",
              "      <td>0.170</td>\n",
              "    </tr>\n",
              "    <tr>\n",
              "      <th>19</th>\n",
              "      <td>Monthly Charge</td>\n",
              "      <td>0.115</td>\n",
              "    </tr>\n",
              "    <tr>\n",
              "      <th>9</th>\n",
              "      <td>Avg Monthly GB Download</td>\n",
              "      <td>0.109</td>\n",
              "    </tr>\n",
              "    <tr>\n",
              "      <th>4</th>\n",
              "      <td>Tenure_in_Months</td>\n",
              "      <td>0.098</td>\n",
              "    </tr>\n",
              "    <tr>\n",
              "      <th>20</th>\n",
              "      <td>Total_Charges</td>\n",
              "      <td>0.084</td>\n",
              "    </tr>\n",
              "    <tr>\n",
              "      <th>26</th>\n",
              "      <td>Age</td>\n",
              "      <td>0.069</td>\n",
              "    </tr>\n",
              "    <tr>\n",
              "      <th>24</th>\n",
              "      <td>Total Revenue</td>\n",
              "      <td>0.055</td>\n",
              "    </tr>\n",
              "    <tr>\n",
              "      <th>23</th>\n",
              "      <td>Total Long Distance Charges</td>\n",
              "      <td>0.055</td>\n",
              "    </tr>\n",
              "    <tr>\n",
              "      <th>6</th>\n",
              "      <td>Avg Monthly Long Distance Charges</td>\n",
              "      <td>0.055</td>\n",
              "    </tr>\n",
              "    <tr>\n",
              "      <th>31</th>\n",
              "      <td>Number of Dependents</td>\n",
              "      <td>0.029</td>\n",
              "    </tr>\n",
              "    <tr>\n",
              "      <th>13</th>\n",
              "      <td>Premium Tech Support</td>\n",
              "      <td>0.024</td>\n",
              "    </tr>\n",
              "    <tr>\n",
              "      <th>29</th>\n",
              "      <td>Married</td>\n",
              "      <td>0.017</td>\n",
              "    </tr>\n",
              "    <tr>\n",
              "      <th>2</th>\n",
              "      <td>Referred a Friend</td>\n",
              "      <td>0.015</td>\n",
              "    </tr>\n",
              "    <tr>\n",
              "      <th>21</th>\n",
              "      <td>Total Refunds</td>\n",
              "      <td>0.015</td>\n",
              "    </tr>\n",
              "    <tr>\n",
              "      <th>22</th>\n",
              "      <td>Total Extra Data Charges</td>\n",
              "      <td>0.014</td>\n",
              "    </tr>\n",
              "    <tr>\n",
              "      <th>10</th>\n",
              "      <td>Online Security</td>\n",
              "      <td>0.012</td>\n",
              "    </tr>\n",
              "    <tr>\n",
              "      <th>18</th>\n",
              "      <td>Paperless Billing</td>\n",
              "      <td>0.012</td>\n",
              "    </tr>\n",
              "    <tr>\n",
              "      <th>11</th>\n",
              "      <td>Online Backup</td>\n",
              "      <td>0.011</td>\n",
              "    </tr>\n",
              "    <tr>\n",
              "      <th>7</th>\n",
              "      <td>Multiple Lines</td>\n",
              "      <td>0.010</td>\n",
              "    </tr>\n",
              "    <tr>\n",
              "      <th>30</th>\n",
              "      <td>Dependents</td>\n",
              "      <td>0.008</td>\n",
              "    </tr>\n",
              "    <tr>\n",
              "      <th>12</th>\n",
              "      <td>Device Protection Plan</td>\n",
              "      <td>0.007</td>\n",
              "    </tr>\n",
              "    <tr>\n",
              "      <th>17</th>\n",
              "      <td>Unlimited Data</td>\n",
              "      <td>0.006</td>\n",
              "    </tr>\n",
              "    <tr>\n",
              "      <th>27</th>\n",
              "      <td>Under 30</td>\n",
              "      <td>0.004</td>\n",
              "    </tr>\n",
              "    <tr>\n",
              "      <th>16</th>\n",
              "      <td>Streaming Music</td>\n",
              "      <td>0.003</td>\n",
              "    </tr>\n",
              "    <tr>\n",
              "      <th>28</th>\n",
              "      <td>Senior Citizen</td>\n",
              "      <td>0.002</td>\n",
              "    </tr>\n",
              "    <tr>\n",
              "      <th>14</th>\n",
              "      <td>Streaming TV</td>\n",
              "      <td>0.002</td>\n",
              "    </tr>\n",
              "    <tr>\n",
              "      <th>15</th>\n",
              "      <td>Streaming Movies</td>\n",
              "      <td>0.000</td>\n",
              "    </tr>\n",
              "    <tr>\n",
              "      <th>5</th>\n",
              "      <td>Phone Service</td>\n",
              "      <td>0.000</td>\n",
              "    </tr>\n",
              "    <tr>\n",
              "      <th>1</th>\n",
              "      <td>Count_y</td>\n",
              "      <td>0.000</td>\n",
              "    </tr>\n",
              "    <tr>\n",
              "      <th>25</th>\n",
              "      <td>Count</td>\n",
              "      <td>0.000</td>\n",
              "    </tr>\n",
              "    <tr>\n",
              "      <th>8</th>\n",
              "      <td>Internet Service</td>\n",
              "      <td>0.000</td>\n",
              "    </tr>\n",
              "    <tr>\n",
              "      <th>0</th>\n",
              "      <td>Count_x</td>\n",
              "      <td>0.000</td>\n",
              "    </tr>\n",
              "  </tbody>\n",
              "</table>\n",
              "</div>\n",
              "      <button class=\"colab-df-convert\" onclick=\"convertToInteractive('df-3164ece8-f3d5-4ca0-9e34-922251a11ce6')\"\n",
              "              title=\"Convert this dataframe to an interactive table.\"\n",
              "              style=\"display:none;\">\n",
              "        \n",
              "  <svg xmlns=\"http://www.w3.org/2000/svg\" height=\"24px\"viewBox=\"0 0 24 24\"\n",
              "       width=\"24px\">\n",
              "    <path d=\"M0 0h24v24H0V0z\" fill=\"none\"/>\n",
              "    <path d=\"M18.56 5.44l.94 2.06.94-2.06 2.06-.94-2.06-.94-.94-2.06-.94 2.06-2.06.94zm-11 1L8.5 8.5l.94-2.06 2.06-.94-2.06-.94L8.5 2.5l-.94 2.06-2.06.94zm10 10l.94 2.06.94-2.06 2.06-.94-2.06-.94-.94-2.06-.94 2.06-2.06.94z\"/><path d=\"M17.41 7.96l-1.37-1.37c-.4-.4-.92-.59-1.43-.59-.52 0-1.04.2-1.43.59L10.3 9.45l-7.72 7.72c-.78.78-.78 2.05 0 2.83L4 21.41c.39.39.9.59 1.41.59.51 0 1.02-.2 1.41-.59l7.78-7.78 2.81-2.81c.8-.78.8-2.07 0-2.86zM5.41 20L4 18.59l7.72-7.72 1.47 1.35L5.41 20z\"/>\n",
              "  </svg>\n",
              "      </button>\n",
              "      \n",
              "  <style>\n",
              "    .colab-df-container {\n",
              "      display:flex;\n",
              "      flex-wrap:wrap;\n",
              "      gap: 12px;\n",
              "    }\n",
              "\n",
              "    .colab-df-convert {\n",
              "      background-color: #E8F0FE;\n",
              "      border: none;\n",
              "      border-radius: 50%;\n",
              "      cursor: pointer;\n",
              "      display: none;\n",
              "      fill: #1967D2;\n",
              "      height: 32px;\n",
              "      padding: 0 0 0 0;\n",
              "      width: 32px;\n",
              "    }\n",
              "\n",
              "    .colab-df-convert:hover {\n",
              "      background-color: #E2EBFA;\n",
              "      box-shadow: 0px 1px 2px rgba(60, 64, 67, 0.3), 0px 1px 3px 1px rgba(60, 64, 67, 0.15);\n",
              "      fill: #174EA6;\n",
              "    }\n",
              "\n",
              "    [theme=dark] .colab-df-convert {\n",
              "      background-color: #3B4455;\n",
              "      fill: #D2E3FC;\n",
              "    }\n",
              "\n",
              "    [theme=dark] .colab-df-convert:hover {\n",
              "      background-color: #434B5C;\n",
              "      box-shadow: 0px 1px 3px 1px rgba(0, 0, 0, 0.15);\n",
              "      filter: drop-shadow(0px 1px 2px rgba(0, 0, 0, 0.3));\n",
              "      fill: #FFFFFF;\n",
              "    }\n",
              "  </style>\n",
              "\n",
              "      <script>\n",
              "        const buttonEl =\n",
              "          document.querySelector('#df-3164ece8-f3d5-4ca0-9e34-922251a11ce6 button.colab-df-convert');\n",
              "        buttonEl.style.display =\n",
              "          google.colab.kernel.accessAllowed ? 'block' : 'none';\n",
              "\n",
              "        async function convertToInteractive(key) {\n",
              "          const element = document.querySelector('#df-3164ece8-f3d5-4ca0-9e34-922251a11ce6');\n",
              "          const dataTable =\n",
              "            await google.colab.kernel.invokeFunction('convertToInteractive',\n",
              "                                                     [key], {});\n",
              "          if (!dataTable) return;\n",
              "\n",
              "          const docLinkHtml = 'Like what you see? Visit the ' +\n",
              "            '<a target=\"_blank\" href=https://colab.research.google.com/notebooks/data_table.ipynb>data table notebook</a>'\n",
              "            + ' to learn more about interactive tables.';\n",
              "          element.innerHTML = '';\n",
              "          dataTable['output_type'] = 'display_data';\n",
              "          await google.colab.output.renderOutput(dataTable, element);\n",
              "          const docLink = document.createElement('div');\n",
              "          docLink.innerHTML = docLinkHtml;\n",
              "          element.appendChild(docLink);\n",
              "        }\n",
              "      </script>\n",
              "    </div>\n",
              "  </div>\n",
              "  "
            ]
          },
          "metadata": {},
          "execution_count": 242
        }
      ]
    },
    {
      "cell_type": "code",
      "source": [
        "plt.figure(figsize=(8,5))\n",
        "\n",
        "values = df_importancia.Importancia    \n",
        "\n",
        "sns.barplot(y=df_importancia.Variable,\n",
        "            x=values,\n",
        "            palette = ['green' if (x < max(values)) else 'red' for x in values ]\n",
        "           ).set(title='Importancia de una posible perdida del cliente')\n",
        "\n",
        "plt.show()"
      ],
      "metadata": {
        "colab": {
          "base_uri": "https://localhost:8080/",
          "height": 350
        },
        "id": "BgMFU5UZAmLc",
        "outputId": "b50881b4-e865-4fc5-8121-3234ff499245"
      },
      "execution_count": null,
      "outputs": [
        {
          "output_type": "display_data",
          "data": {
            "text/plain": [
              "<Figure size 576x360 with 1 Axes>"
            ],
            "image/png": "[encoded data removed]"
          },
          "metadata": {
            "needs_background": "light"
          }
        }
      ]
    },
    {
      "cell_type": "markdown",
      "source": [
        "##  Comparativas variando campos:"
      ],
      "metadata": {
        "id": "E86RBRlxAwA8"
      }
    },
    {
      "cell_type": "code",
      "source": [
        "# inicializo los dataframes en donde voy a guardar la información de las métricas:\n",
        "metricas_train = pd.DataFrame({'metricas':['recall', 'precision', 'accuracy', 'f1']})\n",
        "metricas_test = pd.DataFrame({'metricas':['recall', 'precision', 'accuracy', 'f1']})\n",
        "\n",
        "columnas3 = df_importancia.Variable.tolist()[:4]+['Churn_Value']\n",
        "\n",
        "for i, comb in enumerate([columnas1, columnas2, columnas3]):\n",
        "    \n",
        "    # separamos el target \n",
        "    x = df_num[comb]\n",
        "    y = df_num['Churn_Value']\n",
        "\n",
        "    # dividimos en train y test \n",
        "    X_train, X_test, y_train, y_test = train_test_split(X, y, \n",
        "                                                    test_size=0.20, # nos quedata dividido en 80% train y 20% test\n",
        "                                                    random_state=33,# es la semilla para que cada vez que lo corramos de lo mismo\n",
        "                                                    stratify = y)   # se separa \"parejo\" respecto a la variable y\n",
        "                                                    \n",
        "    # modelo\n",
        "    tree_model = DecisionTreeClassifier(random_state = 42,\n",
        "                                        class_weight='balanced') # para lidear con data desbalanceada\n",
        "    # entrenamos y predecimos\n",
        "    print('Entrenando modelo nro: ', i)\n",
        "    tree_model.fit(X_train, y_train)\n",
        "    \n",
        "    y_pred = tree_model.predict(X_test)\n",
        "    y_pred_train = tree_model.predict(X_train)\n",
        "    \n",
        "    # calculamos y guardamos los valores recall, precision, accuracy y f1\n",
        "    metricas_train['mod'+str(i)] = [recall_score(y_train, y_pred_train), \n",
        "                                    precision_score(y_train, y_pred_train),\n",
        "                                    accuracy_score(y_train, y_pred_train),\n",
        "                                    f1_score(y_train, y_pred_train)]\n",
        "    \n",
        "    metricas_test['mod'+str(i)] = [recall_score(y_test, y_pred),\n",
        "                                   precision_score(y_test, y_pred),\n",
        "                                   accuracy_score(y_test, y_pred),\n",
        "                                   f1_score(y_test, y_pred)]\n",
        "    \n",
        "    "
      ],
      "metadata": {
        "colab": {
          "base_uri": "https://localhost:8080/"
        },
        "id": "7mDouJy4A02q",
        "outputId": "91701a10-fccc-4b07-9f0b-7bdcbe2bbe21"
      },
      "execution_count": null,
      "outputs": [
        {
          "output_type": "stream",
          "name": "stdout",
          "text": [
            "Entrenando modelo nro:  0\n",
            "Entrenando modelo nro:  1\n",
            "Entrenando modelo nro:  2\n"
          ]
        }
      ]
    },
    {
      "cell_type": "code",
      "source": [
        "metricas_train.set_index('metricas').T"
      ],
      "metadata": {
        "colab": {
          "base_uri": "https://localhost:8080/",
          "height": 144
        },
        "id": "zD36Us-ZG30o",
        "outputId": "cbde0fe9-0967-4e15-d166-0a41fc5ea3fc"
      },
      "execution_count": null,
      "outputs": [
        {
          "output_type": "execute_result",
          "data": {
            "text/plain": [
              "metricas  recall  precision  accuracy    f1\n",
              "mod0       1.000      1.000     1.000 1.000\n",
              "mod1       1.000      1.000     1.000 1.000\n",
              "mod2       1.000      1.000     1.000 1.000"
            ],
            "text/html": [
              "\n",
              "  <div id=\"df-c34f8929-7150-40f2-8a86-43c7021e33a5\">\n",
              "    <div class=\"colab-df-container\">\n",
              "      <div>\n",
              "<style scoped>\n",
              "    .dataframe tbody tr th:only-of-type {\n",
              "        vertical-align: middle;\n",
              "    }\n",
              "\n",
              "    .dataframe tbody tr th {\n",
              "        vertical-align: top;\n",
              "    }\n",
              "\n",
              "    .dataframe thead th {\n",
              "        text-align: right;\n",
              "    }\n",
              "</style>\n",
              "<table border=\"1\" class=\"dataframe\">\n",
              "  <thead>\n",
              "    <tr style=\"text-align: right;\">\n",
              "      <th>metricas</th>\n",
              "      <th>recall</th>\n",
              "      <th>precision</th>\n",
              "      <th>accuracy</th>\n",
              "      <th>f1</th>\n",
              "    </tr>\n",
              "  </thead>\n",
              "  <tbody>\n",
              "    <tr>\n",
              "      <th>mod0</th>\n",
              "      <td>1.000</td>\n",
              "      <td>1.000</td>\n",
              "      <td>1.000</td>\n",
              "      <td>1.000</td>\n",
              "    </tr>\n",
              "    <tr>\n",
              "      <th>mod1</th>\n",
              "      <td>1.000</td>\n",
              "      <td>1.000</td>\n",
              "      <td>1.000</td>\n",
              "      <td>1.000</td>\n",
              "    </tr>\n",
              "    <tr>\n",
              "      <th>mod2</th>\n",
              "      <td>1.000</td>\n",
              "      <td>1.000</td>\n",
              "      <td>1.000</td>\n",
              "      <td>1.000</td>\n",
              "    </tr>\n",
              "  </tbody>\n",
              "</table>\n",
              "</div>\n",
              "      <button class=\"colab-df-convert\" onclick=\"convertToInteractive('df-c34f8929-7150-40f2-8a86-43c7021e33a5')\"\n",
              "              title=\"Convert this dataframe to an interactive table.\"\n",
              "              style=\"display:none;\">\n",
              "        \n",
              "  <svg xmlns=\"http://www.w3.org/2000/svg\" height=\"24px\"viewBox=\"0 0 24 24\"\n",
              "       width=\"24px\">\n",
              "    <path d=\"M0 0h24v24H0V0z\" fill=\"none\"/>\n",
              "    <path d=\"M18.56 5.44l.94 2.06.94-2.06 2.06-.94-2.06-.94-.94-2.06-.94 2.06-2.06.94zm-11 1L8.5 8.5l.94-2.06 2.06-.94-2.06-.94L8.5 2.5l-.94 2.06-2.06.94zm10 10l.94 2.06.94-2.06 2.06-.94-2.06-.94-.94-2.06-.94 2.06-2.06.94z\"/><path d=\"M17.41 7.96l-1.37-1.37c-.4-.4-.92-.59-1.43-.59-.52 0-1.04.2-1.43.59L10.3 9.45l-7.72 7.72c-.78.78-.78 2.05 0 2.83L4 21.41c.39.39.9.59 1.41.59.51 0 1.02-.2 1.41-.59l7.78-7.78 2.81-2.81c.8-.78.8-2.07 0-2.86zM5.41 20L4 18.59l7.72-7.72 1.47 1.35L5.41 20z\"/>\n",
              "  </svg>\n",
              "      </button>\n",
              "      \n",
              "  <style>\n",
              "    .colab-df-container {\n",
              "      display:flex;\n",
              "      flex-wrap:wrap;\n",
              "      gap: 12px;\n",
              "    }\n",
              "\n",
              "    .colab-df-convert {\n",
              "      background-color: #E8F0FE;\n",
              "      border: none;\n",
              "      border-radius: 50%;\n",
              "      cursor: pointer;\n",
              "      display: none;\n",
              "      fill: #1967D2;\n",
              "      height: 32px;\n",
              "      padding: 0 0 0 0;\n",
              "      width: 32px;\n",
              "    }\n",
              "\n",
              "    .colab-df-convert:hover {\n",
              "      background-color: #E2EBFA;\n",
              "      box-shadow: 0px 1px 2px rgba(60, 64, 67, 0.3), 0px 1px 3px 1px rgba(60, 64, 67, 0.15);\n",
              "      fill: #174EA6;\n",
              "    }\n",
              "\n",
              "    [theme=dark] .colab-df-convert {\n",
              "      background-color: #3B4455;\n",
              "      fill: #D2E3FC;\n",
              "    }\n",
              "\n",
              "    [theme=dark] .colab-df-convert:hover {\n",
              "      background-color: #434B5C;\n",
              "      box-shadow: 0px 1px 3px 1px rgba(0, 0, 0, 0.15);\n",
              "      filter: drop-shadow(0px 1px 2px rgba(0, 0, 0, 0.3));\n",
              "      fill: #FFFFFF;\n",
              "    }\n",
              "  </style>\n",
              "\n",
              "      <script>\n",
              "        const buttonEl =\n",
              "          document.querySelector('#df-c34f8929-7150-40f2-8a86-43c7021e33a5 button.colab-df-convert');\n",
              "        buttonEl.style.display =\n",
              "          google.colab.kernel.accessAllowed ? 'block' : 'none';\n",
              "\n",
              "        async function convertToInteractive(key) {\n",
              "          const element = document.querySelector('#df-c34f8929-7150-40f2-8a86-43c7021e33a5');\n",
              "          const dataTable =\n",
              "            await google.colab.kernel.invokeFunction('convertToInteractive',\n",
              "                                                     [key], {});\n",
              "          if (!dataTable) return;\n",
              "\n",
              "          const docLinkHtml = 'Like what you see? Visit the ' +\n",
              "            '<a target=\"_blank\" href=https://colab.research.google.com/notebooks/data_table.ipynb>data table notebook</a>'\n",
              "            + ' to learn more about interactive tables.';\n",
              "          element.innerHTML = '';\n",
              "          dataTable['output_type'] = 'display_data';\n",
              "          await google.colab.output.renderOutput(dataTable, element);\n",
              "          const docLink = document.createElement('div');\n",
              "          docLink.innerHTML = docLinkHtml;\n",
              "          element.appendChild(docLink);\n",
              "        }\n",
              "      </script>\n",
              "    </div>\n",
              "  </div>\n",
              "  "
            ]
          },
          "metadata": {},
          "execution_count": 280
        }
      ]
    },
    {
      "cell_type": "code",
      "source": [
        "metricas_test.set_index('metricas').T.sort_values(by='f1', ascending = False)"
      ],
      "metadata": {
        "colab": {
          "base_uri": "https://localhost:8080/",
          "height": 144
        },
        "id": "kkspT2C6IqcR",
        "outputId": "5beed975-5bb8-4822-c7d9-8eee1187f4d8"
      },
      "execution_count": null,
      "outputs": [
        {
          "output_type": "execute_result",
          "data": {
            "text/plain": [
              "metricas  recall  precision  accuracy    f1\n",
              "mod0       0.537      0.581     0.774 0.558\n",
              "mod1       0.537      0.581     0.774 0.558\n",
              "mod2       0.537      0.581     0.774 0.558"
            ],
            "text/html": [
              "\n",
              "  <div id=\"df-fb66c80a-bb3f-44f4-b1ea-5ef60e5f5841\">\n",
              "    <div class=\"colab-df-container\">\n",
              "      <div>\n",
              "<style scoped>\n",
              "    .dataframe tbody tr th:only-of-type {\n",
              "        vertical-align: middle;\n",
              "    }\n",
              "\n",
              "    .dataframe tbody tr th {\n",
              "        vertical-align: top;\n",
              "    }\n",
              "\n",
              "    .dataframe thead th {\n",
              "        text-align: right;\n",
              "    }\n",
              "</style>\n",
              "<table border=\"1\" class=\"dataframe\">\n",
              "  <thead>\n",
              "    <tr style=\"text-align: right;\">\n",
              "      <th>metricas</th>\n",
              "      <th>recall</th>\n",
              "      <th>precision</th>\n",
              "      <th>accuracy</th>\n",
              "      <th>f1</th>\n",
              "    </tr>\n",
              "  </thead>\n",
              "  <tbody>\n",
              "    <tr>\n",
              "      <th>mod0</th>\n",
              "      <td>0.537</td>\n",
              "      <td>0.581</td>\n",
              "      <td>0.774</td>\n",
              "      <td>0.558</td>\n",
              "    </tr>\n",
              "    <tr>\n",
              "      <th>mod1</th>\n",
              "      <td>0.537</td>\n",
              "      <td>0.581</td>\n",
              "      <td>0.774</td>\n",
              "      <td>0.558</td>\n",
              "    </tr>\n",
              "    <tr>\n",
              "      <th>mod2</th>\n",
              "      <td>0.537</td>\n",
              "      <td>0.581</td>\n",
              "      <td>0.774</td>\n",
              "      <td>0.558</td>\n",
              "    </tr>\n",
              "  </tbody>\n",
              "</table>\n",
              "</div>\n",
              "      <button class=\"colab-df-convert\" onclick=\"convertToInteractive('df-fb66c80a-bb3f-44f4-b1ea-5ef60e5f5841')\"\n",
              "              title=\"Convert this dataframe to an interactive table.\"\n",
              "              style=\"display:none;\">\n",
              "        \n",
              "  <svg xmlns=\"http://www.w3.org/2000/svg\" height=\"24px\"viewBox=\"0 0 24 24\"\n",
              "       width=\"24px\">\n",
              "    <path d=\"M0 0h24v24H0V0z\" fill=\"none\"/>\n",
              "    <path d=\"M18.56 5.44l.94 2.06.94-2.06 2.06-.94-2.06-.94-.94-2.06-.94 2.06-2.06.94zm-11 1L8.5 8.5l.94-2.06 2.06-.94-2.06-.94L8.5 2.5l-.94 2.06-2.06.94zm10 10l.94 2.06.94-2.06 2.06-.94-2.06-.94-.94-2.06-.94 2.06-2.06.94z\"/><path d=\"M17.41 7.96l-1.37-1.37c-.4-.4-.92-.59-1.43-.59-.52 0-1.04.2-1.43.59L10.3 9.45l-7.72 7.72c-.78.78-.78 2.05 0 2.83L4 21.41c.39.39.9.59 1.41.59.51 0 1.02-.2 1.41-.59l7.78-7.78 2.81-2.81c.8-.78.8-2.07 0-2.86zM5.41 20L4 18.59l7.72-7.72 1.47 1.35L5.41 20z\"/>\n",
              "  </svg>\n",
              "      </button>\n",
              "      \n",
              "  <style>\n",
              "    .colab-df-container {\n",
              "      display:flex;\n",
              "      flex-wrap:wrap;\n",
              "      gap: 12px;\n",
              "    }\n",
              "\n",
              "    .colab-df-convert {\n",
              "      background-color: #E8F0FE;\n",
              "      border: none;\n",
              "      border-radius: 50%;\n",
              "      cursor: pointer;\n",
              "      display: none;\n",
              "      fill: #1967D2;\n",
              "      height: 32px;\n",
              "      padding: 0 0 0 0;\n",
              "      width: 32px;\n",
              "    }\n",
              "\n",
              "    .colab-df-convert:hover {\n",
              "      background-color: #E2EBFA;\n",
              "      box-shadow: 0px 1px 2px rgba(60, 64, 67, 0.3), 0px 1px 3px 1px rgba(60, 64, 67, 0.15);\n",
              "      fill: #174EA6;\n",
              "    }\n",
              "\n",
              "    [theme=dark] .colab-df-convert {\n",
              "      background-color: #3B4455;\n",
              "      fill: #D2E3FC;\n",
              "    }\n",
              "\n",
              "    [theme=dark] .colab-df-convert:hover {\n",
              "      background-color: #434B5C;\n",
              "      box-shadow: 0px 1px 3px 1px rgba(0, 0, 0, 0.15);\n",
              "      filter: drop-shadow(0px 1px 2px rgba(0, 0, 0, 0.3));\n",
              "      fill: #FFFFFF;\n",
              "    }\n",
              "  </style>\n",
              "\n",
              "      <script>\n",
              "        const buttonEl =\n",
              "          document.querySelector('#df-fb66c80a-bb3f-44f4-b1ea-5ef60e5f5841 button.colab-df-convert');\n",
              "        buttonEl.style.display =\n",
              "          google.colab.kernel.accessAllowed ? 'block' : 'none';\n",
              "\n",
              "        async function convertToInteractive(key) {\n",
              "          const element = document.querySelector('#df-fb66c80a-bb3f-44f4-b1ea-5ef60e5f5841');\n",
              "          const dataTable =\n",
              "            await google.colab.kernel.invokeFunction('convertToInteractive',\n",
              "                                                     [key], {});\n",
              "          if (!dataTable) return;\n",
              "\n",
              "          const docLinkHtml = 'Like what you see? Visit the ' +\n",
              "            '<a target=\"_blank\" href=https://colab.research.google.com/notebooks/data_table.ipynb>data table notebook</a>'\n",
              "            + ' to learn more about interactive tables.';\n",
              "          element.innerHTML = '';\n",
              "          dataTable['output_type'] = 'display_data';\n",
              "          await google.colab.output.renderOutput(dataTable, element);\n",
              "          const docLink = document.createElement('div');\n",
              "          docLink.innerHTML = docLinkHtml;\n",
              "          element.appendChild(docLink);\n",
              "        }\n",
              "      </script>\n",
              "    </div>\n",
              "  </div>\n",
              "  "
            ]
          },
          "metadata": {},
          "execution_count": 281
        }
      ]
    },
    {
      "cell_type": "markdown",
      "source": [
        "Se intenta probar el modelo con otro conjunto de datos para intentar detectar un overfitting pero se obtienen los mismo resultados."
      ],
      "metadata": {
        "id": "d72_OjypQqNt"
      }
    }
  ]
}