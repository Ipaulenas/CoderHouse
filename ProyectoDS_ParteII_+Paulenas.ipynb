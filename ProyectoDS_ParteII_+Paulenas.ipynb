{
  "nbformat": 4,
  "nbformat_minor": 0,
  "metadata": {
    "colab": {
      "provenance": [],
      "collapsed_sections": [
        "q9ItrmiTZDE4",
        "J7SOxXFTrn3Y",
        "gBGJkmP0tNTH",
        "8btoy6R5yl_J",
        "pZNnke2Y3G__",
        "SMBkTm7PNAoJ",
        "JuGTy-HvGK14"
      ]
    },
    "kernelspec": {
      "name": "python3",
      "display_name": "Python 3"
    },
    "language_info": {
      "name": "python"
    }
  },
  "cells": [
    {
      "cell_type": "markdown",
      "source": [
        "# ¿A que se debe la perdida de los clientes?\n",
        "\n",
        "# ¿Que deberiamos cambiar para mejorar esta situación?"
      ],
      "metadata": {
        "id": "dO6zeNLIXgOD"
      }
    },
    {
      "cell_type": "code",
      "source": [
        "import pandas as pd\n",
        "import numpy as np\n",
        "import seaborn as sns\n",
        "import matplotlib as mpl\n",
        "import matplotlib.pyplot as plt\n",
        "\n",
        "# Importadores que uso el profesor en la clase que uso Bokeh\n",
        "import bokeh as bk\n",
        "from bokeh.palettes import Spectral6\n",
        "from bokeh.io import show, output_notebook\n",
        "from bokeh.models import CategoricalColorMapper, ColumnDataSource, FactorRange\n",
        "from bokeh.plotting import figure\n",
        "from bokeh.models import HoverTool\n",
        "from bokeh.io import output_notebook # Sumamente importante tenerlo\n",
        "\n",
        "from bokeh.resources import INLINE\n",
        "output_notebook(INLINE)\n",
        "\n",
        "\n",
        "\n"
      ],
      "metadata": {
        "id": "MPN1KONCY94K"
      },
      "execution_count": 17,
      "outputs": []
    },
    {
      "cell_type": "markdown",
      "source": [
        "## Introduccion"
      ],
      "metadata": {
        "id": "q9ItrmiTZDE4"
      }
    },
    {
      "cell_type": "markdown",
      "source": [
        "**Contexto empresarial.** La empresa Telco ha exprimientado una perdida muy significativa de clientes en el ultimo trimestre. Necesitan encontrar la causa y una solucion para dicho problema.\n",
        "A partir de esto se recopilo toda la informacion que se tenia de los clientes del ultimo trimestre(Estado del servicio de los clientes, Informacion detallada de los clientes y Detalles de los contratos de los clientes).\n",
        "\n",
        "La empresa te ha contratado para que construyas visualizaciones que les ayuden a identificar las causas principales de las perdidas, como solucionar el problema para prevenir posibles perdidas a futuro y como recuperar a los clientes perdidos.\n"
      ],
      "metadata": {
        "id": "STtw6zuHZE2H"
      }
    },
    {
      "cell_type": "markdown",
      "source": [
        "**Problema comercial.** Su tarea es formatear los datos proporcionados y proporcionar visualizaciones que respondan las preguntas específicas que tiene el cliente, que se mencionan a continuación."
      ],
      "metadata": {
        "id": "ZDmIalLpeQ3X"
      }
    },
    {
      "cell_type": "markdown",
      "source": [
        "**Contexto analítico.** Se le proporciona tres archivos CSV (almacenado en la carpeta ```datos``` ya creada). A continuacion se detalla el nombre de cada uno de los archivos y los detalles de como se componen:\n",
        "\n",
        "*  Telco_customer_churn_services: Detalles de los contratos de los clientes.\n",
        "*  Telco_customer_churn_status: Estado del servicio de los clientes.\n",
        "*  Telco_customer_churn_demographics: Informacion detallada de los clientes.\n",
        "\n",
        "El delimitador en el archivo CSV dado es `,`. \n",
        "\n",
        "Realizará las siguientes tareas con los datos:\n",
        "\n",
        "1. Extraiga datos adicionales de los DataFrame brindados en un archivo JSON\n",
        "2. Leer, transformar y preparar datos para su visualización\n",
        "3. Realizar análisis y construir visualizaciones de los datos para identificar patrones en el conjunto de datos.\n",
        "        \n",
        "El cliente tiene un conjunto específico de preguntas a las que le gustaría obtener respuestas. Deberá proporcionar visualizaciones para acompañar estos:\n",
        "\n",
        "1. ¿Que porcentaje de clientes perdimos en el ultimo trimestre?\n",
        "2. ¿Cual es la causa principal de la perdida de clientes?\n",
        "3. ¿Que varibles tienen en comun los clientes que descontrataron el servicio (Por ejemplo: Edad, genero, etc)?\n",
        "4. ¿Que tipo de contranto tenian la mayoria de los clientes que abandonaron la empresa?\n",
        "5. ¿Cuantas ofertas de servicios tuvieron los clientes que abandonaron la empresa?\n",
        "6. ¿Que acciones podriamos tomar para revertir esta situción?\n",
        "7. ¿QUe deberiamos cambiar para prevenir este situacion a futuro?\n"
      ],
      "metadata": {
        "id": "-fpAkgUleZXA"
      }
    },
    {
      "cell_type": "markdown",
      "source": [
        "## Overview de la data"
      ],
      "metadata": {
        "id": "J7SOxXFTrn3Y"
      }
    },
    {
      "cell_type": "code",
      "source": [
        "#importacion de DataFrames\n",
        "\n",
        "tipo_contrtato = \"https://raw.githubusercontent.com/Ipaulenas/CoderHouse/main/datos/Telco_customer_churn_services.csv\"\n",
        "df1 = pd.read_csv (tipo_contrtato)      # Detalles de los contratos de los clientes\n",
        "\n",
        "estado_del_servicio = \"https://raw.githubusercontent.com/Ipaulenas/CoderHouse/main/datos/Telco_customer_churn_status.csv\"\n",
        "df2 = pd.read_csv (estado_del_servicio) # Estado del servicio de los clientes\n",
        "\n",
        "datos_clientes = \"https://raw.githubusercontent.com/Ipaulenas/CoderHouse/main/datos/Telco_customer_churn_demographics.csv\"\n",
        "df3 = pd.read_csv (datos_clientes)      # Informacion detallada de los clientes\n",
        "\n",
        "# Uno los dos DataFrame df1 y df2 en función de la columna “Customer ID”\n",
        "df_comb_1_2 = pd.merge(df2, df1, on='Customer ID')\n",
        "\n",
        "# Uno los dos DataFrame df_comb_1_2  y df3 en función de la columna “Customer ID”\n",
        "df_final = pd.merge(df_comb_1_2, df3, on='Customer ID')\n",
        "# Imprimimos el data set final\n",
        "df_final.head(5)"
      ],
      "metadata": {
        "id": "apEKH8BUH8zV",
        "colab": {
          "base_uri": "https://localhost:8080/",
          "height": 508
        },
        "outputId": "dc31a1f7-083c-499c-9563-6ed8e0d5cfe5"
      },
      "execution_count": 42,
      "outputs": [
        {
          "output_type": "execute_result",
          "data": {
            "text/plain": [
              "  Customer ID  Count_x Quarter_x Customer Status Churn Label  Churn Value  \\\n",
              "0  8779-QRDMV        1        Q3         Churned         Yes            1   \n",
              "1  7495-OOKFY        1        Q3         Churned         Yes            1   \n",
              "2  1658-BYGOY        1        Q3         Churned         Yes            1   \n",
              "3  4598-XLKNJ        1        Q3         Churned         Yes            1   \n",
              "4  4846-WHAFZ        1        Q3         Churned         Yes            1   \n",
              "\n",
              "    Churn Category                  Churn Reason  Count_y Quarter_y  ...  \\\n",
              "0       Competitor  Competitor offered more data        1        Q3  ...   \n",
              "1       Competitor  Competitor made better offer        1        Q3  ...   \n",
              "2       Competitor  Competitor made better offer        1        Q3  ...   \n",
              "3  Dissatisfaction     Limited range of services        1        Q3  ...   \n",
              "4            Price            Extra data charges        1        Q3  ...   \n",
              "\n",
              "  Total Long Distance Charges  Total Revenue  Count Gender Age  Under 30  \\\n",
              "0                        0.00          59.65      1      M  78        No   \n",
              "1                      390.80        1024.10      1      F  74        No   \n",
              "2                      203.94        1910.88      1      M  71        No   \n",
              "3                      494.00        2995.07      1      F  78        No   \n",
              "4                      234.21        3102.36      1      F  80        No   \n",
              "\n",
              "  Senior Citizen Married Dependents  Number of Dependents  \n",
              "0            Yes      No         No                     0  \n",
              "1            Yes     Yes        Yes                     1  \n",
              "2            Yes      No        Yes                     3  \n",
              "3            Yes     Yes        Yes                     1  \n",
              "4            Yes     Yes        Yes                     1  \n",
              "\n",
              "[5 rows x 45 columns]"
            ],
            "text/html": [
              "\n",
              "  <div id=\"df-d59c895d-3b41-4d49-ba65-d8fae03dc72e\">\n",
              "    <div class=\"colab-df-container\">\n",
              "      <div>\n",
              "<style scoped>\n",
              "    .dataframe tbody tr th:only-of-type {\n",
              "        vertical-align: middle;\n",
              "    }\n",
              "\n",
              "    .dataframe tbody tr th {\n",
              "        vertical-align: top;\n",
              "    }\n",
              "\n",
              "    .dataframe thead th {\n",
              "        text-align: right;\n",
              "    }\n",
              "</style>\n",
              "<table border=\"1\" class=\"dataframe\">\n",
              "  <thead>\n",
              "    <tr style=\"text-align: right;\">\n",
              "      <th></th>\n",
              "      <th>Customer ID</th>\n",
              "      <th>Count_x</th>\n",
              "      <th>Quarter_x</th>\n",
              "      <th>Customer Status</th>\n",
              "      <th>Churn Label</th>\n",
              "      <th>Churn Value</th>\n",
              "      <th>Churn Category</th>\n",
              "      <th>Churn Reason</th>\n",
              "      <th>Count_y</th>\n",
              "      <th>Quarter_y</th>\n",
              "      <th>...</th>\n",
              "      <th>Total Long Distance Charges</th>\n",
              "      <th>Total Revenue</th>\n",
              "      <th>Count</th>\n",
              "      <th>Gender</th>\n",
              "      <th>Age</th>\n",
              "      <th>Under 30</th>\n",
              "      <th>Senior Citizen</th>\n",
              "      <th>Married</th>\n",
              "      <th>Dependents</th>\n",
              "      <th>Number of Dependents</th>\n",
              "    </tr>\n",
              "  </thead>\n",
              "  <tbody>\n",
              "    <tr>\n",
              "      <th>0</th>\n",
              "      <td>8779-QRDMV</td>\n",
              "      <td>1</td>\n",
              "      <td>Q3</td>\n",
              "      <td>Churned</td>\n",
              "      <td>Yes</td>\n",
              "      <td>1</td>\n",
              "      <td>Competitor</td>\n",
              "      <td>Competitor offered more data</td>\n",
              "      <td>1</td>\n",
              "      <td>Q3</td>\n",
              "      <td>...</td>\n",
              "      <td>0.00</td>\n",
              "      <td>59.65</td>\n",
              "      <td>1</td>\n",
              "      <td>M</td>\n",
              "      <td>78</td>\n",
              "      <td>No</td>\n",
              "      <td>Yes</td>\n",
              "      <td>No</td>\n",
              "      <td>No</td>\n",
              "      <td>0</td>\n",
              "    </tr>\n",
              "    <tr>\n",
              "      <th>1</th>\n",
              "      <td>7495-OOKFY</td>\n",
              "      <td>1</td>\n",
              "      <td>Q3</td>\n",
              "      <td>Churned</td>\n",
              "      <td>Yes</td>\n",
              "      <td>1</td>\n",
              "      <td>Competitor</td>\n",
              "      <td>Competitor made better offer</td>\n",
              "      <td>1</td>\n",
              "      <td>Q3</td>\n",
              "      <td>...</td>\n",
              "      <td>390.80</td>\n",
              "      <td>1024.10</td>\n",
              "      <td>1</td>\n",
              "      <td>F</td>\n",
              "      <td>74</td>\n",
              "      <td>No</td>\n",
              "      <td>Yes</td>\n",
              "      <td>Yes</td>\n",
              "      <td>Yes</td>\n",
              "      <td>1</td>\n",
              "    </tr>\n",
              "    <tr>\n",
              "      <th>2</th>\n",
              "      <td>1658-BYGOY</td>\n",
              "      <td>1</td>\n",
              "      <td>Q3</td>\n",
              "      <td>Churned</td>\n",
              "      <td>Yes</td>\n",
              "      <td>1</td>\n",
              "      <td>Competitor</td>\n",
              "      <td>Competitor made better offer</td>\n",
              "      <td>1</td>\n",
              "      <td>Q3</td>\n",
              "      <td>...</td>\n",
              "      <td>203.94</td>\n",
              "      <td>1910.88</td>\n",
              "      <td>1</td>\n",
              "      <td>M</td>\n",
              "      <td>71</td>\n",
              "      <td>No</td>\n",
              "      <td>Yes</td>\n",
              "      <td>No</td>\n",
              "      <td>Yes</td>\n",
              "      <td>3</td>\n",
              "    </tr>\n",
              "    <tr>\n",
              "      <th>3</th>\n",
              "      <td>4598-XLKNJ</td>\n",
              "      <td>1</td>\n",
              "      <td>Q3</td>\n",
              "      <td>Churned</td>\n",
              "      <td>Yes</td>\n",
              "      <td>1</td>\n",
              "      <td>Dissatisfaction</td>\n",
              "      <td>Limited range of services</td>\n",
              "      <td>1</td>\n",
              "      <td>Q3</td>\n",
              "      <td>...</td>\n",
              "      <td>494.00</td>\n",
              "      <td>2995.07</td>\n",
              "      <td>1</td>\n",
              "      <td>F</td>\n",
              "      <td>78</td>\n",
              "      <td>No</td>\n",
              "      <td>Yes</td>\n",
              "      <td>Yes</td>\n",
              "      <td>Yes</td>\n",
              "      <td>1</td>\n",
              "    </tr>\n",
              "    <tr>\n",
              "      <th>4</th>\n",
              "      <td>4846-WHAFZ</td>\n",
              "      <td>1</td>\n",
              "      <td>Q3</td>\n",
              "      <td>Churned</td>\n",
              "      <td>Yes</td>\n",
              "      <td>1</td>\n",
              "      <td>Price</td>\n",
              "      <td>Extra data charges</td>\n",
              "      <td>1</td>\n",
              "      <td>Q3</td>\n",
              "      <td>...</td>\n",
              "      <td>234.21</td>\n",
              "      <td>3102.36</td>\n",
              "      <td>1</td>\n",
              "      <td>F</td>\n",
              "      <td>80</td>\n",
              "      <td>No</td>\n",
              "      <td>Yes</td>\n",
              "      <td>Yes</td>\n",
              "      <td>Yes</td>\n",
              "      <td>1</td>\n",
              "    </tr>\n",
              "  </tbody>\n",
              "</table>\n",
              "<p>5 rows × 45 columns</p>\n",
              "</div>\n",
              "      <button class=\"colab-df-convert\" onclick=\"convertToInteractive('df-d59c895d-3b41-4d49-ba65-d8fae03dc72e')\"\n",
              "              title=\"Convert this dataframe to an interactive table.\"\n",
              "              style=\"display:none;\">\n",
              "        \n",
              "  <svg xmlns=\"http://www.w3.org/2000/svg\" height=\"24px\"viewBox=\"0 0 24 24\"\n",
              "       width=\"24px\">\n",
              "    <path d=\"M0 0h24v24H0V0z\" fill=\"none\"/>\n",
              "    <path d=\"M18.56 5.44l.94 2.06.94-2.06 2.06-.94-2.06-.94-.94-2.06-.94 2.06-2.06.94zm-11 1L8.5 8.5l.94-2.06 2.06-.94-2.06-.94L8.5 2.5l-.94 2.06-2.06.94zm10 10l.94 2.06.94-2.06 2.06-.94-2.06-.94-.94-2.06-.94 2.06-2.06.94z\"/><path d=\"M17.41 7.96l-1.37-1.37c-.4-.4-.92-.59-1.43-.59-.52 0-1.04.2-1.43.59L10.3 9.45l-7.72 7.72c-.78.78-.78 2.05 0 2.83L4 21.41c.39.39.9.59 1.41.59.51 0 1.02-.2 1.41-.59l7.78-7.78 2.81-2.81c.8-.78.8-2.07 0-2.86zM5.41 20L4 18.59l7.72-7.72 1.47 1.35L5.41 20z\"/>\n",
              "  </svg>\n",
              "      </button>\n",
              "      \n",
              "  <style>\n",
              "    .colab-df-container {\n",
              "      display:flex;\n",
              "      flex-wrap:wrap;\n",
              "      gap: 12px;\n",
              "    }\n",
              "\n",
              "    .colab-df-convert {\n",
              "      background-color: #E8F0FE;\n",
              "      border: none;\n",
              "      border-radius: 50%;\n",
              "      cursor: pointer;\n",
              "      display: none;\n",
              "      fill: #1967D2;\n",
              "      height: 32px;\n",
              "      padding: 0 0 0 0;\n",
              "      width: 32px;\n",
              "    }\n",
              "\n",
              "    .colab-df-convert:hover {\n",
              "      background-color: #E2EBFA;\n",
              "      box-shadow: 0px 1px 2px rgba(60, 64, 67, 0.3), 0px 1px 3px 1px rgba(60, 64, 67, 0.15);\n",
              "      fill: #174EA6;\n",
              "    }\n",
              "\n",
              "    [theme=dark] .colab-df-convert {\n",
              "      background-color: #3B4455;\n",
              "      fill: #D2E3FC;\n",
              "    }\n",
              "\n",
              "    [theme=dark] .colab-df-convert:hover {\n",
              "      background-color: #434B5C;\n",
              "      box-shadow: 0px 1px 3px 1px rgba(0, 0, 0, 0.15);\n",
              "      filter: drop-shadow(0px 1px 2px rgba(0, 0, 0, 0.3));\n",
              "      fill: #FFFFFF;\n",
              "    }\n",
              "  </style>\n",
              "\n",
              "      <script>\n",
              "        const buttonEl =\n",
              "          document.querySelector('#df-d59c895d-3b41-4d49-ba65-d8fae03dc72e button.colab-df-convert');\n",
              "        buttonEl.style.display =\n",
              "          google.colab.kernel.accessAllowed ? 'block' : 'none';\n",
              "\n",
              "        async function convertToInteractive(key) {\n",
              "          const element = document.querySelector('#df-d59c895d-3b41-4d49-ba65-d8fae03dc72e');\n",
              "          const dataTable =\n",
              "            await google.colab.kernel.invokeFunction('convertToInteractive',\n",
              "                                                     [key], {});\n",
              "          if (!dataTable) return;\n",
              "\n",
              "          const docLinkHtml = 'Like what you see? Visit the ' +\n",
              "            '<a target=\"_blank\" href=https://colab.research.google.com/notebooks/data_table.ipynb>data table notebook</a>'\n",
              "            + ' to learn more about interactive tables.';\n",
              "          element.innerHTML = '';\n",
              "          dataTable['output_type'] = 'display_data';\n",
              "          await google.colab.output.renderOutput(dataTable, element);\n",
              "          const docLink = document.createElement('div');\n",
              "          docLink.innerHTML = docLinkHtml;\n",
              "          element.appendChild(docLink);\n",
              "        }\n",
              "      </script>\n",
              "    </div>\n",
              "  </div>\n",
              "  "
            ]
          },
          "metadata": {},
          "execution_count": 42
        }
      ]
    },
    {
      "cell_type": "code",
      "source": [
        "df_final.columns"
      ],
      "metadata": {
        "colab": {
          "base_uri": "https://localhost:8080/"
        },
        "id": "pA_GZFlQssMX",
        "outputId": "6247944d-fd9b-4989-f53d-e4c9f1bc869f"
      },
      "execution_count": 43,
      "outputs": [
        {
          "output_type": "execute_result",
          "data": {
            "text/plain": [
              "Index(['Customer ID', 'Count_x', 'Quarter_x', 'Customer Status', 'Churn Label',\n",
              "       'Churn Value', 'Churn Category', 'Churn Reason', 'Count_y', 'Quarter_y',\n",
              "       'Referred a Friend', 'Number of Referrals', 'Tenure in Months', 'Offer',\n",
              "       'Phone Service', 'Avg Monthly Long Distance Charges', 'Multiple Lines',\n",
              "       'Internet Service', 'Internet Type', 'Avg Monthly GB Download',\n",
              "       'Online Security', 'Online Backup', 'Device Protection Plan',\n",
              "       'Premium Tech Support', 'Streaming TV', 'Streaming Movies',\n",
              "       'Streaming Music', 'Unlimited Data', 'Contract', 'Paperless Billing',\n",
              "       'Payment Method', 'Monthly Charge', 'Total Charges', 'Total Refunds',\n",
              "       'Total Extra Data Charges', 'Total Long Distance Charges',\n",
              "       'Total Revenue', 'Count', 'Gender', 'Age', 'Under 30', 'Senior Citizen',\n",
              "       'Married', 'Dependents', 'Number of Dependents'],\n",
              "      dtype='object')"
            ]
          },
          "metadata": {},
          "execution_count": 43
        }
      ]
    },
    {
      "cell_type": "markdown",
      "source": [
        "Tenemos las siguientes columnas en cada uno de los DataFrame:\n",
        "1.   **Telco_customer_churn_services:**\n",
        "          *   Customer ID: Una identificación única que identifica a cada cliente.\n",
        "          *   Count: Un valor que se utiliza en los informes/paneles para resumir el número de clientes en un conjunto filtrado.\n",
        "          *   Quarter: El trimestre del que se derivaron los datos (por ejemplo, Q3).\n",
        "          *   Referred a Friend: Indica si el cliente alguna vez recomendó a un amigo o familiar a esta empresa: Sí, No\n",
        "          *   Number of Referrals: Indica el número de referidos a la fecha que ha realizado el cliente.\n",
        "          *   Tenure in Months: Indica la cantidad total de meses que el cliente ha estado con la empresa al final del trimestre especificado anteriormente.\n",
        "          *   Offer: Identifica la última oferta de marketing que el cliente aceptó, si aplica. Los valores incluyen Ninguno, Oferta A, Oferta B, Oferta C, Oferta D y Oferta E.\n",
        "          *   Phone Service: Indica si el cliente contrata el servicio de telefonía residencial con la empresa: Si, No\n",
        "          *   Avg Monthly Long Distance Charges: Indica los cargos promedio de larga distancia del cliente, calculados al final del trimestre especificado anteriormente.\n",
        "          *   Multiple Lines: Indica si el cliente contrata líneas telefónicas múltiples con la empresa: Si, No\n",
        "          *   Internet Service: Indica si el cliente contrata el servicio de Internet con la empresa: No, Si\n",
        "          *   Internet Type: El tipo de internet que usa el cliente DSL, Fiber Optic, Cable.\n",
        "          *   Online Security: Indica si el cliente se suscribe a un servicio adicional de seguridad online proporcionado por la empresa: Si, No\n",
        "          *   Online Backup: Indica si el cliente se suscribe a un servicio adicional de respaldo en línea brindado por la empresa: Si, No\n",
        "          *   Device Protection Plan: Indica si el cliente se suscribe a un plan adicional de protección de dispositivos para su equipo de Internet provisto por la empresa: Si, No\n",
        "          *   Premium Tech Support: Indica si el cliente se suscribe a un plan de soporte técnico adicional de la empresa con tiempos de espera reducidos: Si, No\n",
        "          *   Streaming TV: Indica si el cliente utiliza su servicio de Internet para transmitir programación de televisión de un tercero proveedor: Sí, No. La empresa no cobra una tarifa adicional por este servicio.\n",
        "          *   Streaming Movies: Indica si el cliente utiliza su servicio de Internet para transmitir películas de un proveedor externo: Sí, No. La empresa no cobra una tarifa adicional por este servicio.\n",
        "          *   Streaming Music: Indica si el cliente utiliza su servicio de Internet para transmitir música de un proveedor externo: Sí, No. La empresa no cobra una tarifa adicional por este servicio.\n",
        "          *   Unlimited Data: Indica si el cliente ha pagado una tarifa mensual adicional para tener descargas/cargas de datos ilimitadas: Sí, No\n",
        "          *   Contract: Indica el tipo de contrato actual del cliente: Mes a Mes, Un Año, Dos Años.\n",
        "          *   Paperless Billing: Indica si el cliente ha elegido la facturación sin papel: Sí, No\n",
        "          *   Payment Method: Indica cómo el cliente paga su factura: Retiro bancario, Tarjeta de crédito, Cheque enviado por correo\n",
        "          *   Total Charges: Indica los cargos totales del cliente, calculados al final del trimestre especificado anteriormente.\n",
        "          *   Total Refunds: Indica los reembolsos totales del cliente, calculados al final del trimestre especificado anteriormente.\n",
        "          *   Total Extra Data Charges: Indica los cargos totales del cliente por descargas de datos adicionales por encima de los especificados en su plan, al final del trimestre especificado anteriormente.\n",
        "          *   Total Long Distance Charges: Indica los cargos totales de larga distancia del cliente por encima de los especificados en su plan, al final del trimestre especificado anteriormente.\n",
        "        *   Total Revenue: Ingresos totales  \n",
        "\n",
        "2.   **Telco_customer_churn_status:**\n",
        "          *   Customer ID: Una identificación única que identifica a cada cliente.\n",
        "          *   Count: Un valor que se utiliza en los informes/paneles para resumir el número de clientes en un conjunto filtrado.\n",
        "          *   Quarter: El trimestre del que se derivaron los datos (por ejemplo, Q3)\n",
        "          *   Customer Status: Indica el estado del cliente al final del trimestre: Churned, Stayed o Joined  \n",
        "          *   Churn Label: Sí = el cliente dejó la empresa este trimestre. No = el cliente se quedó con la empresa. Directamente relacionado con Churn Value.\n",
        "          *   Churn Value: 1 = el cliente dejó la empresa este trimestre. 0 = el cliente se quedó con la empresa. Directamente relacionado con Churn Label.\n",
        "          *   Churn Category: Una categoría de alto nivel para el motivo del abandono del cliente: actitud, competidor, insatisfacción, otro, precio. Cuando se van de la empresa, a todos los clientes se les pregunta por los motivos de su salida. Directamente relacionado con Churn Reason.\n",
        "          *   Churn Reason: El motivo específico de un cliente para abandonar la empresa. Directamente relacionado con la categoría Churn.\n",
        "\n",
        "3.   **Telco_customer_churn_demographics:**\n",
        "          *   Customer ID: Una identificación única que identifica a cada cliente.\n",
        "          *   Count: Un valor que se utiliza en los informes/paneles para resumir el número de clientes en un conjunto filtrado.\n",
        "          *   Gender: El género del cliente: Masculino, Femenino \n",
        "          *   Age: La edad actual del cliente, en años, en el momento en que finalizó el trimestre.\n",
        "          *   Under 30: Indica si el cliente tiene menos de 30 años de edad: Sí, No \n",
        "          *   Senior Citizen: Indica si el cliente tiene 65 años o más: Sí, No \n",
        "          *   Married: Indica si el cliente está casado: Si, No\n",
        "          *   Dependents: Indica si el cliente vive con algún dependiente: Sí, No. Los dependientes pueden ser hijos, padres, abuelos, etc.\n",
        "          *   Number of Dependents: Indica el número de dependientes que viven con el cliente.\n"
      ],
      "metadata": {
        "id": "HK-lslLWsnTu"
      }
    },
    {
      "cell_type": "markdown",
      "source": [
        "## Respondiendo las preguntas del cliente "
      ],
      "metadata": {
        "id": "gBGJkmP0tNTH"
      }
    },
    {
      "cell_type": "markdown",
      "source": [
        "###¿Que porcentaje de clientes perdimos en el ultimo trimestre?\n",
        "\n",
        "Se genera un grafico de tortas a partir de los estados de los clientes (Stayed, Churned y Joined)."
      ],
      "metadata": {
        "id": "8btoy6R5yl_J"
      }
    },
    {
      "cell_type": "code",
      "source": [
        "cant = df_final['Customer Status'].value_counts()\n",
        "total_clientes = len(df_final.index)\n",
        "# Paso ese valor a % para poder graficarlo\n",
        "cant_p = (cant * 100 ) / total_clientes\n",
        "print (cant_p)\n",
        "\n",
        "fig, y = plt.subplots ()\n",
        "y.set_title(\"Porcentaje de clientes por los estados de los mismo\")\n",
        "y = plt.pie (cant_p  , labels = cant_p.index )\n"
      ],
      "metadata": {
        "colab": {
          "base_uri": "https://localhost:8080/",
          "height": 333
        },
        "id": "p4bGzHVQQzsY",
        "outputId": "be04ff85-d928-4678-d13b-aa35730aa531"
      },
      "execution_count": 44,
      "outputs": [
        {
          "output_type": "stream",
          "name": "stdout",
          "text": [
            "Stayed     67.016896\n",
            "Churned    26.536987\n",
            "Joined      6.446117\n",
            "Name: Customer Status, dtype: float64\n"
          ]
        },
        {
          "output_type": "display_data",
          "data": {
            "text/plain": [
              "<Figure size 432x288 with 1 Axes>"
            ],
            "image/png": "[encoded data removed]"
          },
          "metadata": {}
        }
      ]
    },
    {
      "cell_type": "markdown",
      "source": [
        "1. ¿Que porcentaje de clientes perdimos en el ultimo trimestre?\n",
        "\n",
        "Luego de generar el grafico se puede observar que el 26% de los clientes estan descontratando el servicio. Y como podemos ver los nuevos clientes que contrataron el servicio llegan al 6% por ende estamos teniendo una gran perdida de clientes.\n",
        "\n",
        "Esto genera otras dos consultas ¿Cual es el motivo principal que los clientes descontraten el servicio? y ¿A que se debe el baja contratacion del servicio?"
      ],
      "metadata": {
        "id": "iR0tBI0b2JcT"
      }
    },
    {
      "cell_type": "markdown",
      "source": [],
      "metadata": {
        "id": "E9AQgzCT2l3j"
      }
    },
    {
      "cell_type": "markdown",
      "source": [
        "### 2. ¿Cual es la causa principal de la perdida de clientes?\n",
        "Se genera un gráfico de barras para analizar cuales son las causas de perdidas de clientes.\n"
      ],
      "metadata": {
        "id": "pZNnke2Y3G__"
      }
    },
    {
      "cell_type": "code",
      "source": [
        "cant = df_final['Churn Category'].value_counts()\n",
        "total_clientes = len(df_final.index)\n",
        "#print (total_clientes)\n",
        "# Paso ese valor a % para poder graficarlo\n",
        "cant_p = (cant * 100 ) / total_clientes\n",
        "print (cant_p)\n",
        "\n",
        "#print (cant)\n",
        "g = sns.barplot(data = df_final, x = cant_p.index, y =  cant_p)  \n",
        "g.set_title(\"Motivo de la baja de los clientes\")\n",
        "g.set_xlabel('Motivo de la baja')\n",
        "g.set_ylabel('Cantidad de clientes')"
      ],
      "metadata": {
        "colab": {
          "base_uri": "https://localhost:8080/",
          "height": 417
        },
        "id": "rRVZEWQIEbPo",
        "outputId": "efe4d879-bafc-48d8-db26-3887b7767ed4"
      },
      "execution_count": 18,
      "outputs": [
        {
          "output_type": "stream",
          "name": "stdout",
          "text": [
            "Competitor         11.940934\n",
            "Attitude            4.458327\n",
            "Dissatisfaction     4.302144\n",
            "Price               2.995882\n",
            "Other               2.839699\n",
            "Name: Churn Category, dtype: float64\n"
          ]
        },
        {
          "output_type": "execute_result",
          "data": {
            "text/plain": [
              "Text(0, 0.5, 'Cantidad de clientes')"
            ]
          },
          "metadata": {},
          "execution_count": 18
        },
        {
          "output_type": "display_data",
          "data": {
            "text/plain": [
              "<Figure size 432x288 with 1 Axes>"
            ],
            "image/png": "[encoded data removed]"
          },
          "metadata": {
            "needs_background": "light"
          }
        }
      ]
    },
    {
      "cell_type": "code",
      "source": [
        "cant = df_final['Churn Reason'].value_counts()\n",
        "total_clientes = len(df_final.index)\n",
        "#print (total_clientes)\n",
        "# Paso ese valor a % para poder graficarlo\n",
        "cant_p = (cant * 100 ) / total_clientes\n",
        "print (cant_p)\n",
        "\n",
        "#print (cant)\n",
        "plt.figure(figsize = (15,8))\n",
        "\n",
        "g = sns.barplot(data = df_final, x = cant_p.index, y =  cant_p  )\n",
        "\n",
        "g.set_title(\"Motivo de la baja de los clientes\")\n",
        "g.set_xlabel('Motivo de la baja')\n",
        "g.set_ylabel('Cantidad de clientes')\n",
        "\n",
        "plt.xticks(rotation=45)"
      ],
      "metadata": {
        "colab": {
          "base_uri": "https://localhost:8080/",
          "height": 1000
        },
        "id": "qEZBH10uEuCS",
        "outputId": "bb886750-29d5-4fbf-9ab7-d9837a39e268"
      },
      "execution_count": 19,
      "outputs": [
        {
          "output_type": "stream",
          "name": "stdout",
          "text": [
            "Competitor had better devices                4.444129\n",
            "Competitor made better offer                 4.415732\n",
            "Attitude of support person                   3.123669\n",
            "Don't know                                   1.845804\n",
            "Competitor offered more data                 1.661224\n",
            "Competitor offered higher download speeds    1.419849\n",
            "Attitude of service provider                 1.334659\n",
            "Price too high                               1.107483\n",
            "Product dissatisfaction                      1.093284\n",
            "Network reliability                          1.022292\n",
            "Long distance charges                        0.908704\n",
            "Service dissatisfaction                      0.894505\n",
            "Moved                                        0.653131\n",
            "Extra data charges                           0.553741\n",
            "Limited range of services                    0.525344\n",
            "Poor expertise of online support             0.440153\n",
            "Lack of affordable download/upload speed     0.425955\n",
            "Lack of self-service on Website              0.411756\n",
            "Poor expertise of phone support              0.170382\n",
            "Deceased                                     0.085191\n",
            "Name: Churn Reason, dtype: float64\n"
          ]
        },
        {
          "output_type": "execute_result",
          "data": {
            "text/plain": [
              "(array([ 0,  1,  2,  3,  4,  5,  6,  7,  8,  9, 10, 11, 12, 13, 14, 15, 16,\n",
              "        17, 18, 19]),\n",
              " [Text(0, 0, 'Competitor had better devices'),\n",
              "  Text(1, 0, 'Competitor made better offer'),\n",
              "  Text(2, 0, 'Attitude of support person'),\n",
              "  Text(3, 0, \"Don't know\"),\n",
              "  Text(4, 0, 'Competitor offered more data'),\n",
              "  Text(5, 0, 'Competitor offered higher download speeds'),\n",
              "  Text(6, 0, 'Attitude of service provider'),\n",
              "  Text(7, 0, 'Price too high'),\n",
              "  Text(8, 0, 'Product dissatisfaction'),\n",
              "  Text(9, 0, 'Network reliability'),\n",
              "  Text(10, 0, 'Long distance charges'),\n",
              "  Text(11, 0, 'Service dissatisfaction'),\n",
              "  Text(12, 0, 'Moved'),\n",
              "  Text(13, 0, 'Extra data charges'),\n",
              "  Text(14, 0, 'Limited range of services'),\n",
              "  Text(15, 0, 'Poor expertise of online support'),\n",
              "  Text(16, 0, 'Lack of affordable download/upload speed'),\n",
              "  Text(17, 0, 'Lack of self-service on Website'),\n",
              "  Text(18, 0, 'Poor expertise of phone support'),\n",
              "  Text(19, 0, 'Deceased')])"
            ]
          },
          "metadata": {},
          "execution_count": 19
        },
        {
          "output_type": "display_data",
          "data": {
            "text/plain": [
              "<Figure size 1080x576 with 1 Axes>"
            ],
            "image/png": "[encoded data removed]"
          },
          "metadata": {
            "needs_background": "light"
          }
        }
      ]
    },
    {
      "cell_type": "markdown",
      "source": [
        "¿Cual es la causa principal de la perdida de clientes?\n",
        "\n",
        "\n",
        "\n",
        "A partir del primer grafico podemos verificar que las principales causas de que los clientes soliciten la baja estan realacionadas 11% con la competencia, el 4% actitud, 4% por no estar satifecho con el servicio, 3% por el precio y 3% por otros motivos.\n",
        "\n",
        "Con el segundo grafico vamos a analizar las causas mas detalladas para enteneder que fue lo que genero la mayor pedida de clientes. Las principales causas fueron las ofertas (4% de la bajas) y los dispositvos que ofrecen la copentencia (4% de la bajas)."
      ],
      "metadata": {
        "id": "YKvshHWsE-6l"
      }
    },
    {
      "cell_type": "markdown",
      "source": [
        "### 3. ¿Que varibles tienen en comun los clientes que descontrataron el servicio (Por ejemplo: Edad, genero, etc)?\n",
        "Se genera un grafico de puntos de dispercion para analizar si hay alguna relacion entre la edad y el genero entre los clientes que descontrataron el servicio."
      ],
      "metadata": {
        "id": "SMBkTm7PNAoJ"
      }
    },
    {
      "cell_type": "markdown",
      "source": [
        "Primero limpiamos la tabla ya que tenemos 4 varibles de genero (Female, F, Male y M). Se remplaza las variables para tener solo 2 posibles valores (F, M)."
      ],
      "metadata": {
        "id": "aAlzm8aeNL92"
      }
    },
    {
      "cell_type": "code",
      "source": [
        "df_final = df_final.replace({\"Female\": \"F\", \"Male\": \"M\"})"
      ],
      "metadata": {
        "id": "Ny3nk2_2MNx4"
      },
      "execution_count": 40,
      "outputs": []
    },
    {
      "cell_type": "code",
      "source": [
        "\n",
        "g = sns.relplot(data = df_final, x = df_final['Age'].loc[df_final['Customer Status'] == \"Churned\"] , y = df_final['Age'].loc[df_final['Customer Status'] == \"Churned\"].value_counts () , hue = df_final['Gender'] )\n",
        "\n",
        "plt.title(\"Clientes que descontraron el servicio por edad\")\n",
        "plt.xlabel('Edad de los clientes')\n",
        "plt.ylabel('Cantidad de clientes')\n",
        "\n",
        "\n"
      ],
      "metadata": {
        "colab": {
          "base_uri": "https://localhost:8080/",
          "height": 402
        },
        "id": "xhAQ3dUebzIe",
        "outputId": "aa96d850-36b2-42c1-a9b6-cd0a66721dbd"
      },
      "execution_count": 41,
      "outputs": [
        {
          "output_type": "execute_result",
          "data": {
            "text/plain": [
              "Text(26.353281250000002, 0.5, 'Cantidad de clientes')"
            ]
          },
          "metadata": {},
          "execution_count": 41
        },
        {
          "output_type": "display_data",
          "data": {
            "text/plain": [
              "<Figure size 404.875x360 with 1 Axes>"
            ],
            "image/png": "[encoded data removed]"
          },
          "metadata": {
            "needs_background": "light"
          }
        }
      ]
    },
    {
      "cell_type": "markdown",
      "source": [
        "¿Que varibles tienen en comun los clientes que descontrataron el servicio (Por ejemplo: Edad, genero, etc)?\n",
        "La edad realizando un simple analisis con la variable del genero no parecen ser varibles que den incidios de un patron relacionado con la descontratacion del servicio."
      ],
      "metadata": {
        "id": "mRbzMbsl7gPn"
      }
    },
    {
      "cell_type": "code",
      "source": [],
      "metadata": {
        "id": "xtV4w7PlNhuX"
      },
      "execution_count": null,
      "outputs": []
    },
    {
      "cell_type": "markdown",
      "source": [
        "### 4. ¿Que tipo de contranto tenian la mayoria de los clientes que abandonaron la empresa?\n",
        "Se generan graficos de barras para ver la cantidad de clientes que descontrataron el servicio segun el tipo de contranto que tenian.\n"
      ],
      "metadata": {
        "id": "JuGTy-HvGK14"
      }
    },
    {
      "cell_type": "code",
      "source": [
        "#Calculo la cantiadad de clientes por tipos de contrato\n",
        "y = df_final['Contract'].value_counts()\n",
        "print (y)\n",
        "# Total de los clientes\n",
        "total_clientes = len(df_final.index)\n",
        "#print (total_clientes)\n",
        "# Paso ese valor a % para poder graficarlo\n",
        "y_porcentaje = (df_final['Contract'].value_counts() * 100 ) / total_clientes\n",
        "# Grafico de barras con Seaborn\n",
        "g = sns.barplot(data = df_final, x = y_porcentaje.index, y =  y_porcentaje)  \n",
        "g.set_title(\"Cantidad de clientes por los tipos de contratos\")\n",
        "g.set_xlabel('Tipos de contrantos')\n",
        "g.set_ylabel('% de clientes')\n"
      ],
      "metadata": {
        "colab": {
          "base_uri": "https://localhost:8080/",
          "height": 382
        },
        "id": "F_RbQlM4J0k7",
        "outputId": "cdcec1e5-6ba3-4403-e02c-61a655040cd7"
      },
      "execution_count": 20,
      "outputs": [
        {
          "output_type": "stream",
          "name": "stdout",
          "text": [
            "Month-to-Month    3610\n",
            "Two Year          1883\n",
            "One Year          1550\n",
            "Name: Contract, dtype: int64\n"
          ]
        },
        {
          "output_type": "execute_result",
          "data": {
            "text/plain": [
              "Text(0, 0.5, '% de clientes')"
            ]
          },
          "metadata": {},
          "execution_count": 20
        },
        {
          "output_type": "display_data",
          "data": {
            "text/plain": [
              "<Figure size 432x288 with 1 Axes>"
            ],
            "image/png": "[encoded data removed]"
          },
          "metadata": {
            "needs_background": "light"
          }
        }
      ]
    },
    {
      "cell_type": "code",
      "source": [
        "#Calculo la cantiadad de clientes por tipos de contrato\n",
        "y = df_final['Contract']\n",
        "#print (y)\n",
        "# Total de los clientes que descontrataron el servicio por cada tipo de contranto\n",
        "y =  y.loc[df_final['Customer Status'] == \"Churned\"].value_counts ()\n",
        "print (y)\n",
        "# Total de clientes que descontrataron el servicio\n",
        "total_clientes = len (df_final['Customer Status'].loc[df_final['Customer Status'] == \"Churned\"])\n",
        "print (total_clientes)\n",
        "y_porcentaje = (y * 100 ) / total_clientes \n",
        "print (y_porcentaje)\n",
        "\n",
        "# Grafico de barras con Seaborn\n",
        "g = sns.barplot(data = df_final, x = y_porcentaje.index, y =  y_porcentaje)  \n",
        "g.set_title(\"Cantidad de clientes por los tipos de contratos que solicitaron la baja del servicio\")\n",
        "g.set_xlabel('Tipos de contrantos')\n",
        "g.set_ylabel('% de clientes')\n",
        "\n"
      ],
      "metadata": {
        "colab": {
          "base_uri": "https://localhost:8080/",
          "height": 469
        },
        "id": "bNwasMRXlIFe",
        "outputId": "5f9e0697-34f3-4ec9-f158-14f3cc048c82"
      },
      "execution_count": 25,
      "outputs": [
        {
          "output_type": "stream",
          "name": "stdout",
          "text": [
            "Month-to-Month    1655\n",
            "One Year           166\n",
            "Two Year            48\n",
            "Name: Contract, dtype: int64\n",
            "1869\n",
            "Month-to-Month    88.550027\n",
            "One Year           8.881755\n",
            "Two Year           2.568218\n",
            "Name: Contract, dtype: float64\n"
          ]
        },
        {
          "output_type": "execute_result",
          "data": {
            "text/plain": [
              "Text(0, 0.5, '% de clientes')"
            ]
          },
          "metadata": {},
          "execution_count": 25
        },
        {
          "output_type": "display_data",
          "data": {
            "text/plain": [
              "<Figure size 432x288 with 1 Axes>"
            ],
            "image/png": "[encoded data removed]"
          },
          "metadata": {
            "needs_background": "light"
          }
        }
      ]
    },
    {
      "cell_type": "markdown",
      "source": [
        "¿Que tipo de contranto tenian la mayoria de los clientes que abandonaron la empresa?\n",
        "Se observa que el 88% de los clientes que descontrataron el sevicio tenian un contrato de mes a mes.\n"
      ],
      "metadata": {
        "id": "vtvwfu3YIJAN"
      }
    }
  ]
}